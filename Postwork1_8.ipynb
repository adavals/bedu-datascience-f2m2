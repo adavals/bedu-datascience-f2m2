{
  "nbformat": 4,
  "nbformat_minor": 0,
  "metadata": {
    "colab": {
      "provenance": [],
      "include_colab_link": true
    },
    "kernelspec": {
      "name": "python3",
      "display_name": "Python 3"
    },
    "language_info": {
      "name": "python"
    }
  },
  "cells": [
    {
      "cell_type": "markdown",
      "metadata": {
        "id": "view-in-github",
        "colab_type": "text"
      },
      "source": [
        "<a href=\"https://colab.research.google.com/github/adavals/bedu-datascience-f2m2/blob/main/Postwork1_8.ipynb\" target=\"_parent\"><img src=\"https://colab.research.google.com/assets/colab-badge.svg\" alt=\"Open In Colab\"/></a>"
      ]
    },
    {
      "cell_type": "markdown",
      "source": [
        "Equipo 17"
      ],
      "metadata": {
        "id": "_vwq_lFkr-y-"
      }
    },
    {
      "cell_type": "markdown",
      "source": [
        "# POSTWORK 1 - DEFINICIÓN DEL PROBLEMA"
      ],
      "metadata": {
        "id": "U_jjWZ5ZruWb"
      }
    },
    {
      "cell_type": "markdown",
      "source": [
        "#INTRODUCCIÓN\n",
        "\n",
        "La canasta básica es un indicador económico importante que refleja el costo de los productos y servicios necesarios para satisfacer las necesidades básicas de una persona o familia. El conocimiento preciso y actualizado de los precios de la canasta básica es esencial para entender la inflación, la economía y la calidad de vida de la población. PROFECO, es una institución gubernamental encargada de proteger los derechos de los consumidores en México, que proporciona información sobre los precios de la canasta básica en forma de datos abiertos. Sin embargo, estos datos parecen no estar siendo utilizados adecuadamente por el público en general. Es necesario analizar y utilizar esta información de manera efectiva para tener una comprensión completa de la situación económica del país y para mejorar la calidad de vida de la población.\n",
        "\n",
        "#IDENTIFICACIÓN DEL PROBLEMA:\n",
        "\n",
        "1. Falta de publicación completa de los datos de la canasta básica en la revista del consumidor PROFECO.\n",
        "\n",
        "2. No se encontraron artículos de internet que hicieran referencia a los datos abiertos.\n",
        "\n",
        "3. La aplicación móvil \"Quien es quien en los precios\" es la única vía de comparación de precios disponible para el público en general.\n",
        "\n",
        "4. Los datos abiertos publicados por PROFECO no suelen ser analizados o publicados de forma completa en medios accesibles para el público.\n",
        "\n",
        "5. Falta de conocimiento del público en general sobre la disponibilidad y uso de los datos abiertos de la canasta básica.\n",
        "\n",
        "#INVESTIGACIÓN\n",
        "\n",
        "1. Revisar la información publicada en la página web oficial de PROFECO en México.\n",
        "2. Consultar la Revista del Consumidor de PROFECO para ver si hay artículos que hagan referencia a la canasta básica y su análisis.\n",
        "3. Verificar la disponibilidad y accesibilidad de la aplicación \"Quien es Quien en los precios\" para comparar precios y ver si se pueden utilizar para analizar los datos de la canasta básica.\n",
        "4. Consultar las estadísticas nacionales y estudios económicos para obtener información relevante sobre la economía, la inflación y los precios en México.\n",
        "\n",
        "#DEFINICION DEL PROBLEMA\n",
        "\n",
        "En una economía en constante fluctuación, el aumento de precios de los productos de la canasta básica es una realidad que afecta a la mayor parte de la población. Muchos de nosotros nos enfrentamos a la difícil tarea de hacer que nuestro dinero alcance para cubrir las necesidades básicas, mientras los precios suben sin cesar. En este contexto, es fundamental tener herramientas que nos permitan comparar los precios de los productos de consumo diario y tomar decisiones de compra más informadas, con el objetivo de ahorrar en nuestros gastos. ¿Cómo podemos acceder a información precisa y confiable sobre los precios de los productos básicos en diferentes lugares de compra, para elegir el que nos ofrezca el mejor valor por nuestro dinero?\n",
        "\n",
        "## Trabajos previos\n",
        "- Se examinaron algunos contenidos de Revista del consumidor PROFECO y no se encontró una publicación que analizara o hiciera referencia a este tipo de datos abiertos en forma completa, sólo los artículos referentes a un tipo de producto en particular que se publican cada mes pueden estar utilizando la información de los datos abiertos.\n",
        "- Se realizó búsqueda en internet de artículos que hicieran referencia a estos datos y no se encontró ninguno.\n",
        "- Se encontró en el portal oficial del gobierno de México el sitio web de Quien es Quien en los precios, relacionado con uno de los archivos de datos abiertos publicados, pero el sitio parece estár desconectado de la información actual y no muestra datos (https://www.profeco.gob.mx/precios/canasta/default.aspx)\n",
        "- Existe una aplicación en Google Playstore: Quien es quien en los precios, que ofrece algunas vías de comparación de precios y tiene una interfaz de usuario usable, aunque comprobamos que tiene fallas al iniciar en algunos dispositivos."
      ],
      "metadata": {
        "id": "XkCWC4pWlN7W"
      }
    },
    {
      "cell_type": "markdown",
      "source": [
        "# POSTWORK 2 - PLANTEAMIENTO DE PREGUNTAS"
      ],
      "metadata": {
        "id": "1lDiJV8wsGN9"
      }
    },
    {
      "cell_type": "markdown",
      "source": [
        "De acuerdo con el problema definido, se han planteado las siguientes preguntas:  \n",
        "\n",
        "*  ¿Cómo saber dónde comprar los productos de consumo?\n",
        "*  ¿Qué tiendas tienen en general precios más bajos cerca de una ubicación en particular?\n",
        "*  ¿Qué tienda tiene precios más bajos por tipo de producto (frutas, verduras, medicamentos, etc.)?\n",
        "*  ¿Para un producto en particular, de interés de un consumidor, qué tienda lo ha vendido más barato?\n",
        "*  ¿En qué estados los precios son más bajos/altos?\n",
        "*  Para una ubicación en particular ¿en qué segmento se ubican los precios de las tiendas cercanas (menor, medio, mayor)?\n",
        "*  ¿En qué tienda se puede conseguir el conjunto de los productos de la canasta básica a un precio más bajo?\n",
        "*  ¿Qué tienda tiene precios más bajos/más altos en los diferentes estados de la República?\n",
        "\n",
        "\n",
        "\n",
        "\n",
        "\n",
        "\n",
        "\n"
      ],
      "metadata": {
        "id": "t3c7e7absRyJ"
      }
    },
    {
      "cell_type": "markdown",
      "source": [
        "# POSTWORK 3 - COLECCIÓN DE DATOS"
      ],
      "metadata": {
        "id": "ll0j-nalx9sR"
      }
    },
    {
      "cell_type": "markdown",
      "source": [
        "Se buscaron datasets y APIs en diferentes sitios como Kaggle, gobierno, etc. pero queríamos que fuera actual la información la cual solo se encontraró en la Procuraduría Federal del Consumidor en México quién publica, en forma abierta, los datos que recolecta sobre los precios de una gran cantidad de productos en diferentes supermercados, farmacias y tiendas de conveniencia. [Datos abiertos al consumidor en el sitio de PROFECO](https://datos.profeco.gob.mx/datos_abiertos/).\n",
        "\n",
        "Estos datos están publicados en un archivo comprimido en formato .rar por año. Un archivo comprimido contiene varios archivos en formato excel csv. En cada archivo tiene de nombre el numero de semana y el año en que fueron recolectados los datos, en general hay un archivo por semana, por lo que, para el público en general es difícil aprovecharlos.\n",
        "\n",
        "El último archivo publicado de 2022 lo descargamos y está disponible en el siguiente enlace:\n",
        "[Diciembre 2022](https://raw.githubusercontent.com/adavals/bedu-datascience-f2m2/main/datasets/532022.csv)\n",
        "\n",
        "La descripción de la estructura del archivo está publicada bajo el título de [Diccionario de Datos](https://datos.profeco.gob.mx/diccionarioDatosQQP.php)\n",
        "\n",
        "Tratamos de conectarnos con la [API de PROFECO](https://datos.gob.mx/busca/dataset/quien-es-quien-en-los-precios/resource/408f99a4-04a7-4726-806c-f28b2e80fe00) pero no estaba activa y no pudimos usarla. \n",
        "\n",
        "Para complementar la información del código postal se utilizó la API  [COPOMEX - Código Postal Mexicano.](https://api.copomex.com/panel/).\n",
        "La cual tras previo registro se puede acceder al uso mediante un panel de control.\n"
      ],
      "metadata": {
        "id": "FLsLUDziyBQT"
      }
    },
    {
      "cell_type": "markdown",
      "source": [
        "# POSTWORK 4 - ANÁLISIS EXPLORATORIO"
      ],
      "metadata": {
        "id": "jDVFTARry8-i"
      }
    },
    {
      "cell_type": "markdown",
      "source": [
        "En este postwork analizamos nuestro conjunto de datos usando pandas.\n",
        "\n",
        "Hacemos el **análisis exploratorio** de datos para saber si:\n",
        "* ¿El conjunto de datos que tengo realmente me sirve para responder algunas de las preguntas que me planteé?\n",
        "\n",
        "     - Las preguntas que se plantearon incluyen clasificaciones de productos, precios de productos, comparaciones de precios, localizaciones de tiendas, etc y podemos ver que el conjunto de datos tiene direcciones y coordenadas geográficas de las tiendas que se pueden usar para saber dónde comprar, (incluso podemos obtener el Código postal de las direcciones para hacer consultas mediante este dato) categorías de productos, precios, etc; todos estos datos se pueden usar para obtener la respuesta de las preguntas que se plantearon al inicio del proyecto.\n",
        "\n",
        "* ¿Qué tamaño tiene mi conjunto de datos? ¿Serán datos suficientes?\n",
        "\n",
        "    - Encontramos una gran cantidad de archivos csv, que contienen información por fechas, nuestro análisis lo haremos tomando uno solo de los archivos, que contiene 256,423 registros con 15 columnas por cuestiones de capacidad técnica y que corresponde a la última semana de diciembre de 2022.\n",
        "\n",
        "* ¿Qué columnas tengo y qué información tengo en cada una de esas columnas?\n",
        "    - \n",
        "\n",
        "\n",
        "* Los nombres que tienen mis columnas, ¿son el nombre más apropiado?\n",
        "    - Los nombres de las columnas se asignaron al cargar el archivo csv de acuerdo a los datos observados, porque no teníamos información adicional del archivo.\n",
        "\n",
        "* ¿Qué tipos de datos tengo en cada columna? ¿Parecen ser el tipo correcto de datos? ¿O es un tipo de datos \"incorrecto\"?\n",
        "    - El tipo de dato de cada uno es correcto a excepción de la fecha. \n",
        "\n",
        "* Si selecciono algunas filas al azar y las observo, ¿estoy obteniendo los datos que debería? ¿o hay datos que parecen estar \"sucios\" o \"incorrectos\"?\n",
        "    - La base de datos parece tener datos limpios, solo tenemos falta de datos en las columnas de latitud y longitud.\n"
      ],
      "metadata": {
        "id": "wK0LNH5Ky_sD"
      }
    },
    {
      "cell_type": "code",
      "source": [
        "#Cargamos pandas\n",
        "import pandas as pd"
      ],
      "metadata": {
        "id": "0p3sggmGs_pY"
      },
      "execution_count": null,
      "outputs": []
    },
    {
      "cell_type": "code",
      "source": [
        "df = pd.read_csv('https://raw.githubusercontent.com/adavals/bedu-datascience-f2m2/main/datasets/532022.csv', names=['producto','presentacion','marca','categoria','grupo','precio','fecha','marca_tienda','tipo_tienda','nombre_tienda','direccion','estado','ciudad','latitud','longitud'])\n",
        "df.head(3)"
      ],
      "metadata": {
        "colab": {
          "base_uri": "https://localhost:8080/",
          "height": 364
        },
        "id": "he66AQEltEEQ",
        "outputId": "91ad0ca9-88bd-484a-b63c-4a0a9c661684"
      },
      "execution_count": null,
      "outputs": [
        {
          "output_type": "execute_result",
          "data": {
            "text/plain": [
              "  producto             presentacion   marca  \\\n",
              "0   ACEITE    BOTELLA 1 LT. VEGETAL   1-2-3   \n",
              "1   ACEITE  BOTELLA 850 ML. VEGETAL     AVE   \n",
              "2   ACEITE   BOTELLA 946 ML. CANOLA  CANOIL   \n",
              "\n",
              "                           categoria    grupo  precio       fecha  \\\n",
              "0  ACEITES Y GRASAS VEG. COMESTIBLES  BASICOS    56.0  2022-12-26   \n",
              "1  ACEITES Y GRASAS VEG. COMESTIBLES    PACIC    43.9  2022-12-26   \n",
              "2  ACEITES Y GRASAS VEG. COMESTIBLES  BASICOS    50.9  2022-12-26   \n",
              "\n",
              "   marca_tienda                            tipo_tienda  \\\n",
              "0  MEGA SORIANA  SUPERMERCADO / TIENDA DE AUTOSERVICIO   \n",
              "1  MEGA SORIANA  SUPERMERCADO / TIENDA DE AUTOSERVICIO   \n",
              "2  MEGA SORIANA  SUPERMERCADO / TIENDA DE AUTOSERVICIO   \n",
              "\n",
              "                          nombre_tienda  \\\n",
              "0  MEGA SORIANA SUCURSAL AGUASCALIENTES   \n",
              "1  MEGA SORIANA SUCURSAL AGUASCALIENTES   \n",
              "2  MEGA SORIANA SUCURSAL AGUASCALIENTES   \n",
              "\n",
              "                                           direccion          estado  \\\n",
              "0  AGUASCALIENTES NTE. 802, ESQ. BLVD. A ZACATECA...  AGUASCALIENTES   \n",
              "1  AGUASCALIENTES NTE. 802, ESQ. BLVD. A ZACATECA...  AGUASCALIENTES   \n",
              "2  AGUASCALIENTES NTE. 802, ESQ. BLVD. A ZACATECA...  AGUASCALIENTES   \n",
              "\n",
              "           ciudad    latitud    longitud  \n",
              "0  AGUASCALIENTES  21.916001 -102.290779  \n",
              "1  AGUASCALIENTES  21.916001 -102.290779  \n",
              "2  AGUASCALIENTES  21.916001 -102.290779  "
            ],
            "text/html": [
              "\n",
              "  <div id=\"df-d33f88a7-22df-45c6-b9e4-5f2f3cf9d655\">\n",
              "    <div class=\"colab-df-container\">\n",
              "      <div>\n",
              "<style scoped>\n",
              "    .dataframe tbody tr th:only-of-type {\n",
              "        vertical-align: middle;\n",
              "    }\n",
              "\n",
              "    .dataframe tbody tr th {\n",
              "        vertical-align: top;\n",
              "    }\n",
              "\n",
              "    .dataframe thead th {\n",
              "        text-align: right;\n",
              "    }\n",
              "</style>\n",
              "<table border=\"1\" class=\"dataframe\">\n",
              "  <thead>\n",
              "    <tr style=\"text-align: right;\">\n",
              "      <th></th>\n",
              "      <th>producto</th>\n",
              "      <th>presentacion</th>\n",
              "      <th>marca</th>\n",
              "      <th>categoria</th>\n",
              "      <th>grupo</th>\n",
              "      <th>precio</th>\n",
              "      <th>fecha</th>\n",
              "      <th>marca_tienda</th>\n",
              "      <th>tipo_tienda</th>\n",
              "      <th>nombre_tienda</th>\n",
              "      <th>direccion</th>\n",
              "      <th>estado</th>\n",
              "      <th>ciudad</th>\n",
              "      <th>latitud</th>\n",
              "      <th>longitud</th>\n",
              "    </tr>\n",
              "  </thead>\n",
              "  <tbody>\n",
              "    <tr>\n",
              "      <th>0</th>\n",
              "      <td>ACEITE</td>\n",
              "      <td>BOTELLA 1 LT. VEGETAL</td>\n",
              "      <td>1-2-3</td>\n",
              "      <td>ACEITES Y GRASAS VEG. COMESTIBLES</td>\n",
              "      <td>BASICOS</td>\n",
              "      <td>56.0</td>\n",
              "      <td>2022-12-26</td>\n",
              "      <td>MEGA SORIANA</td>\n",
              "      <td>SUPERMERCADO / TIENDA DE AUTOSERVICIO</td>\n",
              "      <td>MEGA SORIANA SUCURSAL AGUASCALIENTES</td>\n",
              "      <td>AGUASCALIENTES NTE. 802, ESQ. BLVD. A ZACATECA...</td>\n",
              "      <td>AGUASCALIENTES</td>\n",
              "      <td>AGUASCALIENTES</td>\n",
              "      <td>21.916001</td>\n",
              "      <td>-102.290779</td>\n",
              "    </tr>\n",
              "    <tr>\n",
              "      <th>1</th>\n",
              "      <td>ACEITE</td>\n",
              "      <td>BOTELLA 850 ML. VEGETAL</td>\n",
              "      <td>AVE</td>\n",
              "      <td>ACEITES Y GRASAS VEG. COMESTIBLES</td>\n",
              "      <td>PACIC</td>\n",
              "      <td>43.9</td>\n",
              "      <td>2022-12-26</td>\n",
              "      <td>MEGA SORIANA</td>\n",
              "      <td>SUPERMERCADO / TIENDA DE AUTOSERVICIO</td>\n",
              "      <td>MEGA SORIANA SUCURSAL AGUASCALIENTES</td>\n",
              "      <td>AGUASCALIENTES NTE. 802, ESQ. BLVD. A ZACATECA...</td>\n",
              "      <td>AGUASCALIENTES</td>\n",
              "      <td>AGUASCALIENTES</td>\n",
              "      <td>21.916001</td>\n",
              "      <td>-102.290779</td>\n",
              "    </tr>\n",
              "    <tr>\n",
              "      <th>2</th>\n",
              "      <td>ACEITE</td>\n",
              "      <td>BOTELLA 946 ML. CANOLA</td>\n",
              "      <td>CANOIL</td>\n",
              "      <td>ACEITES Y GRASAS VEG. COMESTIBLES</td>\n",
              "      <td>BASICOS</td>\n",
              "      <td>50.9</td>\n",
              "      <td>2022-12-26</td>\n",
              "      <td>MEGA SORIANA</td>\n",
              "      <td>SUPERMERCADO / TIENDA DE AUTOSERVICIO</td>\n",
              "      <td>MEGA SORIANA SUCURSAL AGUASCALIENTES</td>\n",
              "      <td>AGUASCALIENTES NTE. 802, ESQ. BLVD. A ZACATECA...</td>\n",
              "      <td>AGUASCALIENTES</td>\n",
              "      <td>AGUASCALIENTES</td>\n",
              "      <td>21.916001</td>\n",
              "      <td>-102.290779</td>\n",
              "    </tr>\n",
              "  </tbody>\n",
              "</table>\n",
              "</div>\n",
              "      <button class=\"colab-df-convert\" onclick=\"convertToInteractive('df-d33f88a7-22df-45c6-b9e4-5f2f3cf9d655')\"\n",
              "              title=\"Convert this dataframe to an interactive table.\"\n",
              "              style=\"display:none;\">\n",
              "        \n",
              "  <svg xmlns=\"http://www.w3.org/2000/svg\" height=\"24px\"viewBox=\"0 0 24 24\"\n",
              "       width=\"24px\">\n",
              "    <path d=\"M0 0h24v24H0V0z\" fill=\"none\"/>\n",
              "    <path d=\"M18.56 5.44l.94 2.06.94-2.06 2.06-.94-2.06-.94-.94-2.06-.94 2.06-2.06.94zm-11 1L8.5 8.5l.94-2.06 2.06-.94-2.06-.94L8.5 2.5l-.94 2.06-2.06.94zm10 10l.94 2.06.94-2.06 2.06-.94-2.06-.94-.94-2.06-.94 2.06-2.06.94z\"/><path d=\"M17.41 7.96l-1.37-1.37c-.4-.4-.92-.59-1.43-.59-.52 0-1.04.2-1.43.59L10.3 9.45l-7.72 7.72c-.78.78-.78 2.05 0 2.83L4 21.41c.39.39.9.59 1.41.59.51 0 1.02-.2 1.41-.59l7.78-7.78 2.81-2.81c.8-.78.8-2.07 0-2.86zM5.41 20L4 18.59l7.72-7.72 1.47 1.35L5.41 20z\"/>\n",
              "  </svg>\n",
              "      </button>\n",
              "      \n",
              "  <style>\n",
              "    .colab-df-container {\n",
              "      display:flex;\n",
              "      flex-wrap:wrap;\n",
              "      gap: 12px;\n",
              "    }\n",
              "\n",
              "    .colab-df-convert {\n",
              "      background-color: #E8F0FE;\n",
              "      border: none;\n",
              "      border-radius: 50%;\n",
              "      cursor: pointer;\n",
              "      display: none;\n",
              "      fill: #1967D2;\n",
              "      height: 32px;\n",
              "      padding: 0 0 0 0;\n",
              "      width: 32px;\n",
              "    }\n",
              "\n",
              "    .colab-df-convert:hover {\n",
              "      background-color: #E2EBFA;\n",
              "      box-shadow: 0px 1px 2px rgba(60, 64, 67, 0.3), 0px 1px 3px 1px rgba(60, 64, 67, 0.15);\n",
              "      fill: #174EA6;\n",
              "    }\n",
              "\n",
              "    [theme=dark] .colab-df-convert {\n",
              "      background-color: #3B4455;\n",
              "      fill: #D2E3FC;\n",
              "    }\n",
              "\n",
              "    [theme=dark] .colab-df-convert:hover {\n",
              "      background-color: #434B5C;\n",
              "      box-shadow: 0px 1px 3px 1px rgba(0, 0, 0, 0.15);\n",
              "      filter: drop-shadow(0px 1px 2px rgba(0, 0, 0, 0.3));\n",
              "      fill: #FFFFFF;\n",
              "    }\n",
              "  </style>\n",
              "\n",
              "      <script>\n",
              "        const buttonEl =\n",
              "          document.querySelector('#df-d33f88a7-22df-45c6-b9e4-5f2f3cf9d655 button.colab-df-convert');\n",
              "        buttonEl.style.display =\n",
              "          google.colab.kernel.accessAllowed ? 'block' : 'none';\n",
              "\n",
              "        async function convertToInteractive(key) {\n",
              "          const element = document.querySelector('#df-d33f88a7-22df-45c6-b9e4-5f2f3cf9d655');\n",
              "          const dataTable =\n",
              "            await google.colab.kernel.invokeFunction('convertToInteractive',\n",
              "                                                     [key], {});\n",
              "          if (!dataTable) return;\n",
              "\n",
              "          const docLinkHtml = 'Like what you see? Visit the ' +\n",
              "            '<a target=\"_blank\" href=https://colab.research.google.com/notebooks/data_table.ipynb>data table notebook</a>'\n",
              "            + ' to learn more about interactive tables.';\n",
              "          element.innerHTML = '';\n",
              "          dataTable['output_type'] = 'display_data';\n",
              "          await google.colab.output.renderOutput(dataTable, element);\n",
              "          const docLink = document.createElement('div');\n",
              "          docLink.innerHTML = docLinkHtml;\n",
              "          element.appendChild(docLink);\n",
              "        }\n",
              "      </script>\n",
              "    </div>\n",
              "  </div>\n",
              "  "
            ]
          },
          "metadata": {},
          "execution_count": 3
        }
      ]
    },
    {
      "cell_type": "code",
      "source": [
        "df.tail(3)"
      ],
      "metadata": {
        "colab": {
          "base_uri": "https://localhost:8080/",
          "height": 503
        },
        "id": "uTZlCsqI5N5x",
        "outputId": "a30da854-d2f2-4dfc-9c3f-22d681a0efd9"
      },
      "execution_count": null,
      "outputs": [
        {
          "output_type": "execute_result",
          "data": {
            "text/plain": [
              "                producto                         presentacion marca  \\\n",
              "256420              XL-3  CAJA CON 2 CARTERAS. 4 TABLETAS C/U   S/M   \n",
              "256421           XL-3 VR                     CAJA 24 TABLETAS   S/M   \n",
              "256422  TORTILLA DE MAIZ                         1 KG. GRANEL   S/M   \n",
              "\n",
              "                             categoria         grupo  precio       fecha  \\\n",
              "256420                    MEDICAMENTOS  MEDICAMENTOS   18.97  2022-12-30   \n",
              "256421                    MEDICAMENTOS  MEDICAMENTOS   88.91  2022-12-30   \n",
              "256422  TORTILLAS Y DERIVADOS DEL MAIZ       BASICOS   20.00  2022-12-30   \n",
              "\n",
              "                      marca_tienda                            tipo_tienda  \\\n",
              "256420                   ISSSTEZAC  SUPERMERCADO / TIENDA DE AUTOSERVICIO   \n",
              "256421                   ISSSTEZAC  SUPERMERCADO / TIENDA DE AUTOSERVICIO   \n",
              "256422  TORTILLERIAS TRADICIONALES                           TORTILLERÍAS   \n",
              "\n",
              "               nombre_tienda  \\\n",
              "256420  ISSSTEZAC SUCURSAL 2   \n",
              "256421  ISSSTEZAC SUCURSAL 2   \n",
              "256422   TORTILLERIA LA CRUZ   \n",
              "\n",
              "                                                direccion     estado  \\\n",
              "256420  BLVD LOPEZ PORTILLO 238, ENTRE CALLE SICOMORO ...  ZACATECAS   \n",
              "256421  BLVD LOPEZ PORTILLO 238, ENTRE CALLE SICOMORO ...  ZACATECAS   \n",
              "256422  DE LA CRUZ 9, ENTRE JOSE MARIA RODRIGUEZ Y COL...  ZACATECAS   \n",
              "\n",
              "           ciudad    latitud    longitud  \n",
              "256420  ZACATECAS  22.757732 -102.538580  \n",
              "256421  ZACATECAS  22.757732 -102.538580  \n",
              "256422  ZACATECAS  22.750167 -102.520612  "
            ],
            "text/html": [
              "\n",
              "  <div id=\"df-d41bbd19-8e2a-4017-9c3a-3182370f494f\">\n",
              "    <div class=\"colab-df-container\">\n",
              "      <div>\n",
              "<style scoped>\n",
              "    .dataframe tbody tr th:only-of-type {\n",
              "        vertical-align: middle;\n",
              "    }\n",
              "\n",
              "    .dataframe tbody tr th {\n",
              "        vertical-align: top;\n",
              "    }\n",
              "\n",
              "    .dataframe thead th {\n",
              "        text-align: right;\n",
              "    }\n",
              "</style>\n",
              "<table border=\"1\" class=\"dataframe\">\n",
              "  <thead>\n",
              "    <tr style=\"text-align: right;\">\n",
              "      <th></th>\n",
              "      <th>producto</th>\n",
              "      <th>presentacion</th>\n",
              "      <th>marca</th>\n",
              "      <th>categoria</th>\n",
              "      <th>grupo</th>\n",
              "      <th>precio</th>\n",
              "      <th>fecha</th>\n",
              "      <th>marca_tienda</th>\n",
              "      <th>tipo_tienda</th>\n",
              "      <th>nombre_tienda</th>\n",
              "      <th>direccion</th>\n",
              "      <th>estado</th>\n",
              "      <th>ciudad</th>\n",
              "      <th>latitud</th>\n",
              "      <th>longitud</th>\n",
              "    </tr>\n",
              "  </thead>\n",
              "  <tbody>\n",
              "    <tr>\n",
              "      <th>256420</th>\n",
              "      <td>XL-3</td>\n",
              "      <td>CAJA CON 2 CARTERAS. 4 TABLETAS C/U</td>\n",
              "      <td>S/M</td>\n",
              "      <td>MEDICAMENTOS</td>\n",
              "      <td>MEDICAMENTOS</td>\n",
              "      <td>18.97</td>\n",
              "      <td>2022-12-30</td>\n",
              "      <td>ISSSTEZAC</td>\n",
              "      <td>SUPERMERCADO / TIENDA DE AUTOSERVICIO</td>\n",
              "      <td>ISSSTEZAC SUCURSAL 2</td>\n",
              "      <td>BLVD LOPEZ PORTILLO 238, ENTRE CALLE SICOMORO ...</td>\n",
              "      <td>ZACATECAS</td>\n",
              "      <td>ZACATECAS</td>\n",
              "      <td>22.757732</td>\n",
              "      <td>-102.538580</td>\n",
              "    </tr>\n",
              "    <tr>\n",
              "      <th>256421</th>\n",
              "      <td>XL-3 VR</td>\n",
              "      <td>CAJA 24 TABLETAS</td>\n",
              "      <td>S/M</td>\n",
              "      <td>MEDICAMENTOS</td>\n",
              "      <td>MEDICAMENTOS</td>\n",
              "      <td>88.91</td>\n",
              "      <td>2022-12-30</td>\n",
              "      <td>ISSSTEZAC</td>\n",
              "      <td>SUPERMERCADO / TIENDA DE AUTOSERVICIO</td>\n",
              "      <td>ISSSTEZAC SUCURSAL 2</td>\n",
              "      <td>BLVD LOPEZ PORTILLO 238, ENTRE CALLE SICOMORO ...</td>\n",
              "      <td>ZACATECAS</td>\n",
              "      <td>ZACATECAS</td>\n",
              "      <td>22.757732</td>\n",
              "      <td>-102.538580</td>\n",
              "    </tr>\n",
              "    <tr>\n",
              "      <th>256422</th>\n",
              "      <td>TORTILLA DE MAIZ</td>\n",
              "      <td>1 KG. GRANEL</td>\n",
              "      <td>S/M</td>\n",
              "      <td>TORTILLAS Y DERIVADOS DEL MAIZ</td>\n",
              "      <td>BASICOS</td>\n",
              "      <td>20.00</td>\n",
              "      <td>2022-12-30</td>\n",
              "      <td>TORTILLERIAS TRADICIONALES</td>\n",
              "      <td>TORTILLERÍAS</td>\n",
              "      <td>TORTILLERIA LA CRUZ</td>\n",
              "      <td>DE LA CRUZ 9, ENTRE JOSE MARIA RODRIGUEZ Y COL...</td>\n",
              "      <td>ZACATECAS</td>\n",
              "      <td>ZACATECAS</td>\n",
              "      <td>22.750167</td>\n",
              "      <td>-102.520612</td>\n",
              "    </tr>\n",
              "  </tbody>\n",
              "</table>\n",
              "</div>\n",
              "      <button class=\"colab-df-convert\" onclick=\"convertToInteractive('df-d41bbd19-8e2a-4017-9c3a-3182370f494f')\"\n",
              "              title=\"Convert this dataframe to an interactive table.\"\n",
              "              style=\"display:none;\">\n",
              "        \n",
              "  <svg xmlns=\"http://www.w3.org/2000/svg\" height=\"24px\"viewBox=\"0 0 24 24\"\n",
              "       width=\"24px\">\n",
              "    <path d=\"M0 0h24v24H0V0z\" fill=\"none\"/>\n",
              "    <path d=\"M18.56 5.44l.94 2.06.94-2.06 2.06-.94-2.06-.94-.94-2.06-.94 2.06-2.06.94zm-11 1L8.5 8.5l.94-2.06 2.06-.94-2.06-.94L8.5 2.5l-.94 2.06-2.06.94zm10 10l.94 2.06.94-2.06 2.06-.94-2.06-.94-.94-2.06-.94 2.06-2.06.94z\"/><path d=\"M17.41 7.96l-1.37-1.37c-.4-.4-.92-.59-1.43-.59-.52 0-1.04.2-1.43.59L10.3 9.45l-7.72 7.72c-.78.78-.78 2.05 0 2.83L4 21.41c.39.39.9.59 1.41.59.51 0 1.02-.2 1.41-.59l7.78-7.78 2.81-2.81c.8-.78.8-2.07 0-2.86zM5.41 20L4 18.59l7.72-7.72 1.47 1.35L5.41 20z\"/>\n",
              "  </svg>\n",
              "      </button>\n",
              "      \n",
              "  <style>\n",
              "    .colab-df-container {\n",
              "      display:flex;\n",
              "      flex-wrap:wrap;\n",
              "      gap: 12px;\n",
              "    }\n",
              "\n",
              "    .colab-df-convert {\n",
              "      background-color: #E8F0FE;\n",
              "      border: none;\n",
              "      border-radius: 50%;\n",
              "      cursor: pointer;\n",
              "      display: none;\n",
              "      fill: #1967D2;\n",
              "      height: 32px;\n",
              "      padding: 0 0 0 0;\n",
              "      width: 32px;\n",
              "    }\n",
              "\n",
              "    .colab-df-convert:hover {\n",
              "      background-color: #E2EBFA;\n",
              "      box-shadow: 0px 1px 2px rgba(60, 64, 67, 0.3), 0px 1px 3px 1px rgba(60, 64, 67, 0.15);\n",
              "      fill: #174EA6;\n",
              "    }\n",
              "\n",
              "    [theme=dark] .colab-df-convert {\n",
              "      background-color: #3B4455;\n",
              "      fill: #D2E3FC;\n",
              "    }\n",
              "\n",
              "    [theme=dark] .colab-df-convert:hover {\n",
              "      background-color: #434B5C;\n",
              "      box-shadow: 0px 1px 3px 1px rgba(0, 0, 0, 0.15);\n",
              "      filter: drop-shadow(0px 1px 2px rgba(0, 0, 0, 0.3));\n",
              "      fill: #FFFFFF;\n",
              "    }\n",
              "  </style>\n",
              "\n",
              "      <script>\n",
              "        const buttonEl =\n",
              "          document.querySelector('#df-d41bbd19-8e2a-4017-9c3a-3182370f494f button.colab-df-convert');\n",
              "        buttonEl.style.display =\n",
              "          google.colab.kernel.accessAllowed ? 'block' : 'none';\n",
              "\n",
              "        async function convertToInteractive(key) {\n",
              "          const element = document.querySelector('#df-d41bbd19-8e2a-4017-9c3a-3182370f494f');\n",
              "          const dataTable =\n",
              "            await google.colab.kernel.invokeFunction('convertToInteractive',\n",
              "                                                     [key], {});\n",
              "          if (!dataTable) return;\n",
              "\n",
              "          const docLinkHtml = 'Like what you see? Visit the ' +\n",
              "            '<a target=\"_blank\" href=https://colab.research.google.com/notebooks/data_table.ipynb>data table notebook</a>'\n",
              "            + ' to learn more about interactive tables.';\n",
              "          element.innerHTML = '';\n",
              "          dataTable['output_type'] = 'display_data';\n",
              "          await google.colab.output.renderOutput(dataTable, element);\n",
              "          const docLink = document.createElement('div');\n",
              "          docLink.innerHTML = docLinkHtml;\n",
              "          element.appendChild(docLink);\n",
              "        }\n",
              "      </script>\n",
              "    </div>\n",
              "  </div>\n",
              "  "
            ]
          },
          "metadata": {},
          "execution_count": 44
        }
      ]
    },
    {
      "cell_type": "code",
      "source": [
        "df.shape"
      ],
      "metadata": {
        "colab": {
          "base_uri": "https://localhost:8080/"
        },
        "id": "70Rg9AG2x-wJ",
        "outputId": "af4d99e6-c24e-481d-ea00-e745583270df"
      },
      "execution_count": null,
      "outputs": [
        {
          "output_type": "execute_result",
          "data": {
            "text/plain": [
              "(256423, 15)"
            ]
          },
          "metadata": {},
          "execution_count": 45
        }
      ]
    },
    {
      "cell_type": "code",
      "source": [
        "df.dtypes"
      ],
      "metadata": {
        "colab": {
          "base_uri": "https://localhost:8080/"
        },
        "id": "BnYsn5BBx7Fs",
        "outputId": "7bef9ea5-1de0-4761-aecf-031e873b6f8f"
      },
      "execution_count": null,
      "outputs": [
        {
          "output_type": "execute_result",
          "data": {
            "text/plain": [
              "producto          object\n",
              "presentacion      object\n",
              "marca             object\n",
              "categoria         object\n",
              "grupo             object\n",
              "precio           float64\n",
              "fecha             object\n",
              "marca_tienda      object\n",
              "tipo_tienda       object\n",
              "nombre_tienda     object\n",
              "direccion         object\n",
              "estado            object\n",
              "ciudad            object\n",
              "latitud          float64\n",
              "longitud         float64\n",
              "dtype: object"
            ]
          },
          "metadata": {},
          "execution_count": 46
        }
      ]
    },
    {
      "cell_type": "code",
      "source": [
        "df.loc[0]"
      ],
      "metadata": {
        "colab": {
          "base_uri": "https://localhost:8080/"
        },
        "id": "eThrlLeYzRVL",
        "outputId": "7bd8d0ec-f001-467c-b138-a8646c75dd81"
      },
      "execution_count": null,
      "outputs": [
        {
          "output_type": "execute_result",
          "data": {
            "text/plain": [
              "producto                                                    ACEITE\n",
              "presentacion                                 BOTELLA 1 LT. VEGETAL\n",
              "marca                                                        1-2-3\n",
              "categoria                        ACEITES Y GRASAS VEG. COMESTIBLES\n",
              "grupo                                                      BASICOS\n",
              "precio                                                        56.0\n",
              "fecha                                                   2022-12-26\n",
              "marca_tienda                                          MEGA SORIANA\n",
              "tipo_tienda                  SUPERMERCADO / TIENDA DE AUTOSERVICIO\n",
              "nombre_tienda                 MEGA SORIANA SUCURSAL AGUASCALIENTES\n",
              "direccion        AGUASCALIENTES NTE. 802, ESQ. BLVD. A ZACATECA...\n",
              "estado                                              AGUASCALIENTES\n",
              "ciudad                                              AGUASCALIENTES\n",
              "latitud                                                  21.916001\n",
              "longitud                                               -102.290779\n",
              "Name: 0, dtype: object"
            ]
          },
          "metadata": {},
          "execution_count": 47
        }
      ]
    },
    {
      "cell_type": "code",
      "source": [
        "df.info()"
      ],
      "metadata": {
        "colab": {
          "base_uri": "https://localhost:8080/"
        },
        "id": "tK48i0Pm0pfw",
        "outputId": "aa762d20-a144-4450-fa90-4c1f0054e2bc"
      },
      "execution_count": null,
      "outputs": [
        {
          "output_type": "stream",
          "name": "stdout",
          "text": [
            "<class 'pandas.core.frame.DataFrame'>\n",
            "RangeIndex: 256423 entries, 0 to 256422\n",
            "Data columns (total 15 columns):\n",
            " #   Column         Non-Null Count   Dtype  \n",
            "---  ------         --------------   -----  \n",
            " 0   producto       256423 non-null  object \n",
            " 1   presentacion   256423 non-null  object \n",
            " 2   marca          256423 non-null  object \n",
            " 3   categoria      256423 non-null  object \n",
            " 4   grupo          256423 non-null  object \n",
            " 5   precio         256423 non-null  float64\n",
            " 6   fecha          256423 non-null  object \n",
            " 7   marca_tienda   256423 non-null  object \n",
            " 8   tipo_tienda    256423 non-null  object \n",
            " 9   nombre_tienda  256423 non-null  object \n",
            " 10  direccion      256423 non-null  object \n",
            " 11  estado         256423 non-null  object \n",
            " 12  ciudad         256423 non-null  object \n",
            " 13  latitud        255516 non-null  float64\n",
            " 14  longitud       255516 non-null  float64\n",
            "dtypes: float64(3), object(12)\n",
            "memory usage: 29.3+ MB\n"
          ]
        }
      ]
    },
    {
      "cell_type": "code",
      "source": [
        "df.columns"
      ],
      "metadata": {
        "colab": {
          "base_uri": "https://localhost:8080/"
        },
        "id": "5UCqFPxw6URv",
        "outputId": "b521fda6-9ed9-4d8e-aae7-d9638ccfa821"
      },
      "execution_count": null,
      "outputs": [
        {
          "output_type": "execute_result",
          "data": {
            "text/plain": [
              "Index(['producto', 'presentacion', 'marca', 'categoria', 'grupo', 'precio',\n",
              "       'fecha', 'marca_tienda', 'tipo_tienda', 'nombre_tienda', 'direccion',\n",
              "       'estado', 'ciudad', 'latitud', 'longitud'],\n",
              "      dtype='object')"
            ]
          },
          "metadata": {},
          "execution_count": 49
        }
      ]
    },
    {
      "cell_type": "markdown",
      "source": [
        "# POSTWORK 5"
      ],
      "metadata": {
        "id": "XXWJ4VZPzr1s"
      }
    },
    {
      "cell_type": "markdown",
      "source": [
        "Limpieza de DataFrame es sumamente importante para poder utilizarlo después de manera cómoda y apropiada. También vamos a explorar nuestro dataset usando agregaciones para ver si podemos empezar a responder algunas de las preguntas que nos hemos planteado. Los pasos que debes de seguir son los siguientes:\n",
        "\n",
        "* Explora tu dataset con el fin de encontrar los NaNs que contiene. Piensa en la distribución de NaNs por columna y por fila.\n",
        "* Piensa cuáles son los procedimientos que puedes aplicar a tus NaNs. ¿Tenemos que eliminar las filas/columnas que tienen esos NaNs? ¿O podríamos rellenar esos NaNs con algún valor de manera que podamos retener esas filas/columnas?\n",
        "* Limpia tu dataset de manera que no quede ningún NaN.\n",
        "* Reindexa tu dataset si lo consideras necesario.\n",
        "* Renombra tus columnas si lo consideras necesario.\n",
        "* Prueba aplicar agregaciones a tu DataFrame para ver si puedes empezar a responder algunas de las preguntas que te planteaste anteriormente. Aquí tienes una lista de algunas de las funciones que puedes utilizar para agregar/reducir tu dataset."
      ],
      "metadata": {
        "id": "ormB1g8-zuhK"
      }
    },
    {
      "cell_type": "code",
      "source": [
        "#Se revisa la cantidad de filas y columnas, asi como su tipo de datos\n",
        "print('Cantidad de Filas y columnas: ', df.shape)\n",
        "print('Nombre columnas: ', df.dtypes)"
      ],
      "metadata": {
        "id": "RL6PXF3uEaiw",
        "colab": {
          "base_uri": "https://localhost:8080/"
        },
        "outputId": "b0b90632-75df-47eb-f814-cdff17a21cbe"
      },
      "execution_count": null,
      "outputs": [
        {
          "output_type": "stream",
          "name": "stdout",
          "text": [
            "Cantidad de Filas y columnas:  (256423, 15)\n",
            "Nombre columnas:  producto          object\n",
            "presentacion      object\n",
            "marca             object\n",
            "categoria         object\n",
            "grupo             object\n",
            "precio           float64\n",
            "fecha             object\n",
            "marca_tienda      object\n",
            "tipo_tienda       object\n",
            "nombre_tienda     object\n",
            "direccion         object\n",
            "estado            object\n",
            "ciudad            object\n",
            "latitud          float64\n",
            "longitud         float64\n",
            "dtype: object\n"
          ]
        }
      ]
    },
    {
      "cell_type": "code",
      "source": [
        "#Se detecta la columna fecha como tipo de dato object y se cambia tipo fecha\n",
        "df['fecha'] = pd.to_datetime(df['fecha'])"
      ],
      "metadata": {
        "id": "tkFIaXt3VTn7"
      },
      "execution_count": null,
      "outputs": []
    },
    {
      "cell_type": "code",
      "source": [
        "#Se revisa la informacion del dataset y se detecta que las columnas latitud y longitud \n",
        "#tienen menos datos que las otras columnas\n",
        "df.info()"
      ],
      "metadata": {
        "colab": {
          "base_uri": "https://localhost:8080/"
        },
        "id": "2UNQQ6byVYmA",
        "outputId": "2949ef03-5e6b-4617-bf18-d443c5b96d71"
      },
      "execution_count": null,
      "outputs": [
        {
          "output_type": "stream",
          "name": "stdout",
          "text": [
            "<class 'pandas.core.frame.DataFrame'>\n",
            "RangeIndex: 256423 entries, 0 to 256422\n",
            "Data columns (total 15 columns):\n",
            " #   Column         Non-Null Count   Dtype         \n",
            "---  ------         --------------   -----         \n",
            " 0   producto       256423 non-null  object        \n",
            " 1   presentacion   256423 non-null  object        \n",
            " 2   marca          256423 non-null  object        \n",
            " 3   categoria      256423 non-null  object        \n",
            " 4   grupo          256423 non-null  object        \n",
            " 5   precio         256423 non-null  float64       \n",
            " 6   fecha          256423 non-null  datetime64[ns]\n",
            " 7   marca_tienda   256423 non-null  object        \n",
            " 8   tipo_tienda    256423 non-null  object        \n",
            " 9   nombre_tienda  256423 non-null  object        \n",
            " 10  direccion      256423 non-null  object        \n",
            " 11  estado         256423 non-null  object        \n",
            " 12  ciudad         256423 non-null  object        \n",
            " 13  latitud        255516 non-null  float64       \n",
            " 14  longitud       255516 non-null  float64       \n",
            "dtypes: datetime64[ns](1), float64(3), object(11)\n",
            "memory usage: 29.3+ MB\n"
          ]
        }
      ]
    },
    {
      "cell_type": "code",
      "source": [
        "#Se revisa los valores nulos en las columnas y se confirma que existen valores nulos en las columnas latitud y longitud\n",
        "df.isna().sum(axis=0)"
      ],
      "metadata": {
        "colab": {
          "base_uri": "https://localhost:8080/"
        },
        "id": "vYgXzljRVcMi",
        "outputId": "e2b24d49-606a-4767-a302-7888dd9f83cd"
      },
      "execution_count": null,
      "outputs": [
        {
          "output_type": "execute_result",
          "data": {
            "text/plain": [
              "producto           0\n",
              "presentacion       0\n",
              "marca              0\n",
              "categoria          0\n",
              "grupo              0\n",
              "precio             0\n",
              "fecha              0\n",
              "marca_tienda       0\n",
              "tipo_tienda        0\n",
              "nombre_tienda      0\n",
              "direccion          0\n",
              "estado             0\n",
              "ciudad             0\n",
              "latitud          907\n",
              "longitud         907\n",
              "dtype: int64"
            ]
          },
          "metadata": {},
          "execution_count": 7
        }
      ]
    },
    {
      "cell_type": "code",
      "source": [
        "#Eliminar filas NaNs y filas duplicadas  \n",
        "df = df.dropna(axis=0, how='any')\n",
        "df = df.drop_duplicates()"
      ],
      "metadata": {
        "id": "qTW0TmzeVd-_"
      },
      "execution_count": null,
      "outputs": []
    },
    {
      "cell_type": "code",
      "source": [
        "#Se asigna un indice\n",
        "df.insert(0, 'indice', range(1, 1 + len(df)))\n",
        "df = df.set_index('indice')\n",
        "\n",
        "#Extraer codigo postal de la columna direccion\n",
        "df['CP'] = df['direccion'].str[-5:]"
      ],
      "metadata": {
        "id": "2yJ-IuhNVf8H"
      },
      "execution_count": null,
      "outputs": []
    },
    {
      "cell_type": "code",
      "source": [
        "#verificar los análisis estadísticos de todas la columnas del dataframe\n",
        "#Nos dice que hay 708 productos y 134 marcas de tienda distribuidos en 255516 filas\n",
        "#el producto y marca de tienda que mas se repiten son REFRESCO y WAL-MART\n",
        "df.describe(include = \"all\")"
      ],
      "metadata": {
        "colab": {
          "base_uri": "https://localhost:8080/",
          "height": 695
        },
        "id": "6s7LWkP4Vk5j",
        "outputId": "9951d57d-6b69-4a7a-c8d0-a88461e1a59c"
      },
      "execution_count": null,
      "outputs": [
        {
          "output_type": "stream",
          "name": "stderr",
          "text": [
            "<ipython-input-10-14df1829a173>:4: FutureWarning: Treating datetime data as categorical rather than numeric in `.describe` is deprecated and will be removed in a future version of pandas. Specify `datetime_is_numeric=True` to silence this warning and adopt the future behavior now.\n",
            "  df.describe(include = \"all\")\n"
          ]
        },
        {
          "output_type": "execute_result",
          "data": {
            "text/plain": [
              "        producto  presentacion   marca     categoria    grupo         precio  \\\n",
              "count     255516        255516  255516        255516   255516  255516.000000   \n",
              "unique       708          2768     807            40        9            NaN   \n",
              "top     REFRESCO  1 KG. GRANEL     S/M  MEDICAMENTOS  BASICOS            NaN   \n",
              "freq        5338          3573   84827         54836   123377            NaN   \n",
              "first        NaN           NaN     NaN           NaN      NaN            NaN   \n",
              "last         NaN           NaN     NaN           NaN      NaN            NaN   \n",
              "mean         NaN           NaN     NaN           NaN      NaN     632.072448   \n",
              "std          NaN           NaN     NaN           NaN      NaN    2349.578727   \n",
              "min          NaN           NaN     NaN           NaN      NaN       1.300000   \n",
              "25%          NaN           NaN     NaN           NaN      NaN      29.500000   \n",
              "50%          NaN           NaN     NaN           NaN      NaN      63.000000   \n",
              "75%          NaN           NaN     NaN           NaN      NaN     315.600000   \n",
              "max          NaN           NaN     NaN           NaN      NaN   67149.000000   \n",
              "\n",
              "                      fecha marca_tienda  \\\n",
              "count                255516       255516   \n",
              "unique                    5          134   \n",
              "top     2022-12-27 00:00:00     WAL-MART   \n",
              "freq                  59334        41517   \n",
              "first   2022-12-26 00:00:00          NaN   \n",
              "last    2022-12-30 00:00:00          NaN   \n",
              "mean                    NaN          NaN   \n",
              "std                     NaN          NaN   \n",
              "min                     NaN          NaN   \n",
              "25%                     NaN          NaN   \n",
              "50%                     NaN          NaN   \n",
              "75%                     NaN          NaN   \n",
              "max                     NaN          NaN   \n",
              "\n",
              "                                  tipo_tienda nombre_tienda  \\\n",
              "count                                  255516        255516   \n",
              "unique                                     13          1208   \n",
              "top     SUPERMERCADO / TIENDA DE AUTOSERVICIO      WAL MART   \n",
              "freq                                   205627          2371   \n",
              "first                                     NaN           NaN   \n",
              "last                                      NaN           NaN   \n",
              "mean                                      NaN           NaN   \n",
              "std                                       NaN           NaN   \n",
              "min                                       NaN           NaN   \n",
              "25%                                       NaN           NaN   \n",
              "50%                                       NaN           NaN   \n",
              "75%                                       NaN           NaN   \n",
              "max                                       NaN           NaN   \n",
              "\n",
              "                                                direccion            estado  \\\n",
              "count                                              255516            255516   \n",
              "unique                                               1266                29   \n",
              "top     REVOLUCION 780, ENTRE RUBENS Y HOLBEIN, COL. M...  CIUDAD DE MÉXICO   \n",
              "freq                                                 1464             56128   \n",
              "first                                                 NaN               NaN   \n",
              "last                                                  NaN               NaN   \n",
              "mean                                                  NaN               NaN   \n",
              "std                                                   NaN               NaN   \n",
              "min                                                   NaN               NaN   \n",
              "25%                                                   NaN               NaN   \n",
              "50%                                                   NaN               NaN   \n",
              "75%                                                   NaN               NaN   \n",
              "max                                                   NaN               NaN   \n",
              "\n",
              "        ciudad        latitud       longitud      CP  \n",
              "count   255516  255516.000000  255516.000000  255516  \n",
              "unique      67            NaN            NaN     509  \n",
              "top       LEÓN            NaN            NaN   98600  \n",
              "freq     13850            NaN            NaN    5581  \n",
              "first      NaN            NaN            NaN     NaN  \n",
              "last       NaN            NaN            NaN     NaN  \n",
              "mean       NaN      20.881830     -99.508514     NaN  \n",
              "std        NaN       2.936894       4.970139     NaN  \n",
              "min        NaN      16.736944    -117.041677     NaN  \n",
              "25%        NaN      19.345444    -101.647188     NaN  \n",
              "50%        NaN      19.614073     -99.199154     NaN  \n",
              "75%        NaN      21.153407     -99.005579     NaN  \n",
              "max        NaN      32.535127     -86.824104     NaN  "
            ],
            "text/html": [
              "\n",
              "  <div id=\"df-b87fc71c-799a-4da0-8819-f0e8dd65f3de\">\n",
              "    <div class=\"colab-df-container\">\n",
              "      <div>\n",
              "<style scoped>\n",
              "    .dataframe tbody tr th:only-of-type {\n",
              "        vertical-align: middle;\n",
              "    }\n",
              "\n",
              "    .dataframe tbody tr th {\n",
              "        vertical-align: top;\n",
              "    }\n",
              "\n",
              "    .dataframe thead th {\n",
              "        text-align: right;\n",
              "    }\n",
              "</style>\n",
              "<table border=\"1\" class=\"dataframe\">\n",
              "  <thead>\n",
              "    <tr style=\"text-align: right;\">\n",
              "      <th></th>\n",
              "      <th>producto</th>\n",
              "      <th>presentacion</th>\n",
              "      <th>marca</th>\n",
              "      <th>categoria</th>\n",
              "      <th>grupo</th>\n",
              "      <th>precio</th>\n",
              "      <th>fecha</th>\n",
              "      <th>marca_tienda</th>\n",
              "      <th>tipo_tienda</th>\n",
              "      <th>nombre_tienda</th>\n",
              "      <th>direccion</th>\n",
              "      <th>estado</th>\n",
              "      <th>ciudad</th>\n",
              "      <th>latitud</th>\n",
              "      <th>longitud</th>\n",
              "      <th>CP</th>\n",
              "    </tr>\n",
              "  </thead>\n",
              "  <tbody>\n",
              "    <tr>\n",
              "      <th>count</th>\n",
              "      <td>255516</td>\n",
              "      <td>255516</td>\n",
              "      <td>255516</td>\n",
              "      <td>255516</td>\n",
              "      <td>255516</td>\n",
              "      <td>255516.000000</td>\n",
              "      <td>255516</td>\n",
              "      <td>255516</td>\n",
              "      <td>255516</td>\n",
              "      <td>255516</td>\n",
              "      <td>255516</td>\n",
              "      <td>255516</td>\n",
              "      <td>255516</td>\n",
              "      <td>255516.000000</td>\n",
              "      <td>255516.000000</td>\n",
              "      <td>255516</td>\n",
              "    </tr>\n",
              "    <tr>\n",
              "      <th>unique</th>\n",
              "      <td>708</td>\n",
              "      <td>2768</td>\n",
              "      <td>807</td>\n",
              "      <td>40</td>\n",
              "      <td>9</td>\n",
              "      <td>NaN</td>\n",
              "      <td>5</td>\n",
              "      <td>134</td>\n",
              "      <td>13</td>\n",
              "      <td>1208</td>\n",
              "      <td>1266</td>\n",
              "      <td>29</td>\n",
              "      <td>67</td>\n",
              "      <td>NaN</td>\n",
              "      <td>NaN</td>\n",
              "      <td>509</td>\n",
              "    </tr>\n",
              "    <tr>\n",
              "      <th>top</th>\n",
              "      <td>REFRESCO</td>\n",
              "      <td>1 KG. GRANEL</td>\n",
              "      <td>S/M</td>\n",
              "      <td>MEDICAMENTOS</td>\n",
              "      <td>BASICOS</td>\n",
              "      <td>NaN</td>\n",
              "      <td>2022-12-27 00:00:00</td>\n",
              "      <td>WAL-MART</td>\n",
              "      <td>SUPERMERCADO / TIENDA DE AUTOSERVICIO</td>\n",
              "      <td>WAL MART</td>\n",
              "      <td>REVOLUCION 780, ENTRE RUBENS Y HOLBEIN, COL. M...</td>\n",
              "      <td>CIUDAD DE MÉXICO</td>\n",
              "      <td>LEÓN</td>\n",
              "      <td>NaN</td>\n",
              "      <td>NaN</td>\n",
              "      <td>98600</td>\n",
              "    </tr>\n",
              "    <tr>\n",
              "      <th>freq</th>\n",
              "      <td>5338</td>\n",
              "      <td>3573</td>\n",
              "      <td>84827</td>\n",
              "      <td>54836</td>\n",
              "      <td>123377</td>\n",
              "      <td>NaN</td>\n",
              "      <td>59334</td>\n",
              "      <td>41517</td>\n",
              "      <td>205627</td>\n",
              "      <td>2371</td>\n",
              "      <td>1464</td>\n",
              "      <td>56128</td>\n",
              "      <td>13850</td>\n",
              "      <td>NaN</td>\n",
              "      <td>NaN</td>\n",
              "      <td>5581</td>\n",
              "    </tr>\n",
              "    <tr>\n",
              "      <th>first</th>\n",
              "      <td>NaN</td>\n",
              "      <td>NaN</td>\n",
              "      <td>NaN</td>\n",
              "      <td>NaN</td>\n",
              "      <td>NaN</td>\n",
              "      <td>NaN</td>\n",
              "      <td>2022-12-26 00:00:00</td>\n",
              "      <td>NaN</td>\n",
              "      <td>NaN</td>\n",
              "      <td>NaN</td>\n",
              "      <td>NaN</td>\n",
              "      <td>NaN</td>\n",
              "      <td>NaN</td>\n",
              "      <td>NaN</td>\n",
              "      <td>NaN</td>\n",
              "      <td>NaN</td>\n",
              "    </tr>\n",
              "    <tr>\n",
              "      <th>last</th>\n",
              "      <td>NaN</td>\n",
              "      <td>NaN</td>\n",
              "      <td>NaN</td>\n",
              "      <td>NaN</td>\n",
              "      <td>NaN</td>\n",
              "      <td>NaN</td>\n",
              "      <td>2022-12-30 00:00:00</td>\n",
              "      <td>NaN</td>\n",
              "      <td>NaN</td>\n",
              "      <td>NaN</td>\n",
              "      <td>NaN</td>\n",
              "      <td>NaN</td>\n",
              "      <td>NaN</td>\n",
              "      <td>NaN</td>\n",
              "      <td>NaN</td>\n",
              "      <td>NaN</td>\n",
              "    </tr>\n",
              "    <tr>\n",
              "      <th>mean</th>\n",
              "      <td>NaN</td>\n",
              "      <td>NaN</td>\n",
              "      <td>NaN</td>\n",
              "      <td>NaN</td>\n",
              "      <td>NaN</td>\n",
              "      <td>632.072448</td>\n",
              "      <td>NaN</td>\n",
              "      <td>NaN</td>\n",
              "      <td>NaN</td>\n",
              "      <td>NaN</td>\n",
              "      <td>NaN</td>\n",
              "      <td>NaN</td>\n",
              "      <td>NaN</td>\n",
              "      <td>20.881830</td>\n",
              "      <td>-99.508514</td>\n",
              "      <td>NaN</td>\n",
              "    </tr>\n",
              "    <tr>\n",
              "      <th>std</th>\n",
              "      <td>NaN</td>\n",
              "      <td>NaN</td>\n",
              "      <td>NaN</td>\n",
              "      <td>NaN</td>\n",
              "      <td>NaN</td>\n",
              "      <td>2349.578727</td>\n",
              "      <td>NaN</td>\n",
              "      <td>NaN</td>\n",
              "      <td>NaN</td>\n",
              "      <td>NaN</td>\n",
              "      <td>NaN</td>\n",
              "      <td>NaN</td>\n",
              "      <td>NaN</td>\n",
              "      <td>2.936894</td>\n",
              "      <td>4.970139</td>\n",
              "      <td>NaN</td>\n",
              "    </tr>\n",
              "    <tr>\n",
              "      <th>min</th>\n",
              "      <td>NaN</td>\n",
              "      <td>NaN</td>\n",
              "      <td>NaN</td>\n",
              "      <td>NaN</td>\n",
              "      <td>NaN</td>\n",
              "      <td>1.300000</td>\n",
              "      <td>NaN</td>\n",
              "      <td>NaN</td>\n",
              "      <td>NaN</td>\n",
              "      <td>NaN</td>\n",
              "      <td>NaN</td>\n",
              "      <td>NaN</td>\n",
              "      <td>NaN</td>\n",
              "      <td>16.736944</td>\n",
              "      <td>-117.041677</td>\n",
              "      <td>NaN</td>\n",
              "    </tr>\n",
              "    <tr>\n",
              "      <th>25%</th>\n",
              "      <td>NaN</td>\n",
              "      <td>NaN</td>\n",
              "      <td>NaN</td>\n",
              "      <td>NaN</td>\n",
              "      <td>NaN</td>\n",
              "      <td>29.500000</td>\n",
              "      <td>NaN</td>\n",
              "      <td>NaN</td>\n",
              "      <td>NaN</td>\n",
              "      <td>NaN</td>\n",
              "      <td>NaN</td>\n",
              "      <td>NaN</td>\n",
              "      <td>NaN</td>\n",
              "      <td>19.345444</td>\n",
              "      <td>-101.647188</td>\n",
              "      <td>NaN</td>\n",
              "    </tr>\n",
              "    <tr>\n",
              "      <th>50%</th>\n",
              "      <td>NaN</td>\n",
              "      <td>NaN</td>\n",
              "      <td>NaN</td>\n",
              "      <td>NaN</td>\n",
              "      <td>NaN</td>\n",
              "      <td>63.000000</td>\n",
              "      <td>NaN</td>\n",
              "      <td>NaN</td>\n",
              "      <td>NaN</td>\n",
              "      <td>NaN</td>\n",
              "      <td>NaN</td>\n",
              "      <td>NaN</td>\n",
              "      <td>NaN</td>\n",
              "      <td>19.614073</td>\n",
              "      <td>-99.199154</td>\n",
              "      <td>NaN</td>\n",
              "    </tr>\n",
              "    <tr>\n",
              "      <th>75%</th>\n",
              "      <td>NaN</td>\n",
              "      <td>NaN</td>\n",
              "      <td>NaN</td>\n",
              "      <td>NaN</td>\n",
              "      <td>NaN</td>\n",
              "      <td>315.600000</td>\n",
              "      <td>NaN</td>\n",
              "      <td>NaN</td>\n",
              "      <td>NaN</td>\n",
              "      <td>NaN</td>\n",
              "      <td>NaN</td>\n",
              "      <td>NaN</td>\n",
              "      <td>NaN</td>\n",
              "      <td>21.153407</td>\n",
              "      <td>-99.005579</td>\n",
              "      <td>NaN</td>\n",
              "    </tr>\n",
              "    <tr>\n",
              "      <th>max</th>\n",
              "      <td>NaN</td>\n",
              "      <td>NaN</td>\n",
              "      <td>NaN</td>\n",
              "      <td>NaN</td>\n",
              "      <td>NaN</td>\n",
              "      <td>67149.000000</td>\n",
              "      <td>NaN</td>\n",
              "      <td>NaN</td>\n",
              "      <td>NaN</td>\n",
              "      <td>NaN</td>\n",
              "      <td>NaN</td>\n",
              "      <td>NaN</td>\n",
              "      <td>NaN</td>\n",
              "      <td>32.535127</td>\n",
              "      <td>-86.824104</td>\n",
              "      <td>NaN</td>\n",
              "    </tr>\n",
              "  </tbody>\n",
              "</table>\n",
              "</div>\n",
              "      <button class=\"colab-df-convert\" onclick=\"convertToInteractive('df-b87fc71c-799a-4da0-8819-f0e8dd65f3de')\"\n",
              "              title=\"Convert this dataframe to an interactive table.\"\n",
              "              style=\"display:none;\">\n",
              "        \n",
              "  <svg xmlns=\"http://www.w3.org/2000/svg\" height=\"24px\"viewBox=\"0 0 24 24\"\n",
              "       width=\"24px\">\n",
              "    <path d=\"M0 0h24v24H0V0z\" fill=\"none\"/>\n",
              "    <path d=\"M18.56 5.44l.94 2.06.94-2.06 2.06-.94-2.06-.94-.94-2.06-.94 2.06-2.06.94zm-11 1L8.5 8.5l.94-2.06 2.06-.94-2.06-.94L8.5 2.5l-.94 2.06-2.06.94zm10 10l.94 2.06.94-2.06 2.06-.94-2.06-.94-.94-2.06-.94 2.06-2.06.94z\"/><path d=\"M17.41 7.96l-1.37-1.37c-.4-.4-.92-.59-1.43-.59-.52 0-1.04.2-1.43.59L10.3 9.45l-7.72 7.72c-.78.78-.78 2.05 0 2.83L4 21.41c.39.39.9.59 1.41.59.51 0 1.02-.2 1.41-.59l7.78-7.78 2.81-2.81c.8-.78.8-2.07 0-2.86zM5.41 20L4 18.59l7.72-7.72 1.47 1.35L5.41 20z\"/>\n",
              "  </svg>\n",
              "      </button>\n",
              "      \n",
              "  <style>\n",
              "    .colab-df-container {\n",
              "      display:flex;\n",
              "      flex-wrap:wrap;\n",
              "      gap: 12px;\n",
              "    }\n",
              "\n",
              "    .colab-df-convert {\n",
              "      background-color: #E8F0FE;\n",
              "      border: none;\n",
              "      border-radius: 50%;\n",
              "      cursor: pointer;\n",
              "      display: none;\n",
              "      fill: #1967D2;\n",
              "      height: 32px;\n",
              "      padding: 0 0 0 0;\n",
              "      width: 32px;\n",
              "    }\n",
              "\n",
              "    .colab-df-convert:hover {\n",
              "      background-color: #E2EBFA;\n",
              "      box-shadow: 0px 1px 2px rgba(60, 64, 67, 0.3), 0px 1px 3px 1px rgba(60, 64, 67, 0.15);\n",
              "      fill: #174EA6;\n",
              "    }\n",
              "\n",
              "    [theme=dark] .colab-df-convert {\n",
              "      background-color: #3B4455;\n",
              "      fill: #D2E3FC;\n",
              "    }\n",
              "\n",
              "    [theme=dark] .colab-df-convert:hover {\n",
              "      background-color: #434B5C;\n",
              "      box-shadow: 0px 1px 3px 1px rgba(0, 0, 0, 0.15);\n",
              "      filter: drop-shadow(0px 1px 2px rgba(0, 0, 0, 0.3));\n",
              "      fill: #FFFFFF;\n",
              "    }\n",
              "  </style>\n",
              "\n",
              "      <script>\n",
              "        const buttonEl =\n",
              "          document.querySelector('#df-b87fc71c-799a-4da0-8819-f0e8dd65f3de button.colab-df-convert');\n",
              "        buttonEl.style.display =\n",
              "          google.colab.kernel.accessAllowed ? 'block' : 'none';\n",
              "\n",
              "        async function convertToInteractive(key) {\n",
              "          const element = document.querySelector('#df-b87fc71c-799a-4da0-8819-f0e8dd65f3de');\n",
              "          const dataTable =\n",
              "            await google.colab.kernel.invokeFunction('convertToInteractive',\n",
              "                                                     [key], {});\n",
              "          if (!dataTable) return;\n",
              "\n",
              "          const docLinkHtml = 'Like what you see? Visit the ' +\n",
              "            '<a target=\"_blank\" href=https://colab.research.google.com/notebooks/data_table.ipynb>data table notebook</a>'\n",
              "            + ' to learn more about interactive tables.';\n",
              "          element.innerHTML = '';\n",
              "          dataTable['output_type'] = 'display_data';\n",
              "          await google.colab.output.renderOutput(dataTable, element);\n",
              "          const docLink = document.createElement('div');\n",
              "          docLink.innerHTML = docLinkHtml;\n",
              "          element.appendChild(docLink);\n",
              "        }\n",
              "      </script>\n",
              "    </div>\n",
              "  </div>\n",
              "  "
            ]
          },
          "metadata": {},
          "execution_count": 10
        }
      ]
    },
    {
      "cell_type": "code",
      "source": [
        "#verificar los análisis estadísticos de la columna producto\n",
        "df['producto'].describe()"
      ],
      "metadata": {
        "colab": {
          "base_uri": "https://localhost:8080/"
        },
        "id": "gec6-80gVlj4",
        "outputId": "5b39f3fa-5e70-4c27-83a3-67bd3b2ef1d0"
      },
      "execution_count": null,
      "outputs": [
        {
          "output_type": "execute_result",
          "data": {
            "text/plain": [
              "count       255516\n",
              "unique         708\n",
              "top       REFRESCO\n",
              "freq          5338\n",
              "Name: producto, dtype: object"
            ]
          },
          "metadata": {},
          "execution_count": 11
        }
      ]
    },
    {
      "cell_type": "code",
      "source": [
        "#Se realiza un conteo de los productos que se repiten mas y se selecciona una muestra\n",
        "df.groupby(\"producto\").size().sort_values(ascending=False)"
      ],
      "metadata": {
        "colab": {
          "base_uri": "https://localhost:8080/"
        },
        "id": "hN2SILM7Vnax",
        "outputId": "ef2c60c2-5b33-42ca-d40f-138a1d88983d"
      },
      "execution_count": null,
      "outputs": [
        {
          "output_type": "execute_result",
          "data": {
            "text/plain": [
              "producto\n",
              "REFRESCO           5338\n",
              "VARIOS             5264\n",
              "JUEGOS DE MESA     4324\n",
              "TOALLA FEMENINA    4083\n",
              "PASTA PARA SOPA    3947\n",
              "                   ... \n",
              "HALCION               1\n",
              "CARPA                 1\n",
              "JAIBON                1\n",
              "COMPETACT             1\n",
              "PARGO                 1\n",
              "Length: 708, dtype: int64"
            ]
          },
          "metadata": {},
          "execution_count": 12
        }
      ]
    },
    {
      "cell_type": "code",
      "source": [
        "#Muestra de los productos\n",
        "dict_buscar_prod = {'producto': ['CARNE CERDO', 'JAMON', 'PASTA PARA SOPA','FRIJOL', 'ACEITE', 'AZUCAR','TORTILLA DE MAIZ', 'ARROZ']}\n",
        "df_buscar_prod = pd.DataFrame(dict_buscar_prod) \n",
        "print(df_buscar_prod)   "
      ],
      "metadata": {
        "colab": {
          "base_uri": "https://localhost:8080/"
        },
        "id": "5lR9zobAVpCg",
        "outputId": "9d5a9efa-934e-445b-ad8b-525848510f63"
      },
      "execution_count": null,
      "outputs": [
        {
          "output_type": "stream",
          "name": "stdout",
          "text": [
            "           producto\n",
            "0       CARNE CERDO\n",
            "1             JAMON\n",
            "2   PASTA PARA SOPA\n",
            "3            FRIJOL\n",
            "4            ACEITE\n",
            "5            AZUCAR\n",
            "6  TORTILLA DE MAIZ\n",
            "7             ARROZ\n"
          ]
        }
      ]
    },
    {
      "cell_type": "code",
      "source": [
        "#El producto ARROZ se vende en estas presentacion\n",
        "df[df['producto']=='ARROZ'].groupby(['presentacion']).size()"
      ],
      "metadata": {
        "colab": {
          "base_uri": "https://localhost:8080/"
        },
        "id": "1AEYA9oPVsTy",
        "outputId": "7e228546-a177-434e-d633-d1fe620ac02b"
      },
      "execution_count": null,
      "outputs": [
        {
          "output_type": "execute_result",
          "data": {
            "text/plain": [
              "presentacion\n",
              "1 KG. GRANEL. CHICO QUEBRADO               15\n",
              "1 KG. GRANEL. GRANDE ENTERO                53\n",
              "BOLSA 1 KG.                                63\n",
              "BOLSA 1 KG. SUPER EXTRA                   185\n",
              "BOLSA 900 GR. EXTRA. (GRANO LARGO)        137\n",
              "BOLSA 900 GR. SUPER EXTRA                 665\n",
              "BOLSA 900 GR. SUPER EXTRA. GRANO LARGO     69\n",
              "BOLSA 907 GR. BLANCO. EXTRA                 1\n",
              "BOLSA 907 GR. EXTRA                         7\n",
              "BOLSA 907 GR. SUPER EXTRA                 358\n",
              "BOLSA 907 GR. SUPER EXTRA. GRUESO          56\n",
              "CAJA 750 GR. SUPER EXTRA                   10\n",
              "dtype: int64"
            ]
          },
          "metadata": {},
          "execution_count": 14
        }
      ]
    },
    {
      "cell_type": "markdown",
      "source": [
        "# POSTWORK 6"
      ],
      "metadata": {
        "id": "u7kQfZT00Bqn"
      }
    },
    {
      "cell_type": "markdown",
      "source": [
        "En este Postwork vamos a dejar descansar un poquito nuestro dataset. La única manera de entender a la perfección cómo utilizar APIs es usándolas. Y eso es lo que vamos a hacer. Vamos a elegir un API y construir un nuevo dataset utilizando peticiones HTTP y concatenaciones. Puede que sea un API que complemente tu dataset original (eso sería lo mejor de lo mejor), o puede simplemente que sea un API que ofrezca información que te parezca interesante. Los pasos a seguir son estos:\n",
        "\n",
        "Encuentra un API que quieras explorar. Puedes encontrar una lista enorme de APIs gratuitas aquí. https://github.com/public-apis/public-apis\n",
        "\n",
        "* Crea una cuenta si es necesario.\n",
        "\n",
        "* Lee la documentación.\n",
        "\n",
        "* Realiza algunas peticiones de prueba para entender la estructura de los datos (si quieres explorar un poco, puedes intentar hacer peticiones usando este software).\n",
        "\n",
        "* Automatiza el proceso de realizar peticiones para obtener un dataset considerablemente grande.\n",
        "\n",
        "* Explora y limpia tu dataset.\n",
        "\n",
        "* Si has encontrado un dataset que complementa la información de tu dataset original (el que has estado trabajando durante todas las sesiones), ve si puedes unirlos en solo DataFrame que incluya la información útil de ambos.\n",
        "\n",
        "* Extra: Puedes también explorar la posibilidad de automatizar algunos de los procesos de limpieza que has realizado con tu dataset. Si encuentras dónde podría ser útil y te animas a hacerlo, recuerda proteger tu código con estructuras try except para que la automatización no falle."
      ],
      "metadata": {
        "id": "5RT39_9Z0emi"
      }
    },
    {
      "cell_type": "markdown",
      "source": [
        "# POSTWORK 7"
      ],
      "metadata": {
        "id": "4UAPUX-B0EnH"
      }
    },
    {
      "cell_type": "markdown",
      "source": [
        "Para el correcto análisis y explotación de la información la mayoría de las veces es necesario aplicar algunas transformaciones que incluyen el filtrado para conservar únicamente la información objeto de nuestro estudio, la creación de columnas calculadas para un propósito específico, el casting de columnas con tipos de datos incorrectos y el agrupamiento y reordenamiento de la información que en ocasiones derivan en nuevos datasets."
      ],
      "metadata": {
        "id": "IQgY3KKR1JWI"
      }
    },
    {
      "cell_type": "markdown",
      "source": [
        "* Tras el análisis exploratorio de datos nos percatamos de que las fechas no se encuentran en el formato correcto, por lo que es necesario aplicar un casting."
      ],
      "metadata": {
        "id": "BfbjKlgOBqD5"
      }
    },
    {
      "cell_type": "code",
      "source": [
        "#Casting de fechas a datetime64[ns]\n",
        "df['fecha']=pd.to_datetime(df['fecha'], unit='ns')"
      ],
      "metadata": {
        "id": "wuXJwudACDf0"
      },
      "execution_count": null,
      "outputs": []
    },
    {
      "cell_type": "markdown",
      "source": [
        "* Por cuestiones prácticas nos concentraremos en los productos del catálogo PACIC (Paquete Contra la Inflación y la Carestía) que se enfoca en productos de la canasta básica."
      ],
      "metadata": {
        "id": "MAOlBiH2FgE8"
      }
    },
    {
      "cell_type": "code",
      "source": [
        "grupo_pacic = df['grupo']=='PACIC'\n",
        "df=df[grupo_pacic]"
      ],
      "metadata": {
        "colab": {
          "base_uri": "https://localhost:8080/"
        },
        "id": "qhoypWaSNtPa",
        "outputId": "a1d108e2-a047-4b6d-8800-0ba6837bff90"
      },
      "execution_count": null,
      "outputs": [
        {
          "output_type": "stream",
          "name": "stderr",
          "text": [
            "<ipython-input-62-fb287b28485b>:1: UserWarning: Boolean Series key will be reindexed to match DataFrame index.\n",
            "  df=df[grupo_pacic]\n"
          ]
        }
      ]
    },
    {
      "cell_type": "code",
      "source": [
        "df.shape\n",
        "df.head(5)"
      ],
      "metadata": {
        "colab": {
          "base_uri": "https://localhost:8080/"
        },
        "id": "4uLCZkUGFrNh",
        "outputId": "989589ad-6a24-474d-d067-ef34aba30de5"
      },
      "execution_count": null,
      "outputs": [
        {
          "output_type": "execute_result",
          "data": {
            "text/plain": [
              "(11730, 15)"
            ]
          },
          "metadata": {},
          "execution_count": 60
        }
      ]
    },
    {
      "cell_type": "markdown",
      "source": [
        "# POSTWORK 8"
      ],
      "metadata": {
        "id": "H2-cYPh00Hps"
      }
    },
    {
      "cell_type": "markdown",
      "source": [
        "Este módulo se llamó Procesamiento de Datos con Python. Eso significa que nuestro objetivo era aprender a adquirir, leer, explorar, limpiar, transformar y estructurar un conjunto de datos para prepararlo para su futuro análisis y visualización. Hasta ahora seguramente habrás realizado ya gran parte de esos procesos. Lo que toca ahora es embellecerlos y ordenarlos.\n",
        "\n",
        "Este último Postwork tiene 2 Partes:\n",
        "\n",
        "* La primera parte consiste en tomar todo lo que hemos hecho hasta ahora y colocarlo limpio y ordenado en un Jupyter Notebook. Una de las maravillas de los Jupyter Notebooks es que nos permiten intercalar texto con código, de manera que podamos ir \"guiando\" al lector a través de nuestro hilo de pensamiento. Bueno, imagina que quieres explicarle a alguien todo lo que has hecho usando solamente un Jupyter Notebook. No puedes hablar con esta persona ni aclararle cosas: todo debe de estar clarificado en el Notebook. Para embellecer un poco tus celdas de texto, puedes usar lenguaje Markdown. Asegúrate de empezar con una introducción donde hables acerca del tema que te llamó la atención. Explica por qué quisiste abordar este tema, cuáles fueron tus preguntas iniciales, y el problema que te gustaría resolver.\n",
        "La segunda parte consiste en hacer planes para el futuro. El Procesamiento de Datos es sólo la fase \"preparatoria\". Después siguen las tres fases que le terminan de dar forma a todo proyecto de Ciencia de Datos: Análisis Estadístico, Visualización y Predicción/Inferencia. Esta última fase (Predicción) no siempre está presente y no siempre es necesaria. Pero el Análisis Estadístico y la Visualización son partes intrínsecas de la Ciencia de Datos. \n",
        "\n",
        "* La segunda parte de este Postwork consiste en hacer planes a futuro. Piensa qué puedes hacer con los datos que tienes. ¿Qué te gustaría analizar? ¿Qué información está disponible en tus datos? ¿Cómo podrías ayudarte a entender mejor los datos usando gráficas y visualizaciones? Haz una lista de tus planes a futuro. Seguramente esa lista irá cambiando conforme avances en el siguiente módulo, pero es un gran comienzo para tener una dirección clara."
      ],
      "metadata": {
        "id": "xZtrQh741fJ2"
      }
    },
    {
      "cell_type": "code",
      "source": [
        "!pip install mpu\n"
      ],
      "metadata": {
        "colab": {
          "base_uri": "https://localhost:8080/"
        },
        "id": "CC981tMX_r_3",
        "outputId": "d6bde5f4-7322-4bfc-e8c7-17e29fa764e7"
      },
      "execution_count": null,
      "outputs": [
        {
          "output_type": "stream",
          "name": "stdout",
          "text": [
            "Looking in indexes: https://pypi.org/simple, https://us-python.pkg.dev/colab-wheels/public/simple/\n",
            "Collecting mpu\n",
            "  Downloading mpu-0.23.1-py3-none-any.whl (69 kB)\n",
            "\u001b[?25l     \u001b[90m━━━━━━━━━━━━━━━━━━━━━━━━━━━━━━━━━━━━━━━━\u001b[0m \u001b[32m0.0/69.7 KB\u001b[0m \u001b[31m?\u001b[0m eta \u001b[36m-:--:--\u001b[0m\r\u001b[2K     \u001b[90m━━━━━━━━━━━━━━━━━━━━━━━━━━━━━━━━━━━━━━━━\u001b[0m \u001b[32m69.7/69.7 KB\u001b[0m \u001b[31m3.1 MB/s\u001b[0m eta \u001b[36m0:00:00\u001b[0m\n",
            "\u001b[?25hInstalling collected packages: mpu\n",
            "Successfully installed mpu-0.23.1\n"
          ]
        }
      ]
    },
    {
      "cell_type": "code",
      "source": [
        "import mpu"
      ],
      "metadata": {
        "id": "pWD5dpAuKPkN"
      },
      "execution_count": null,
      "outputs": []
    },
    {
      "cell_type": "code",
      "source": [
        "munich = (48.1372, 11.5756)\n",
        "berlin = (52.5186, 13.4083)\n",
        "round(mpu.haversine_distance(munich, berlin), 1)\n"
      ],
      "metadata": {
        "colab": {
          "base_uri": "https://localhost:8080/"
        },
        "id": "MrYx30up_-wa",
        "outputId": "0a14afcd-6d09-45da-a1aa-98d246e24bc4"
      },
      "execution_count": null,
      "outputs": [
        {
          "output_type": "execute_result",
          "data": {
            "text/plain": [
              "504.2"
            ]
          },
          "metadata": {},
          "execution_count": 10
        }
      ]
    }
  ]
}