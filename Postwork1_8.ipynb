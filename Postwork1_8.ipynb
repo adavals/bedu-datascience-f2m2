{
  "nbformat": 4,
  "nbformat_minor": 0,
  "metadata": {
    "colab": {
      "provenance": [],
      "include_colab_link": true
    },
    "kernelspec": {
      "name": "python3",
      "display_name": "Python 3"
    },
    "language_info": {
      "name": "python"
    }
  },
  "cells": [
    {
      "cell_type": "markdown",
      "metadata": {
        "id": "view-in-github",
        "colab_type": "text"
      },
      "source": [
        "<a href=\"https://colab.research.google.com/github/adavals/bedu-datascience-f2m2/blob/main/Postwork1_8.ipynb\" target=\"_parent\"><img src=\"https://colab.research.google.com/assets/colab-badge.svg\" alt=\"Open In Colab\"/></a>"
      ]
    },
    {
      "cell_type": "markdown",
      "source": [
        "Equipo 17"
      ],
      "metadata": {
        "id": "_vwq_lFkr-y-"
      }
    },
    {
      "cell_type": "markdown",
      "source": [
        "# POSTWORK 1 - DEFINICIÓN DEL PROBLEMA"
      ],
      "metadata": {
        "id": "U_jjWZ5ZruWb"
      }
    },
    {
      "cell_type": "markdown",
      "source": [
        "#INTRODUCCIÓN\n",
        "\n",
        "La canasta básica es un indicador económico importante que refleja el costo de los productos y servicios necesarios para satisfacer las necesidades básicas de una persona o familia. El conocimiento preciso y actualizado de los precios de la canasta básica es esencial para entender la inflación, la economía y la calidad de vida de la población. PROFECO, es una institución gubernamental encargada de proteger los derechos de los consumidores en México, que proporciona información sobre los precios de la canasta básica en forma de datos abiertos. Sin embargo, estos datos parecen no estar siendo utilizados adecuadamente por el público en general. Es necesario analizar y utilizar esta información de manera efectiva para tener una comprensión completa de la situación económica del país y para mejorar la calidad de vida de la población.\n",
        "\n",
        "#IDENTIFICACIÓN DEL PROBLEMA:\n",
        "\n",
        "1. Falta de publicación completa de los datos de la canasta básica en la revista del consumidor PROFECO.\n",
        "\n",
        "2. No se encontraron artículos de internet que hicieran referencia a los datos abiertos.\n",
        "\n",
        "3. La aplicación móvil \"Quien es quien en los precios\" es la única vía de comparación de precios disponible para el público en general.\n",
        "\n",
        "4. Los datos abiertos publicados por PROFECO no suelen ser analizados o publicados de forma completa en medios accesibles para el público.\n",
        "\n",
        "5. Falta de conocimiento del público en general sobre la disponibilidad y uso de los datos abiertos de la canasta básica.\n",
        "\n",
        "#INVESTIGACIÓN\n",
        "\n",
        "1. Revisar la información publicada en la página web oficial de PROFECO en México.\n",
        "2. Consultar la Revista del Consumidor de PROFECO para ver si hay artículos que hagan referencia a la canasta básica y su análisis.\n",
        "3. Verificar la disponibilidad y accesibilidad de la aplicación \"Quien es Quien en los precios\" para comparar precios y ver si se pueden utilizar para analizar los datos de la canasta básica.\n",
        "4. Consultar las estadísticas nacionales y estudios económicos para obtener información relevante sobre la economía, la inflación y los precios en México.\n",
        "\n",
        "#DEFINICION DEL PROBLEMA\n",
        "\n",
        "En una economía en constante fluctuación, el aumento de precios de los productos de la canasta básica es una realidad que afecta a la mayor parte de la población. Muchos de nosotros nos enfrentamos a la difícil tarea de hacer que nuestro dinero alcance para cubrir las necesidades básicas, mientras los precios suben sin cesar. En este contexto, es fundamental tener herramientas que nos permitan comparar los precios de los productos de consumo diario y tomar decisiones de compra más informadas, con el objetivo de ahorrar en nuestros gastos. ¿Cómo podemos acceder a información precisa y confiable sobre los precios de los productos básicos en diferentes lugares de compra, para elegir el que nos ofrezca el mejor valor por nuestro dinero?\n",
        "\n",
        "## Trabajos previos\n",
        "- Se examinaron algunos contenidos de Revista del consumidor PROFECO y no se encontró una publicación que analizara o hiciera referencia a este tipo de datos abiertos en forma completa, sólo los artículos referentes a un tipo de producto en particular que se publican cada mes pueden estar utilizando la información de los datos abiertos.\n",
        "- Se realizó búsqueda en internet de artículos que hicieran referencia a estos datos y no se encontró ninguno.\n",
        "- Se encontró en el portal oficial del gobierno de México el sitio web de Quien es Quien en los precios, relacionado con uno de los archivos de datos abiertos publicados, pero el sitio parece estár desconectado de la información actual y no muestra datos (https://www.profeco.gob.mx/precios/canasta/default.aspx)\n",
        "- Existe una aplicación en Google Playstore: Quien es quien en los precios, que ofrece algunas vías de comparación de precios y tiene una interfaz de usuario usable, aunque comprobamos que tiene fallas al iniciar en algunos dispositivos."
      ],
      "metadata": {
        "id": "XkCWC4pWlN7W"
      }
    },
    {
      "cell_type": "markdown",
      "source": [
        "# POSTWORK 2 - PLANTEAMIENTO DE PREGUNTAS"
      ],
      "metadata": {
        "id": "1lDiJV8wsGN9"
      }
    },
    {
      "cell_type": "markdown",
      "source": [
        "De acuerdo con el problema definido, se han planteado las siguientes preguntas:  \n",
        "\n",
        "*  ¿Cómo saber dónde comprar los productos de consumo?\n",
        "*  ¿Qué tiendas tienen en general precios más bajos cerca de una ubicación en particular?\n",
        "*  ¿Qué tienda tiene precios más bajos por tipo de producto (frutas, verduras, medicamentos, etc.)?\n",
        "*  ¿Para un producto en particular, de interés de un consumidor, qué tienda lo ha vendido más barato?\n",
        "*  ¿En qué estados los precios son más bajos/altos?\n",
        "*  Para una ubicación en particular ¿en qué segmento se ubican los precios de las tiendas cercanas (menor, medio, mayor)?\n",
        "*  ¿En qué tienda se puede conseguir el conjunto de los productos de la canasta básica a un precio más bajo?\n",
        "*  ¿Qué tienda tiene precios más bajos/más altos en los diferentes estados de la República?\n",
        "\n",
        "\n",
        "\n",
        "\n",
        "\n",
        "\n",
        "\n"
      ],
      "metadata": {
        "id": "t3c7e7absRyJ"
      }
    },
    {
      "cell_type": "markdown",
      "source": [
        "# POSTWORK 3 - COLECCIÓN DE DATOS"
      ],
      "metadata": {
        "id": "ll0j-nalx9sR"
      }
    },
    {
      "cell_type": "markdown",
      "source": [
        "Tratando de contestar las preguntas del postwork 2, se buscaron datasets y APIs en diferentes sitios como Kaggle, gobierno, etc. pero queríamos que la información fuera actual y solo se encontraron en la Procuraduría Federal del Consumidor en México, organismo que publica, en forma abierta, los datos que recolecta sobre los precios de una gran cantidad de productos en diferentes supermercados, farmacias y tiendas de conveniencia. [Datos abiertos al consumidor en el sitio de PROFECO](https://datos.profeco.gob.mx/datos_abiertos/).\n",
        "\n",
        "Estos datos están publicados en un archivo comprimido en formato .rar por año. Un archivo comprimido contiene varios archivos en formato excel csv. Cada archivo tiene en su nombre el numero de semana y el año en que fueron recolectados los datos, en general hay un archivo por semana, por lo que, para el público consumidor es difícil aprovecharlos.\n",
        "\n",
        "El último archivo publicado de 2022 lo descargamos y está disponible en el siguiente enlace:\n",
        "[Diciembre 2022](https://raw.githubusercontent.com/adavals/bedu-datascience-f2m2/main/datasets/532022.csv)\n",
        "\n",
        "La descripción de la estructura del archivo está publicada bajo el título de [Diccionario de Datos](https://datos.profeco.gob.mx/diccionarioDatosQQP.php)\n",
        "\n",
        "Tratamos de conectarnos con la [API de PROFECO](https://datos.gob.mx/busca/dataset/quien-es-quien-en-los-precios/resource/408f99a4-04a7-4726-806c-f28b2e80fe00) pero no estaba activa y no pudimos usarla. \n",
        "\n",
        "Para complementar la información de ubicación con el código postal se usó la API  [COPOMEX - Código Postal Mexicano](https://api.copomex.com/panel/).\n",
        "\n",
        "La cual tras, previo registro se puede acceder al uso mediante un panel de control, donde podremos crear nuestro proyecto para que se nos genere la Token del API. También tendremos una guía de uso de esta API a nuestra disposición  en los enlaces de ayuda.\n"
      ],
      "metadata": {
        "id": "FLsLUDziyBQT"
      }
    },
    {
      "cell_type": "markdown",
      "source": [
        "# POSTWORK 4 - PANDAS Y ANÁLISIS EXPLORATORIO DE DATOS"
      ],
      "metadata": {
        "id": "jDVFTARry8-i"
      }
    },
    {
      "cell_type": "markdown",
      "source": [
        "Al revisar los datos disponibles encontramos que para cada año hay 53 o 54 archivos csv, uno por semana. Para efecto de nuestro análisis vemos que usando uno de estos archivos, por ejemplo el más reciente, podemos abordar las preguntas que nos hemos planteado.\n",
        "\n",
        "A continuación analizamos nuestro conjunto de datos usando pandas.\n",
        "\n"
      ],
      "metadata": {
        "id": "bRikWHruBw5k"
      }
    },
    {
      "cell_type": "code",
      "source": [
        "#Cargamos la biblioteca pandas\n",
        "import pandas as pd"
      ],
      "metadata": {
        "id": "0p3sggmGs_pY"
      },
      "execution_count": null,
      "outputs": []
    },
    {
      "cell_type": "code",
      "source": [
        "#Cargamos el archivo csv (que ha sido descargado en el github) como un dataframe y asignamos los nombres de las columnas\n",
        "df = pd.read_csv('https://raw.githubusercontent.com/adavals/bedu-datascience-f2m2/main/datasets/532022.csv', names=['producto','presentacion','marca','categoria','grupo','precio','fecha','marca_tienda','tipo_tienda','nombre_tienda','direccion','estado','municipio','latitud','longitud'])"
      ],
      "metadata": {
        "id": "he66AQEltEEQ"
      },
      "execution_count": null,
      "outputs": []
    },
    {
      "cell_type": "code",
      "source": [
        "#Por medio de la función head vemos los primeros registros\n",
        "df.head(3)"
      ],
      "metadata": {
        "colab": {
          "base_uri": "https://localhost:8080/",
          "height": 364
        },
        "id": "40xSpcrUt-2q",
        "outputId": "3db46276-6649-4e50-9f3a-70800a459f67"
      },
      "execution_count": null,
      "outputs": [
        {
          "output_type": "execute_result",
          "data": {
            "text/plain": [
              "  producto             presentacion   marca  \\\n",
              "0   ACEITE    BOTELLA 1 LT. VEGETAL   1-2-3   \n",
              "1   ACEITE  BOTELLA 850 ML. VEGETAL     AVE   \n",
              "2   ACEITE   BOTELLA 946 ML. CANOLA  CANOIL   \n",
              "\n",
              "                           categoria    grupo  precio       fecha  \\\n",
              "0  ACEITES Y GRASAS VEG. COMESTIBLES  BASICOS    56.0  2022-12-26   \n",
              "1  ACEITES Y GRASAS VEG. COMESTIBLES    PACIC    43.9  2022-12-26   \n",
              "2  ACEITES Y GRASAS VEG. COMESTIBLES  BASICOS    50.9  2022-12-26   \n",
              "\n",
              "   marca_tienda                            tipo_tienda  \\\n",
              "0  MEGA SORIANA  SUPERMERCADO / TIENDA DE AUTOSERVICIO   \n",
              "1  MEGA SORIANA  SUPERMERCADO / TIENDA DE AUTOSERVICIO   \n",
              "2  MEGA SORIANA  SUPERMERCADO / TIENDA DE AUTOSERVICIO   \n",
              "\n",
              "                          nombre_tienda  \\\n",
              "0  MEGA SORIANA SUCURSAL AGUASCALIENTES   \n",
              "1  MEGA SORIANA SUCURSAL AGUASCALIENTES   \n",
              "2  MEGA SORIANA SUCURSAL AGUASCALIENTES   \n",
              "\n",
              "                                           direccion          estado  \\\n",
              "0  AGUASCALIENTES NTE. 802, ESQ. BLVD. A ZACATECA...  AGUASCALIENTES   \n",
              "1  AGUASCALIENTES NTE. 802, ESQ. BLVD. A ZACATECA...  AGUASCALIENTES   \n",
              "2  AGUASCALIENTES NTE. 802, ESQ. BLVD. A ZACATECA...  AGUASCALIENTES   \n",
              "\n",
              "        municipio    latitud    longitud  \n",
              "0  AGUASCALIENTES  21.916001 -102.290779  \n",
              "1  AGUASCALIENTES  21.916001 -102.290779  \n",
              "2  AGUASCALIENTES  21.916001 -102.290779  "
            ],
            "text/html": [
              "\n",
              "  <div id=\"df-405eec49-d114-4ad6-8015-93edb831a500\">\n",
              "    <div class=\"colab-df-container\">\n",
              "      <div>\n",
              "<style scoped>\n",
              "    .dataframe tbody tr th:only-of-type {\n",
              "        vertical-align: middle;\n",
              "    }\n",
              "\n",
              "    .dataframe tbody tr th {\n",
              "        vertical-align: top;\n",
              "    }\n",
              "\n",
              "    .dataframe thead th {\n",
              "        text-align: right;\n",
              "    }\n",
              "</style>\n",
              "<table border=\"1\" class=\"dataframe\">\n",
              "  <thead>\n",
              "    <tr style=\"text-align: right;\">\n",
              "      <th></th>\n",
              "      <th>producto</th>\n",
              "      <th>presentacion</th>\n",
              "      <th>marca</th>\n",
              "      <th>categoria</th>\n",
              "      <th>grupo</th>\n",
              "      <th>precio</th>\n",
              "      <th>fecha</th>\n",
              "      <th>marca_tienda</th>\n",
              "      <th>tipo_tienda</th>\n",
              "      <th>nombre_tienda</th>\n",
              "      <th>direccion</th>\n",
              "      <th>estado</th>\n",
              "      <th>municipio</th>\n",
              "      <th>latitud</th>\n",
              "      <th>longitud</th>\n",
              "    </tr>\n",
              "  </thead>\n",
              "  <tbody>\n",
              "    <tr>\n",
              "      <th>0</th>\n",
              "      <td>ACEITE</td>\n",
              "      <td>BOTELLA 1 LT. VEGETAL</td>\n",
              "      <td>1-2-3</td>\n",
              "      <td>ACEITES Y GRASAS VEG. COMESTIBLES</td>\n",
              "      <td>BASICOS</td>\n",
              "      <td>56.0</td>\n",
              "      <td>2022-12-26</td>\n",
              "      <td>MEGA SORIANA</td>\n",
              "      <td>SUPERMERCADO / TIENDA DE AUTOSERVICIO</td>\n",
              "      <td>MEGA SORIANA SUCURSAL AGUASCALIENTES</td>\n",
              "      <td>AGUASCALIENTES NTE. 802, ESQ. BLVD. A ZACATECA...</td>\n",
              "      <td>AGUASCALIENTES</td>\n",
              "      <td>AGUASCALIENTES</td>\n",
              "      <td>21.916001</td>\n",
              "      <td>-102.290779</td>\n",
              "    </tr>\n",
              "    <tr>\n",
              "      <th>1</th>\n",
              "      <td>ACEITE</td>\n",
              "      <td>BOTELLA 850 ML. VEGETAL</td>\n",
              "      <td>AVE</td>\n",
              "      <td>ACEITES Y GRASAS VEG. COMESTIBLES</td>\n",
              "      <td>PACIC</td>\n",
              "      <td>43.9</td>\n",
              "      <td>2022-12-26</td>\n",
              "      <td>MEGA SORIANA</td>\n",
              "      <td>SUPERMERCADO / TIENDA DE AUTOSERVICIO</td>\n",
              "      <td>MEGA SORIANA SUCURSAL AGUASCALIENTES</td>\n",
              "      <td>AGUASCALIENTES NTE. 802, ESQ. BLVD. A ZACATECA...</td>\n",
              "      <td>AGUASCALIENTES</td>\n",
              "      <td>AGUASCALIENTES</td>\n",
              "      <td>21.916001</td>\n",
              "      <td>-102.290779</td>\n",
              "    </tr>\n",
              "    <tr>\n",
              "      <th>2</th>\n",
              "      <td>ACEITE</td>\n",
              "      <td>BOTELLA 946 ML. CANOLA</td>\n",
              "      <td>CANOIL</td>\n",
              "      <td>ACEITES Y GRASAS VEG. COMESTIBLES</td>\n",
              "      <td>BASICOS</td>\n",
              "      <td>50.9</td>\n",
              "      <td>2022-12-26</td>\n",
              "      <td>MEGA SORIANA</td>\n",
              "      <td>SUPERMERCADO / TIENDA DE AUTOSERVICIO</td>\n",
              "      <td>MEGA SORIANA SUCURSAL AGUASCALIENTES</td>\n",
              "      <td>AGUASCALIENTES NTE. 802, ESQ. BLVD. A ZACATECA...</td>\n",
              "      <td>AGUASCALIENTES</td>\n",
              "      <td>AGUASCALIENTES</td>\n",
              "      <td>21.916001</td>\n",
              "      <td>-102.290779</td>\n",
              "    </tr>\n",
              "  </tbody>\n",
              "</table>\n",
              "</div>\n",
              "      <button class=\"colab-df-convert\" onclick=\"convertToInteractive('df-405eec49-d114-4ad6-8015-93edb831a500')\"\n",
              "              title=\"Convert this dataframe to an interactive table.\"\n",
              "              style=\"display:none;\">\n",
              "        \n",
              "  <svg xmlns=\"http://www.w3.org/2000/svg\" height=\"24px\"viewBox=\"0 0 24 24\"\n",
              "       width=\"24px\">\n",
              "    <path d=\"M0 0h24v24H0V0z\" fill=\"none\"/>\n",
              "    <path d=\"M18.56 5.44l.94 2.06.94-2.06 2.06-.94-2.06-.94-.94-2.06-.94 2.06-2.06.94zm-11 1L8.5 8.5l.94-2.06 2.06-.94-2.06-.94L8.5 2.5l-.94 2.06-2.06.94zm10 10l.94 2.06.94-2.06 2.06-.94-2.06-.94-.94-2.06-.94 2.06-2.06.94z\"/><path d=\"M17.41 7.96l-1.37-1.37c-.4-.4-.92-.59-1.43-.59-.52 0-1.04.2-1.43.59L10.3 9.45l-7.72 7.72c-.78.78-.78 2.05 0 2.83L4 21.41c.39.39.9.59 1.41.59.51 0 1.02-.2 1.41-.59l7.78-7.78 2.81-2.81c.8-.78.8-2.07 0-2.86zM5.41 20L4 18.59l7.72-7.72 1.47 1.35L5.41 20z\"/>\n",
              "  </svg>\n",
              "      </button>\n",
              "      \n",
              "  <style>\n",
              "    .colab-df-container {\n",
              "      display:flex;\n",
              "      flex-wrap:wrap;\n",
              "      gap: 12px;\n",
              "    }\n",
              "\n",
              "    .colab-df-convert {\n",
              "      background-color: #E8F0FE;\n",
              "      border: none;\n",
              "      border-radius: 50%;\n",
              "      cursor: pointer;\n",
              "      display: none;\n",
              "      fill: #1967D2;\n",
              "      height: 32px;\n",
              "      padding: 0 0 0 0;\n",
              "      width: 32px;\n",
              "    }\n",
              "\n",
              "    .colab-df-convert:hover {\n",
              "      background-color: #E2EBFA;\n",
              "      box-shadow: 0px 1px 2px rgba(60, 64, 67, 0.3), 0px 1px 3px 1px rgba(60, 64, 67, 0.15);\n",
              "      fill: #174EA6;\n",
              "    }\n",
              "\n",
              "    [theme=dark] .colab-df-convert {\n",
              "      background-color: #3B4455;\n",
              "      fill: #D2E3FC;\n",
              "    }\n",
              "\n",
              "    [theme=dark] .colab-df-convert:hover {\n",
              "      background-color: #434B5C;\n",
              "      box-shadow: 0px 1px 3px 1px rgba(0, 0, 0, 0.15);\n",
              "      filter: drop-shadow(0px 1px 2px rgba(0, 0, 0, 0.3));\n",
              "      fill: #FFFFFF;\n",
              "    }\n",
              "  </style>\n",
              "\n",
              "      <script>\n",
              "        const buttonEl =\n",
              "          document.querySelector('#df-405eec49-d114-4ad6-8015-93edb831a500 button.colab-df-convert');\n",
              "        buttonEl.style.display =\n",
              "          google.colab.kernel.accessAllowed ? 'block' : 'none';\n",
              "\n",
              "        async function convertToInteractive(key) {\n",
              "          const element = document.querySelector('#df-405eec49-d114-4ad6-8015-93edb831a500');\n",
              "          const dataTable =\n",
              "            await google.colab.kernel.invokeFunction('convertToInteractive',\n",
              "                                                     [key], {});\n",
              "          if (!dataTable) return;\n",
              "\n",
              "          const docLinkHtml = 'Like what you see? Visit the ' +\n",
              "            '<a target=\"_blank\" href=https://colab.research.google.com/notebooks/data_table.ipynb>data table notebook</a>'\n",
              "            + ' to learn more about interactive tables.';\n",
              "          element.innerHTML = '';\n",
              "          dataTable['output_type'] = 'display_data';\n",
              "          await google.colab.output.renderOutput(dataTable, element);\n",
              "          const docLink = document.createElement('div');\n",
              "          docLink.innerHTML = docLinkHtml;\n",
              "          element.appendChild(docLink);\n",
              "        }\n",
              "      </script>\n",
              "    </div>\n",
              "  </div>\n",
              "  "
            ]
          },
          "metadata": {},
          "execution_count": 3
        }
      ]
    },
    {
      "cell_type": "code",
      "source": [
        "#Por medio de la propiedad tail vemos los últimos registros\n",
        "df.tail(3)"
      ],
      "metadata": {
        "colab": {
          "base_uri": "https://localhost:8080/",
          "height": 503
        },
        "id": "uTZlCsqI5N5x",
        "outputId": "6bfd959d-2e18-499d-e46b-2c81c841e7c6"
      },
      "execution_count": null,
      "outputs": [
        {
          "output_type": "execute_result",
          "data": {
            "text/plain": [
              "                producto                         presentacion marca  \\\n",
              "256420              XL-3  CAJA CON 2 CARTERAS. 4 TABLETAS C/U   S/M   \n",
              "256421           XL-3 VR                     CAJA 24 TABLETAS   S/M   \n",
              "256422  TORTILLA DE MAIZ                         1 KG. GRANEL   S/M   \n",
              "\n",
              "                             categoria         grupo  precio       fecha  \\\n",
              "256420                    MEDICAMENTOS  MEDICAMENTOS   18.97  2022-12-30   \n",
              "256421                    MEDICAMENTOS  MEDICAMENTOS   88.91  2022-12-30   \n",
              "256422  TORTILLAS Y DERIVADOS DEL MAIZ       BASICOS   20.00  2022-12-30   \n",
              "\n",
              "                      marca_tienda                            tipo_tienda  \\\n",
              "256420                   ISSSTEZAC  SUPERMERCADO / TIENDA DE AUTOSERVICIO   \n",
              "256421                   ISSSTEZAC  SUPERMERCADO / TIENDA DE AUTOSERVICIO   \n",
              "256422  TORTILLERIAS TRADICIONALES                           TORTILLERÍAS   \n",
              "\n",
              "               nombre_tienda  \\\n",
              "256420  ISSSTEZAC SUCURSAL 2   \n",
              "256421  ISSSTEZAC SUCURSAL 2   \n",
              "256422   TORTILLERIA LA CRUZ   \n",
              "\n",
              "                                                direccion     estado  \\\n",
              "256420  BLVD LOPEZ PORTILLO 238, ENTRE CALLE SICOMORO ...  ZACATECAS   \n",
              "256421  BLVD LOPEZ PORTILLO 238, ENTRE CALLE SICOMORO ...  ZACATECAS   \n",
              "256422  DE LA CRUZ 9, ENTRE JOSE MARIA RODRIGUEZ Y COL...  ZACATECAS   \n",
              "\n",
              "        municipio    latitud    longitud  \n",
              "256420  ZACATECAS  22.757732 -102.538580  \n",
              "256421  ZACATECAS  22.757732 -102.538580  \n",
              "256422  ZACATECAS  22.750167 -102.520612  "
            ],
            "text/html": [
              "\n",
              "  <div id=\"df-e53c630b-0a1d-4040-9430-2aab5f583960\">\n",
              "    <div class=\"colab-df-container\">\n",
              "      <div>\n",
              "<style scoped>\n",
              "    .dataframe tbody tr th:only-of-type {\n",
              "        vertical-align: middle;\n",
              "    }\n",
              "\n",
              "    .dataframe tbody tr th {\n",
              "        vertical-align: top;\n",
              "    }\n",
              "\n",
              "    .dataframe thead th {\n",
              "        text-align: right;\n",
              "    }\n",
              "</style>\n",
              "<table border=\"1\" class=\"dataframe\">\n",
              "  <thead>\n",
              "    <tr style=\"text-align: right;\">\n",
              "      <th></th>\n",
              "      <th>producto</th>\n",
              "      <th>presentacion</th>\n",
              "      <th>marca</th>\n",
              "      <th>categoria</th>\n",
              "      <th>grupo</th>\n",
              "      <th>precio</th>\n",
              "      <th>fecha</th>\n",
              "      <th>marca_tienda</th>\n",
              "      <th>tipo_tienda</th>\n",
              "      <th>nombre_tienda</th>\n",
              "      <th>direccion</th>\n",
              "      <th>estado</th>\n",
              "      <th>municipio</th>\n",
              "      <th>latitud</th>\n",
              "      <th>longitud</th>\n",
              "    </tr>\n",
              "  </thead>\n",
              "  <tbody>\n",
              "    <tr>\n",
              "      <th>256420</th>\n",
              "      <td>XL-3</td>\n",
              "      <td>CAJA CON 2 CARTERAS. 4 TABLETAS C/U</td>\n",
              "      <td>S/M</td>\n",
              "      <td>MEDICAMENTOS</td>\n",
              "      <td>MEDICAMENTOS</td>\n",
              "      <td>18.97</td>\n",
              "      <td>2022-12-30</td>\n",
              "      <td>ISSSTEZAC</td>\n",
              "      <td>SUPERMERCADO / TIENDA DE AUTOSERVICIO</td>\n",
              "      <td>ISSSTEZAC SUCURSAL 2</td>\n",
              "      <td>BLVD LOPEZ PORTILLO 238, ENTRE CALLE SICOMORO ...</td>\n",
              "      <td>ZACATECAS</td>\n",
              "      <td>ZACATECAS</td>\n",
              "      <td>22.757732</td>\n",
              "      <td>-102.538580</td>\n",
              "    </tr>\n",
              "    <tr>\n",
              "      <th>256421</th>\n",
              "      <td>XL-3 VR</td>\n",
              "      <td>CAJA 24 TABLETAS</td>\n",
              "      <td>S/M</td>\n",
              "      <td>MEDICAMENTOS</td>\n",
              "      <td>MEDICAMENTOS</td>\n",
              "      <td>88.91</td>\n",
              "      <td>2022-12-30</td>\n",
              "      <td>ISSSTEZAC</td>\n",
              "      <td>SUPERMERCADO / TIENDA DE AUTOSERVICIO</td>\n",
              "      <td>ISSSTEZAC SUCURSAL 2</td>\n",
              "      <td>BLVD LOPEZ PORTILLO 238, ENTRE CALLE SICOMORO ...</td>\n",
              "      <td>ZACATECAS</td>\n",
              "      <td>ZACATECAS</td>\n",
              "      <td>22.757732</td>\n",
              "      <td>-102.538580</td>\n",
              "    </tr>\n",
              "    <tr>\n",
              "      <th>256422</th>\n",
              "      <td>TORTILLA DE MAIZ</td>\n",
              "      <td>1 KG. GRANEL</td>\n",
              "      <td>S/M</td>\n",
              "      <td>TORTILLAS Y DERIVADOS DEL MAIZ</td>\n",
              "      <td>BASICOS</td>\n",
              "      <td>20.00</td>\n",
              "      <td>2022-12-30</td>\n",
              "      <td>TORTILLERIAS TRADICIONALES</td>\n",
              "      <td>TORTILLERÍAS</td>\n",
              "      <td>TORTILLERIA LA CRUZ</td>\n",
              "      <td>DE LA CRUZ 9, ENTRE JOSE MARIA RODRIGUEZ Y COL...</td>\n",
              "      <td>ZACATECAS</td>\n",
              "      <td>ZACATECAS</td>\n",
              "      <td>22.750167</td>\n",
              "      <td>-102.520612</td>\n",
              "    </tr>\n",
              "  </tbody>\n",
              "</table>\n",
              "</div>\n",
              "      <button class=\"colab-df-convert\" onclick=\"convertToInteractive('df-e53c630b-0a1d-4040-9430-2aab5f583960')\"\n",
              "              title=\"Convert this dataframe to an interactive table.\"\n",
              "              style=\"display:none;\">\n",
              "        \n",
              "  <svg xmlns=\"http://www.w3.org/2000/svg\" height=\"24px\"viewBox=\"0 0 24 24\"\n",
              "       width=\"24px\">\n",
              "    <path d=\"M0 0h24v24H0V0z\" fill=\"none\"/>\n",
              "    <path d=\"M18.56 5.44l.94 2.06.94-2.06 2.06-.94-2.06-.94-.94-2.06-.94 2.06-2.06.94zm-11 1L8.5 8.5l.94-2.06 2.06-.94-2.06-.94L8.5 2.5l-.94 2.06-2.06.94zm10 10l.94 2.06.94-2.06 2.06-.94-2.06-.94-.94-2.06-.94 2.06-2.06.94z\"/><path d=\"M17.41 7.96l-1.37-1.37c-.4-.4-.92-.59-1.43-.59-.52 0-1.04.2-1.43.59L10.3 9.45l-7.72 7.72c-.78.78-.78 2.05 0 2.83L4 21.41c.39.39.9.59 1.41.59.51 0 1.02-.2 1.41-.59l7.78-7.78 2.81-2.81c.8-.78.8-2.07 0-2.86zM5.41 20L4 18.59l7.72-7.72 1.47 1.35L5.41 20z\"/>\n",
              "  </svg>\n",
              "      </button>\n",
              "      \n",
              "  <style>\n",
              "    .colab-df-container {\n",
              "      display:flex;\n",
              "      flex-wrap:wrap;\n",
              "      gap: 12px;\n",
              "    }\n",
              "\n",
              "    .colab-df-convert {\n",
              "      background-color: #E8F0FE;\n",
              "      border: none;\n",
              "      border-radius: 50%;\n",
              "      cursor: pointer;\n",
              "      display: none;\n",
              "      fill: #1967D2;\n",
              "      height: 32px;\n",
              "      padding: 0 0 0 0;\n",
              "      width: 32px;\n",
              "    }\n",
              "\n",
              "    .colab-df-convert:hover {\n",
              "      background-color: #E2EBFA;\n",
              "      box-shadow: 0px 1px 2px rgba(60, 64, 67, 0.3), 0px 1px 3px 1px rgba(60, 64, 67, 0.15);\n",
              "      fill: #174EA6;\n",
              "    }\n",
              "\n",
              "    [theme=dark] .colab-df-convert {\n",
              "      background-color: #3B4455;\n",
              "      fill: #D2E3FC;\n",
              "    }\n",
              "\n",
              "    [theme=dark] .colab-df-convert:hover {\n",
              "      background-color: #434B5C;\n",
              "      box-shadow: 0px 1px 3px 1px rgba(0, 0, 0, 0.15);\n",
              "      filter: drop-shadow(0px 1px 2px rgba(0, 0, 0, 0.3));\n",
              "      fill: #FFFFFF;\n",
              "    }\n",
              "  </style>\n",
              "\n",
              "      <script>\n",
              "        const buttonEl =\n",
              "          document.querySelector('#df-e53c630b-0a1d-4040-9430-2aab5f583960 button.colab-df-convert');\n",
              "        buttonEl.style.display =\n",
              "          google.colab.kernel.accessAllowed ? 'block' : 'none';\n",
              "\n",
              "        async function convertToInteractive(key) {\n",
              "          const element = document.querySelector('#df-e53c630b-0a1d-4040-9430-2aab5f583960');\n",
              "          const dataTable =\n",
              "            await google.colab.kernel.invokeFunction('convertToInteractive',\n",
              "                                                     [key], {});\n",
              "          if (!dataTable) return;\n",
              "\n",
              "          const docLinkHtml = 'Like what you see? Visit the ' +\n",
              "            '<a target=\"_blank\" href=https://colab.research.google.com/notebooks/data_table.ipynb>data table notebook</a>'\n",
              "            + ' to learn more about interactive tables.';\n",
              "          element.innerHTML = '';\n",
              "          dataTable['output_type'] = 'display_data';\n",
              "          await google.colab.output.renderOutput(dataTable, element);\n",
              "          const docLink = document.createElement('div');\n",
              "          docLink.innerHTML = docLinkHtml;\n",
              "          element.appendChild(docLink);\n",
              "        }\n",
              "      </script>\n",
              "    </div>\n",
              "  </div>\n",
              "  "
            ]
          },
          "metadata": {},
          "execution_count": 4
        }
      ]
    },
    {
      "cell_type": "markdown",
      "source": [
        "Hacemos el **análisis exploratorio** de datos para saber si:\n",
        "* ¿El conjunto de datos que tengo realmente me sirve para responder algunas de las preguntas que me planteé?\n",
        "     - Las preguntas que se plantearon incluyen clasificaciones de productos, precios de productos, comparaciones de precios, localizaciones de tiendas, etc y podemos ver que el conjunto de datos tiene direcciones y coordenadas geográficas de las tiendas que se pueden usar para saber dónde comprar, (incluso podemos obtener el Código postal de las direcciones para hacer consultas mediante este dato) categorías de productos, precios, etc; todos estos datos se pueden usar para obtener la respuesta de las preguntas que se plantearon al inicio del proyecto."
      ],
      "metadata": {
        "id": "fIsZRqcuC4ju"
      }
    },
    {
      "cell_type": "markdown",
      "source": [
        "* ¿Qué tamaño tiene mi conjunto de datos? ¿Serán datos suficientes?"
      ],
      "metadata": {
        "id": "jL_fLr93Gv5d"
      }
    },
    {
      "cell_type": "code",
      "source": [
        "#La función shape nos da información de la cantidad de renglones y columnas\n",
        "df.shape"
      ],
      "metadata": {
        "colab": {
          "base_uri": "https://localhost:8080/"
        },
        "id": "70Rg9AG2x-wJ",
        "outputId": "2f5b2826-a813-45b1-e3c8-6ff895b858ec"
      },
      "execution_count": null,
      "outputs": [
        {
          "output_type": "execute_result",
          "data": {
            "text/plain": [
              "(256423, 15)"
            ]
          },
          "metadata": {},
          "execution_count": 5
        }
      ]
    },
    {
      "cell_type": "markdown",
      "source": [
        "- El archivo  seleccionado corresponde a la última semana de diciembre de 2022 y contiene 256,423 registros con 15 columnas.\n",
        "\n"
      ],
      "metadata": {
        "id": "uKRguwROJxdH"
      }
    },
    {
      "cell_type": "markdown",
      "source": [
        "* ¿Qué columnas tengo y qué información tengo en cada una de esas columnas?"
      ],
      "metadata": {
        "id": "augsVw0vKrrX"
      }
    },
    {
      "cell_type": "code",
      "source": [
        "#Por medio de la función dtypes vemos cada columna y su tipo de dato\n",
        "df.dtypes"
      ],
      "metadata": {
        "colab": {
          "base_uri": "https://localhost:8080/"
        },
        "id": "BnYsn5BBx7Fs",
        "outputId": "0bea7aac-bdc2-4900-cce1-d27b703ad6bc"
      },
      "execution_count": null,
      "outputs": [
        {
          "output_type": "execute_result",
          "data": {
            "text/plain": [
              "producto          object\n",
              "presentacion      object\n",
              "marca             object\n",
              "categoria         object\n",
              "grupo             object\n",
              "precio           float64\n",
              "fecha             object\n",
              "marca_tienda      object\n",
              "tipo_tienda       object\n",
              "nombre_tienda     object\n",
              "direccion         object\n",
              "estado            object\n",
              "municipio         object\n",
              "latitud          float64\n",
              "longitud         float64\n",
              "dtype: object"
            ]
          },
          "metadata": {},
          "execution_count": 6
        }
      ]
    },
    {
      "cell_type": "markdown",
      "source": [
        "|Columna|Descripción|\n",
        "|---|---|\n",
        "|producto|Nombre del producto.|\n",
        "|presentacion|Descripción de la presentación del producto.\n",
        "|marca|Descripción de la marca del producto.\n",
        "|categoria|Nombre de la categoría a la cual pertenece el producto.\n",
        "|grupo|Nombre del grupo al que pertenece el producto.\n",
        "|precio|Precio del producto de venta al público.\n",
        "|fecha|Día, mes y año en que fue capturado el precio del producto en el establecimiento.\n",
        "|marca_tienda|Conjunto de establecimientos que son sucursales de una misma marca comercial.\n",
        "|tipo_tienda|Descripción del giro comercial.\n",
        "|nombre_tienda|Nombre comercial asociado a la razón social del establecimiento.\n",
        "|direccion|Dirección del establecimiento.\n",
        "|estado|Entidad federativa en la que se localiza el establecimiento.\n",
        "|municipio|Nombre del municipio o demarcación territorial en el que se localiza el establecimiento.\n",
        "|latitud|Localización del establecimiento con respecto al ecuador. Expresadas en grados decimales\n",
        "|longitud|Localización del establecimiento con respecto al meridiano 0 . Expresadas en grados decimales"
      ],
      "metadata": {
        "id": "QSRK3pofMmyV"
      }
    },
    {
      "cell_type": "code",
      "source": [
        "#Mediante la función info vemos más información sobre las columnas\n",
        "df.info()"
      ],
      "metadata": {
        "colab": {
          "base_uri": "https://localhost:8080/"
        },
        "id": "tK48i0Pm0pfw",
        "outputId": "dd336b42-d9c5-4ac1-b228-8967f5f01e0d"
      },
      "execution_count": null,
      "outputs": [
        {
          "output_type": "stream",
          "name": "stdout",
          "text": [
            "<class 'pandas.core.frame.DataFrame'>\n",
            "RangeIndex: 256423 entries, 0 to 256422\n",
            "Data columns (total 15 columns):\n",
            " #   Column         Non-Null Count   Dtype  \n",
            "---  ------         --------------   -----  \n",
            " 0   producto       256423 non-null  object \n",
            " 1   presentacion   256423 non-null  object \n",
            " 2   marca          256423 non-null  object \n",
            " 3   categoria      256423 non-null  object \n",
            " 4   grupo          256423 non-null  object \n",
            " 5   precio         256423 non-null  float64\n",
            " 6   fecha          256423 non-null  object \n",
            " 7   marca_tienda   256423 non-null  object \n",
            " 8   tipo_tienda    256423 non-null  object \n",
            " 9   nombre_tienda  256423 non-null  object \n",
            " 10  direccion      256423 non-null  object \n",
            " 11  estado         256423 non-null  object \n",
            " 12  municipio      256423 non-null  object \n",
            " 13  latitud        255516 non-null  float64\n",
            " 14  longitud       255516 non-null  float64\n",
            "dtypes: float64(3), object(12)\n",
            "memory usage: 29.3+ MB\n"
          ]
        }
      ]
    },
    {
      "cell_type": "markdown",
      "source": [
        "* Los nombres que tienen mis columnas, ¿son el nombre más apropiado?"
      ],
      "metadata": {
        "id": "tW0f7AKuUhKv"
      }
    },
    {
      "cell_type": "code",
      "source": [
        "#Podemos acceder a una lista de columnas usando la función columns\n",
        "df.columns"
      ],
      "metadata": {
        "colab": {
          "base_uri": "https://localhost:8080/"
        },
        "id": "5UCqFPxw6URv",
        "outputId": "d4e25ad0-67c7-455b-c34c-b11ad43d5436"
      },
      "execution_count": null,
      "outputs": [
        {
          "output_type": "execute_result",
          "data": {
            "text/plain": [
              "Index(['producto', 'presentacion', 'marca', 'categoria', 'grupo', 'precio',\n",
              "       'fecha', 'marca_tienda', 'tipo_tienda', 'nombre_tienda', 'direccion',\n",
              "       'estado', 'municipio', 'latitud', 'longitud'],\n",
              "      dtype='object')"
            ]
          },
          "metadata": {},
          "execution_count": 8
        }
      ]
    },
    {
      "cell_type": "markdown",
      "source": [
        "- Los nombres de las columnas se asignaron al cargar el archivo csv de acuerdo a los datos observados y con base en el [Diccionario de Datos](https://datos.profeco.gob.mx/diccionarioDatosQQP.php) publicado por PROFECO.\n",
        "\n",
        "* ¿Qué tipos de datos tengo en cada columna? ¿Parecen ser el tipo correcto de datos? ¿O es un tipo de datos \"incorrecto\"?\n",
        "\n"
      ],
      "metadata": {
        "id": "wK0LNH5Ky_sD"
      }
    },
    {
      "cell_type": "code",
      "source": [
        "#La función loc nos permite ver la información de una fila específica\n",
        "df.loc[0]"
      ],
      "metadata": {
        "colab": {
          "base_uri": "https://localhost:8080/"
        },
        "id": "eThrlLeYzRVL",
        "outputId": "e28fd747-2669-4530-c485-8137cfecf7fa"
      },
      "execution_count": null,
      "outputs": [
        {
          "output_type": "execute_result",
          "data": {
            "text/plain": [
              "producto                                                    ACEITE\n",
              "presentacion                                 BOTELLA 1 LT. VEGETAL\n",
              "marca                                                        1-2-3\n",
              "categoria                        ACEITES Y GRASAS VEG. COMESTIBLES\n",
              "grupo                                                      BASICOS\n",
              "precio                                                        56.0\n",
              "fecha                                                   2022-12-26\n",
              "marca_tienda                                          MEGA SORIANA\n",
              "tipo_tienda                  SUPERMERCADO / TIENDA DE AUTOSERVICIO\n",
              "nombre_tienda                 MEGA SORIANA SUCURSAL AGUASCALIENTES\n",
              "direccion        AGUASCALIENTES NTE. 802, ESQ. BLVD. A ZACATECA...\n",
              "estado                                              AGUASCALIENTES\n",
              "municipio                                           AGUASCALIENTES\n",
              "latitud                                                  21.916001\n",
              "longitud                                               -102.290779\n",
              "Name: 0, dtype: object"
            ]
          },
          "metadata": {},
          "execution_count": 9
        }
      ]
    },
    {
      "cell_type": "markdown",
      "source": [
        "- El tipo de dato de cada uno es correcto a excepción de la fecha que presenta tipo object.\n",
        "- En la columna ```presentacion``` se observa que los productos pueden venir en medidas diferentes como kilogramos, mililitros, litros, etc. por lo que se requiere hacer un tratamiento a la información para realizar comparaciones de precios correctas.\n"
      ],
      "metadata": {
        "id": "DQwgo9-MUxYh"
      }
    },
    {
      "cell_type": "markdown",
      "source": [
        "* Si selecciono algunas filas al azar y las observo, ¿estoy obteniendo los datos que debería? ¿o hay datos que parecen estar \"sucios\" o \"incorrectos\"?\n"
      ],
      "metadata": {
        "id": "0O7qDWFwMB5e"
      }
    },
    {
      "cell_type": "code",
      "source": [
        "#Con la función isna y sum podemos obtener el número de nulos en cada columna\n",
        "df.isna().sum()"
      ],
      "metadata": {
        "colab": {
          "base_uri": "https://localhost:8080/"
        },
        "id": "zkHXrIYuMH9f",
        "outputId": "6b8cb1cc-fff6-40b8-cf2a-b0aa5cb23da3"
      },
      "execution_count": null,
      "outputs": [
        {
          "output_type": "execute_result",
          "data": {
            "text/plain": [
              "producto           0\n",
              "presentacion       0\n",
              "marca              0\n",
              "categoria          0\n",
              "grupo              0\n",
              "precio             0\n",
              "fecha              0\n",
              "marca_tienda       0\n",
              "tipo_tienda        0\n",
              "nombre_tienda      0\n",
              "direccion          0\n",
              "estado             0\n",
              "municipio          0\n",
              "latitud          907\n",
              "longitud         907\n",
              "dtype: int64"
            ]
          },
          "metadata": {},
          "execution_count": 10
        }
      ]
    },
    {
      "cell_type": "markdown",
      "source": [
        "- La base de datos parece tener datos limpios, solo tenemos falta de datos en las columnas de latitud y longitud.\n",
        "    "
      ],
      "metadata": {
        "id": "xfyZpf2UU-js"
      }
    },
    {
      "cell_type": "markdown",
      "source": [
        "# POSTWORK 5 - LIMPIEZA DE DATOS"
      ],
      "metadata": {
        "id": "XXWJ4VZPzr1s"
      }
    },
    {
      "cell_type": "markdown",
      "source": [
        "Este paso es requerido para poder utilizar apropiadamente el dataframe y conocer el contenido de las columnas. También vamos a explorar nuestro dataset usando agregaciones para ver si podemos empezar a responder algunas de las preguntas que nos hemos planteado. Los pasos que debes de seguir son los siguientes:\n",
        "\n",
        "* Explora tu dataset con el fin de encontrar los NaNs que contiene. Piensa en la distribución de NaNs por columna y por fila.\n",
        "* Piensa cuáles son los procedimientos que puedes aplicar a tus NaNs. ¿Tenemos que eliminar las filas/columnas que tienen esos NaNs? ¿O podríamos rellenar esos NaNs con algún valor de manera que podamos retener esas filas/columnas?\n",
        "* Limpia tu dataset de manera que no quede ningún NaN.\n",
        "* Reindexa tu dataset si lo consideras necesario.\n",
        "* Renombra tus columnas si lo consideras necesario.\n",
        "* Prueba aplicar agregaciones a tu DataFrame para ver si puedes empezar a responder algunas de las preguntas que te planteaste anteriormente. Aquí tienes una lista de algunas de las funciones que puedes utilizar para agregar/reducir tu dataset."
      ],
      "metadata": {
        "id": "ormB1g8-zuhK"
      }
    },
    {
      "cell_type": "markdown",
      "source": [
        "* Exploramos el dataset con el fin de encontrar los NaNs que contiene."
      ],
      "metadata": {
        "id": "3EevLpYJwef3"
      }
    },
    {
      "cell_type": "code",
      "source": [
        "#Se revisa la cantidad de filas y columnas, asi como su tipo de datos\n",
        "print('Cantidad de Filas y columnas: ', df.shape)\n",
        "print('Nombre columnas: ', df.dtypes)"
      ],
      "metadata": {
        "id": "RL6PXF3uEaiw",
        "colab": {
          "base_uri": "https://localhost:8080/"
        },
        "outputId": "daa9bc37-d349-4525-bc49-e1c38ca93cb7"
      },
      "execution_count": null,
      "outputs": [
        {
          "output_type": "stream",
          "name": "stdout",
          "text": [
            "Cantidad de Filas y columnas:  (256423, 15)\n",
            "Nombre columnas:  producto          object\n",
            "presentacion      object\n",
            "marca             object\n",
            "categoria         object\n",
            "grupo             object\n",
            "precio           float64\n",
            "fecha             object\n",
            "marca_tienda      object\n",
            "tipo_tienda       object\n",
            "nombre_tienda     object\n",
            "direccion         object\n",
            "estado            object\n",
            "municipio         object\n",
            "latitud          float64\n",
            "longitud         float64\n",
            "dtype: object\n"
          ]
        }
      ]
    },
    {
      "cell_type": "code",
      "source": [
        "#Se revisa la informacion del dataset y se detecta que las columnas latitud y longitud \n",
        "#tienen menos datos que las otras columnas\n",
        "df.info()"
      ],
      "metadata": {
        "colab": {
          "base_uri": "https://localhost:8080/"
        },
        "id": "2UNQQ6byVYmA",
        "outputId": "221f7e56-9195-4631-ccee-074f6c7ef5af"
      },
      "execution_count": null,
      "outputs": [
        {
          "output_type": "stream",
          "name": "stdout",
          "text": [
            "<class 'pandas.core.frame.DataFrame'>\n",
            "RangeIndex: 256423 entries, 0 to 256422\n",
            "Data columns (total 15 columns):\n",
            " #   Column         Non-Null Count   Dtype  \n",
            "---  ------         --------------   -----  \n",
            " 0   producto       256423 non-null  object \n",
            " 1   presentacion   256423 non-null  object \n",
            " 2   marca          256423 non-null  object \n",
            " 3   categoria      256423 non-null  object \n",
            " 4   grupo          256423 non-null  object \n",
            " 5   precio         256423 non-null  float64\n",
            " 6   fecha          256423 non-null  object \n",
            " 7   marca_tienda   256423 non-null  object \n",
            " 8   tipo_tienda    256423 non-null  object \n",
            " 9   nombre_tienda  256423 non-null  object \n",
            " 10  direccion      256423 non-null  object \n",
            " 11  estado         256423 non-null  object \n",
            " 12  municipio      256423 non-null  object \n",
            " 13  latitud        255516 non-null  float64\n",
            " 14  longitud       255516 non-null  float64\n",
            "dtypes: float64(3), object(12)\n",
            "memory usage: 29.3+ MB\n"
          ]
        }
      ]
    },
    {
      "cell_type": "code",
      "source": [
        "#Se revisa los valores nulos en las columnas y se confirma que existen valores nulos en las columnas latitud y longitud\n",
        "df.isna().sum(axis=0)"
      ],
      "metadata": {
        "colab": {
          "base_uri": "https://localhost:8080/"
        },
        "id": "vYgXzljRVcMi",
        "outputId": "af2979d0-ea73-42c3-97ae-dcd02ca9d81c"
      },
      "execution_count": null,
      "outputs": [
        {
          "output_type": "execute_result",
          "data": {
            "text/plain": [
              "producto           0\n",
              "presentacion       0\n",
              "marca              0\n",
              "categoria          0\n",
              "grupo              0\n",
              "precio             0\n",
              "fecha              0\n",
              "marca_tienda       0\n",
              "tipo_tienda        0\n",
              "nombre_tienda      0\n",
              "direccion          0\n",
              "estado             0\n",
              "municipio          0\n",
              "latitud          907\n",
              "longitud         907\n",
              "dtype: int64"
            ]
          },
          "metadata": {},
          "execution_count": 13
        }
      ]
    },
    {
      "cell_type": "markdown",
      "source": [
        "* Limpiamos el dataset eliminando los registros con valores NaN en latitud y longitud, debido a que varias de nuestras preguntas involucran estos datos por lo que estarían omitiéndose al realizar las consultas y la cantidad de registros con valores nulos representa sólo 0.003% del total."
      ],
      "metadata": {
        "id": "zJ0thOSYw2Gt"
      }
    },
    {
      "cell_type": "code",
      "source": [
        "#Eliminar filas NaNs y filas duplicadas  \n",
        "df = df.dropna(axis=0, how='any')\n",
        "df = df.drop_duplicates()"
      ],
      "metadata": {
        "id": "qTW0TmzeVd-_"
      },
      "execution_count": null,
      "outputs": []
    },
    {
      "cell_type": "markdown",
      "source": [
        "* Asignamos un indice."
      ],
      "metadata": {
        "id": "g1A0EaRL0HhU"
      }
    },
    {
      "cell_type": "code",
      "source": [
        "#Se asigna un indice\n",
        "df.insert(0, 'indice', range(1, 1 + len(df)))\n",
        "df = df.set_index('indice')\n",
        "\n",
        "df.head(2)"
      ],
      "metadata": {
        "id": "2yJ-IuhNVf8H",
        "colab": {
          "base_uri": "https://localhost:8080/",
          "height": 312
        },
        "outputId": "4f003fe0-dfda-433e-98ab-fcac6ace4668"
      },
      "execution_count": null,
      "outputs": [
        {
          "output_type": "execute_result",
          "data": {
            "text/plain": [
              "       producto             presentacion  marca  \\\n",
              "indice                                            \n",
              "1        ACEITE    BOTELLA 1 LT. VEGETAL  1-2-3   \n",
              "2        ACEITE  BOTELLA 850 ML. VEGETAL    AVE   \n",
              "\n",
              "                                categoria    grupo  precio       fecha  \\\n",
              "indice                                                                   \n",
              "1       ACEITES Y GRASAS VEG. COMESTIBLES  BASICOS    56.0  2022-12-26   \n",
              "2       ACEITES Y GRASAS VEG. COMESTIBLES    PACIC    43.9  2022-12-26   \n",
              "\n",
              "        marca_tienda                            tipo_tienda  \\\n",
              "indice                                                        \n",
              "1       MEGA SORIANA  SUPERMERCADO / TIENDA DE AUTOSERVICIO   \n",
              "2       MEGA SORIANA  SUPERMERCADO / TIENDA DE AUTOSERVICIO   \n",
              "\n",
              "                               nombre_tienda  \\\n",
              "indice                                         \n",
              "1       MEGA SORIANA SUCURSAL AGUASCALIENTES   \n",
              "2       MEGA SORIANA SUCURSAL AGUASCALIENTES   \n",
              "\n",
              "                                                direccion          estado  \\\n",
              "indice                                                                      \n",
              "1       AGUASCALIENTES NTE. 802, ESQ. BLVD. A ZACATECA...  AGUASCALIENTES   \n",
              "2       AGUASCALIENTES NTE. 802, ESQ. BLVD. A ZACATECA...  AGUASCALIENTES   \n",
              "\n",
              "             municipio    latitud    longitud  \n",
              "indice                                         \n",
              "1       AGUASCALIENTES  21.916001 -102.290779  \n",
              "2       AGUASCALIENTES  21.916001 -102.290779  "
            ],
            "text/html": [
              "\n",
              "  <div id=\"df-610dd62a-fefd-472a-8a52-6092190e0500\">\n",
              "    <div class=\"colab-df-container\">\n",
              "      <div>\n",
              "<style scoped>\n",
              "    .dataframe tbody tr th:only-of-type {\n",
              "        vertical-align: middle;\n",
              "    }\n",
              "\n",
              "    .dataframe tbody tr th {\n",
              "        vertical-align: top;\n",
              "    }\n",
              "\n",
              "    .dataframe thead th {\n",
              "        text-align: right;\n",
              "    }\n",
              "</style>\n",
              "<table border=\"1\" class=\"dataframe\">\n",
              "  <thead>\n",
              "    <tr style=\"text-align: right;\">\n",
              "      <th></th>\n",
              "      <th>producto</th>\n",
              "      <th>presentacion</th>\n",
              "      <th>marca</th>\n",
              "      <th>categoria</th>\n",
              "      <th>grupo</th>\n",
              "      <th>precio</th>\n",
              "      <th>fecha</th>\n",
              "      <th>marca_tienda</th>\n",
              "      <th>tipo_tienda</th>\n",
              "      <th>nombre_tienda</th>\n",
              "      <th>direccion</th>\n",
              "      <th>estado</th>\n",
              "      <th>municipio</th>\n",
              "      <th>latitud</th>\n",
              "      <th>longitud</th>\n",
              "    </tr>\n",
              "    <tr>\n",
              "      <th>indice</th>\n",
              "      <th></th>\n",
              "      <th></th>\n",
              "      <th></th>\n",
              "      <th></th>\n",
              "      <th></th>\n",
              "      <th></th>\n",
              "      <th></th>\n",
              "      <th></th>\n",
              "      <th></th>\n",
              "      <th></th>\n",
              "      <th></th>\n",
              "      <th></th>\n",
              "      <th></th>\n",
              "      <th></th>\n",
              "      <th></th>\n",
              "    </tr>\n",
              "  </thead>\n",
              "  <tbody>\n",
              "    <tr>\n",
              "      <th>1</th>\n",
              "      <td>ACEITE</td>\n",
              "      <td>BOTELLA 1 LT. VEGETAL</td>\n",
              "      <td>1-2-3</td>\n",
              "      <td>ACEITES Y GRASAS VEG. COMESTIBLES</td>\n",
              "      <td>BASICOS</td>\n",
              "      <td>56.0</td>\n",
              "      <td>2022-12-26</td>\n",
              "      <td>MEGA SORIANA</td>\n",
              "      <td>SUPERMERCADO / TIENDA DE AUTOSERVICIO</td>\n",
              "      <td>MEGA SORIANA SUCURSAL AGUASCALIENTES</td>\n",
              "      <td>AGUASCALIENTES NTE. 802, ESQ. BLVD. A ZACATECA...</td>\n",
              "      <td>AGUASCALIENTES</td>\n",
              "      <td>AGUASCALIENTES</td>\n",
              "      <td>21.916001</td>\n",
              "      <td>-102.290779</td>\n",
              "    </tr>\n",
              "    <tr>\n",
              "      <th>2</th>\n",
              "      <td>ACEITE</td>\n",
              "      <td>BOTELLA 850 ML. VEGETAL</td>\n",
              "      <td>AVE</td>\n",
              "      <td>ACEITES Y GRASAS VEG. COMESTIBLES</td>\n",
              "      <td>PACIC</td>\n",
              "      <td>43.9</td>\n",
              "      <td>2022-12-26</td>\n",
              "      <td>MEGA SORIANA</td>\n",
              "      <td>SUPERMERCADO / TIENDA DE AUTOSERVICIO</td>\n",
              "      <td>MEGA SORIANA SUCURSAL AGUASCALIENTES</td>\n",
              "      <td>AGUASCALIENTES NTE. 802, ESQ. BLVD. A ZACATECA...</td>\n",
              "      <td>AGUASCALIENTES</td>\n",
              "      <td>AGUASCALIENTES</td>\n",
              "      <td>21.916001</td>\n",
              "      <td>-102.290779</td>\n",
              "    </tr>\n",
              "  </tbody>\n",
              "</table>\n",
              "</div>\n",
              "      <button class=\"colab-df-convert\" onclick=\"convertToInteractive('df-610dd62a-fefd-472a-8a52-6092190e0500')\"\n",
              "              title=\"Convert this dataframe to an interactive table.\"\n",
              "              style=\"display:none;\">\n",
              "        \n",
              "  <svg xmlns=\"http://www.w3.org/2000/svg\" height=\"24px\"viewBox=\"0 0 24 24\"\n",
              "       width=\"24px\">\n",
              "    <path d=\"M0 0h24v24H0V0z\" fill=\"none\"/>\n",
              "    <path d=\"M18.56 5.44l.94 2.06.94-2.06 2.06-.94-2.06-.94-.94-2.06-.94 2.06-2.06.94zm-11 1L8.5 8.5l.94-2.06 2.06-.94-2.06-.94L8.5 2.5l-.94 2.06-2.06.94zm10 10l.94 2.06.94-2.06 2.06-.94-2.06-.94-.94-2.06-.94 2.06-2.06.94z\"/><path d=\"M17.41 7.96l-1.37-1.37c-.4-.4-.92-.59-1.43-.59-.52 0-1.04.2-1.43.59L10.3 9.45l-7.72 7.72c-.78.78-.78 2.05 0 2.83L4 21.41c.39.39.9.59 1.41.59.51 0 1.02-.2 1.41-.59l7.78-7.78 2.81-2.81c.8-.78.8-2.07 0-2.86zM5.41 20L4 18.59l7.72-7.72 1.47 1.35L5.41 20z\"/>\n",
              "  </svg>\n",
              "      </button>\n",
              "      \n",
              "  <style>\n",
              "    .colab-df-container {\n",
              "      display:flex;\n",
              "      flex-wrap:wrap;\n",
              "      gap: 12px;\n",
              "    }\n",
              "\n",
              "    .colab-df-convert {\n",
              "      background-color: #E8F0FE;\n",
              "      border: none;\n",
              "      border-radius: 50%;\n",
              "      cursor: pointer;\n",
              "      display: none;\n",
              "      fill: #1967D2;\n",
              "      height: 32px;\n",
              "      padding: 0 0 0 0;\n",
              "      width: 32px;\n",
              "    }\n",
              "\n",
              "    .colab-df-convert:hover {\n",
              "      background-color: #E2EBFA;\n",
              "      box-shadow: 0px 1px 2px rgba(60, 64, 67, 0.3), 0px 1px 3px 1px rgba(60, 64, 67, 0.15);\n",
              "      fill: #174EA6;\n",
              "    }\n",
              "\n",
              "    [theme=dark] .colab-df-convert {\n",
              "      background-color: #3B4455;\n",
              "      fill: #D2E3FC;\n",
              "    }\n",
              "\n",
              "    [theme=dark] .colab-df-convert:hover {\n",
              "      background-color: #434B5C;\n",
              "      box-shadow: 0px 1px 3px 1px rgba(0, 0, 0, 0.15);\n",
              "      filter: drop-shadow(0px 1px 2px rgba(0, 0, 0, 0.3));\n",
              "      fill: #FFFFFF;\n",
              "    }\n",
              "  </style>\n",
              "\n",
              "      <script>\n",
              "        const buttonEl =\n",
              "          document.querySelector('#df-610dd62a-fefd-472a-8a52-6092190e0500 button.colab-df-convert');\n",
              "        buttonEl.style.display =\n",
              "          google.colab.kernel.accessAllowed ? 'block' : 'none';\n",
              "\n",
              "        async function convertToInteractive(key) {\n",
              "          const element = document.querySelector('#df-610dd62a-fefd-472a-8a52-6092190e0500');\n",
              "          const dataTable =\n",
              "            await google.colab.kernel.invokeFunction('convertToInteractive',\n",
              "                                                     [key], {});\n",
              "          if (!dataTable) return;\n",
              "\n",
              "          const docLinkHtml = 'Like what you see? Visit the ' +\n",
              "            '<a target=\"_blank\" href=https://colab.research.google.com/notebooks/data_table.ipynb>data table notebook</a>'\n",
              "            + ' to learn more about interactive tables.';\n",
              "          element.innerHTML = '';\n",
              "          dataTable['output_type'] = 'display_data';\n",
              "          await google.colab.output.renderOutput(dataTable, element);\n",
              "          const docLink = document.createElement('div');\n",
              "          docLink.innerHTML = docLinkHtml;\n",
              "          element.appendChild(docLink);\n",
              "        }\n",
              "      </script>\n",
              "    </div>\n",
              "  </div>\n",
              "  "
            ]
          },
          "metadata": {},
          "execution_count": 15
        }
      ]
    },
    {
      "cell_type": "markdown",
      "source": [
        "* Realizamos algunas agregaciones para conocer más sobre el contenido de los datos"
      ],
      "metadata": {
        "id": "O70lNSop1HLT"
      }
    },
    {
      "cell_type": "code",
      "source": [
        "#verificar los análisis estadísticos de todas la columnas del dataframe\n",
        "#Nos dice que hay 708 productos y 134 marcas de tienda distribuidos en 255516 filas\n",
        "#el producto y marca de tienda que mas se repiten son REFRESCO y WAL-MART\n",
        "df.describe(include = \"all\")"
      ],
      "metadata": {
        "colab": {
          "base_uri": "https://localhost:8080/",
          "height": 528
        },
        "id": "6s7LWkP4Vk5j",
        "outputId": "79d2f78a-23c7-4f53-c7b5-655b1e6ac482"
      },
      "execution_count": null,
      "outputs": [
        {
          "output_type": "execute_result",
          "data": {
            "text/plain": [
              "        producto  presentacion   marca     categoria    grupo         precio  \\\n",
              "count     255516        255516  255516        255516   255516  255516.000000   \n",
              "unique       708          2768     807            40        9            NaN   \n",
              "top     REFRESCO  1 KG. GRANEL     S/M  MEDICAMENTOS  BASICOS            NaN   \n",
              "freq        5338          3573   84827         54836   123377            NaN   \n",
              "mean         NaN           NaN     NaN           NaN      NaN     632.072448   \n",
              "std          NaN           NaN     NaN           NaN      NaN    2349.578727   \n",
              "min          NaN           NaN     NaN           NaN      NaN       1.300000   \n",
              "25%          NaN           NaN     NaN           NaN      NaN      29.500000   \n",
              "50%          NaN           NaN     NaN           NaN      NaN      63.000000   \n",
              "75%          NaN           NaN     NaN           NaN      NaN     315.600000   \n",
              "max          NaN           NaN     NaN           NaN      NaN   67149.000000   \n",
              "\n",
              "             fecha marca_tienda                            tipo_tienda  \\\n",
              "count       255516       255516                                 255516   \n",
              "unique           5          134                                     13   \n",
              "top     2022-12-27     WAL-MART  SUPERMERCADO / TIENDA DE AUTOSERVICIO   \n",
              "freq         59334        41517                                 205627   \n",
              "mean           NaN          NaN                                    NaN   \n",
              "std            NaN          NaN                                    NaN   \n",
              "min            NaN          NaN                                    NaN   \n",
              "25%            NaN          NaN                                    NaN   \n",
              "50%            NaN          NaN                                    NaN   \n",
              "75%            NaN          NaN                                    NaN   \n",
              "max            NaN          NaN                                    NaN   \n",
              "\n",
              "       nombre_tienda                                          direccion  \\\n",
              "count         255516                                             255516   \n",
              "unique          1208                                               1266   \n",
              "top         WAL MART  REVOLUCION 780, ENTRE RUBENS Y HOLBEIN, COL. M...   \n",
              "freq            2371                                               1464   \n",
              "mean             NaN                                                NaN   \n",
              "std              NaN                                                NaN   \n",
              "min              NaN                                                NaN   \n",
              "25%              NaN                                                NaN   \n",
              "50%              NaN                                                NaN   \n",
              "75%              NaN                                                NaN   \n",
              "max              NaN                                                NaN   \n",
              "\n",
              "                  estado municipio        latitud       longitud  \n",
              "count             255516    255516  255516.000000  255516.000000  \n",
              "unique                29        67            NaN            NaN  \n",
              "top     CIUDAD DE MÉXICO      LEÓN            NaN            NaN  \n",
              "freq               56128     13850            NaN            NaN  \n",
              "mean                 NaN       NaN      20.881830     -99.508514  \n",
              "std                  NaN       NaN       2.936894       4.970139  \n",
              "min                  NaN       NaN      16.736944    -117.041677  \n",
              "25%                  NaN       NaN      19.345444    -101.647188  \n",
              "50%                  NaN       NaN      19.614073     -99.199154  \n",
              "75%                  NaN       NaN      21.153407     -99.005579  \n",
              "max                  NaN       NaN      32.535127     -86.824104  "
            ],
            "text/html": [
              "\n",
              "  <div id=\"df-25e3f95d-27ec-4b94-9a2a-1632a808d579\">\n",
              "    <div class=\"colab-df-container\">\n",
              "      <div>\n",
              "<style scoped>\n",
              "    .dataframe tbody tr th:only-of-type {\n",
              "        vertical-align: middle;\n",
              "    }\n",
              "\n",
              "    .dataframe tbody tr th {\n",
              "        vertical-align: top;\n",
              "    }\n",
              "\n",
              "    .dataframe thead th {\n",
              "        text-align: right;\n",
              "    }\n",
              "</style>\n",
              "<table border=\"1\" class=\"dataframe\">\n",
              "  <thead>\n",
              "    <tr style=\"text-align: right;\">\n",
              "      <th></th>\n",
              "      <th>producto</th>\n",
              "      <th>presentacion</th>\n",
              "      <th>marca</th>\n",
              "      <th>categoria</th>\n",
              "      <th>grupo</th>\n",
              "      <th>precio</th>\n",
              "      <th>fecha</th>\n",
              "      <th>marca_tienda</th>\n",
              "      <th>tipo_tienda</th>\n",
              "      <th>nombre_tienda</th>\n",
              "      <th>direccion</th>\n",
              "      <th>estado</th>\n",
              "      <th>municipio</th>\n",
              "      <th>latitud</th>\n",
              "      <th>longitud</th>\n",
              "    </tr>\n",
              "  </thead>\n",
              "  <tbody>\n",
              "    <tr>\n",
              "      <th>count</th>\n",
              "      <td>255516</td>\n",
              "      <td>255516</td>\n",
              "      <td>255516</td>\n",
              "      <td>255516</td>\n",
              "      <td>255516</td>\n",
              "      <td>255516.000000</td>\n",
              "      <td>255516</td>\n",
              "      <td>255516</td>\n",
              "      <td>255516</td>\n",
              "      <td>255516</td>\n",
              "      <td>255516</td>\n",
              "      <td>255516</td>\n",
              "      <td>255516</td>\n",
              "      <td>255516.000000</td>\n",
              "      <td>255516.000000</td>\n",
              "    </tr>\n",
              "    <tr>\n",
              "      <th>unique</th>\n",
              "      <td>708</td>\n",
              "      <td>2768</td>\n",
              "      <td>807</td>\n",
              "      <td>40</td>\n",
              "      <td>9</td>\n",
              "      <td>NaN</td>\n",
              "      <td>5</td>\n",
              "      <td>134</td>\n",
              "      <td>13</td>\n",
              "      <td>1208</td>\n",
              "      <td>1266</td>\n",
              "      <td>29</td>\n",
              "      <td>67</td>\n",
              "      <td>NaN</td>\n",
              "      <td>NaN</td>\n",
              "    </tr>\n",
              "    <tr>\n",
              "      <th>top</th>\n",
              "      <td>REFRESCO</td>\n",
              "      <td>1 KG. GRANEL</td>\n",
              "      <td>S/M</td>\n",
              "      <td>MEDICAMENTOS</td>\n",
              "      <td>BASICOS</td>\n",
              "      <td>NaN</td>\n",
              "      <td>2022-12-27</td>\n",
              "      <td>WAL-MART</td>\n",
              "      <td>SUPERMERCADO / TIENDA DE AUTOSERVICIO</td>\n",
              "      <td>WAL MART</td>\n",
              "      <td>REVOLUCION 780, ENTRE RUBENS Y HOLBEIN, COL. M...</td>\n",
              "      <td>CIUDAD DE MÉXICO</td>\n",
              "      <td>LEÓN</td>\n",
              "      <td>NaN</td>\n",
              "      <td>NaN</td>\n",
              "    </tr>\n",
              "    <tr>\n",
              "      <th>freq</th>\n",
              "      <td>5338</td>\n",
              "      <td>3573</td>\n",
              "      <td>84827</td>\n",
              "      <td>54836</td>\n",
              "      <td>123377</td>\n",
              "      <td>NaN</td>\n",
              "      <td>59334</td>\n",
              "      <td>41517</td>\n",
              "      <td>205627</td>\n",
              "      <td>2371</td>\n",
              "      <td>1464</td>\n",
              "      <td>56128</td>\n",
              "      <td>13850</td>\n",
              "      <td>NaN</td>\n",
              "      <td>NaN</td>\n",
              "    </tr>\n",
              "    <tr>\n",
              "      <th>mean</th>\n",
              "      <td>NaN</td>\n",
              "      <td>NaN</td>\n",
              "      <td>NaN</td>\n",
              "      <td>NaN</td>\n",
              "      <td>NaN</td>\n",
              "      <td>632.072448</td>\n",
              "      <td>NaN</td>\n",
              "      <td>NaN</td>\n",
              "      <td>NaN</td>\n",
              "      <td>NaN</td>\n",
              "      <td>NaN</td>\n",
              "      <td>NaN</td>\n",
              "      <td>NaN</td>\n",
              "      <td>20.881830</td>\n",
              "      <td>-99.508514</td>\n",
              "    </tr>\n",
              "    <tr>\n",
              "      <th>std</th>\n",
              "      <td>NaN</td>\n",
              "      <td>NaN</td>\n",
              "      <td>NaN</td>\n",
              "      <td>NaN</td>\n",
              "      <td>NaN</td>\n",
              "      <td>2349.578727</td>\n",
              "      <td>NaN</td>\n",
              "      <td>NaN</td>\n",
              "      <td>NaN</td>\n",
              "      <td>NaN</td>\n",
              "      <td>NaN</td>\n",
              "      <td>NaN</td>\n",
              "      <td>NaN</td>\n",
              "      <td>2.936894</td>\n",
              "      <td>4.970139</td>\n",
              "    </tr>\n",
              "    <tr>\n",
              "      <th>min</th>\n",
              "      <td>NaN</td>\n",
              "      <td>NaN</td>\n",
              "      <td>NaN</td>\n",
              "      <td>NaN</td>\n",
              "      <td>NaN</td>\n",
              "      <td>1.300000</td>\n",
              "      <td>NaN</td>\n",
              "      <td>NaN</td>\n",
              "      <td>NaN</td>\n",
              "      <td>NaN</td>\n",
              "      <td>NaN</td>\n",
              "      <td>NaN</td>\n",
              "      <td>NaN</td>\n",
              "      <td>16.736944</td>\n",
              "      <td>-117.041677</td>\n",
              "    </tr>\n",
              "    <tr>\n",
              "      <th>25%</th>\n",
              "      <td>NaN</td>\n",
              "      <td>NaN</td>\n",
              "      <td>NaN</td>\n",
              "      <td>NaN</td>\n",
              "      <td>NaN</td>\n",
              "      <td>29.500000</td>\n",
              "      <td>NaN</td>\n",
              "      <td>NaN</td>\n",
              "      <td>NaN</td>\n",
              "      <td>NaN</td>\n",
              "      <td>NaN</td>\n",
              "      <td>NaN</td>\n",
              "      <td>NaN</td>\n",
              "      <td>19.345444</td>\n",
              "      <td>-101.647188</td>\n",
              "    </tr>\n",
              "    <tr>\n",
              "      <th>50%</th>\n",
              "      <td>NaN</td>\n",
              "      <td>NaN</td>\n",
              "      <td>NaN</td>\n",
              "      <td>NaN</td>\n",
              "      <td>NaN</td>\n",
              "      <td>63.000000</td>\n",
              "      <td>NaN</td>\n",
              "      <td>NaN</td>\n",
              "      <td>NaN</td>\n",
              "      <td>NaN</td>\n",
              "      <td>NaN</td>\n",
              "      <td>NaN</td>\n",
              "      <td>NaN</td>\n",
              "      <td>19.614073</td>\n",
              "      <td>-99.199154</td>\n",
              "    </tr>\n",
              "    <tr>\n",
              "      <th>75%</th>\n",
              "      <td>NaN</td>\n",
              "      <td>NaN</td>\n",
              "      <td>NaN</td>\n",
              "      <td>NaN</td>\n",
              "      <td>NaN</td>\n",
              "      <td>315.600000</td>\n",
              "      <td>NaN</td>\n",
              "      <td>NaN</td>\n",
              "      <td>NaN</td>\n",
              "      <td>NaN</td>\n",
              "      <td>NaN</td>\n",
              "      <td>NaN</td>\n",
              "      <td>NaN</td>\n",
              "      <td>21.153407</td>\n",
              "      <td>-99.005579</td>\n",
              "    </tr>\n",
              "    <tr>\n",
              "      <th>max</th>\n",
              "      <td>NaN</td>\n",
              "      <td>NaN</td>\n",
              "      <td>NaN</td>\n",
              "      <td>NaN</td>\n",
              "      <td>NaN</td>\n",
              "      <td>67149.000000</td>\n",
              "      <td>NaN</td>\n",
              "      <td>NaN</td>\n",
              "      <td>NaN</td>\n",
              "      <td>NaN</td>\n",
              "      <td>NaN</td>\n",
              "      <td>NaN</td>\n",
              "      <td>NaN</td>\n",
              "      <td>32.535127</td>\n",
              "      <td>-86.824104</td>\n",
              "    </tr>\n",
              "  </tbody>\n",
              "</table>\n",
              "</div>\n",
              "      <button class=\"colab-df-convert\" onclick=\"convertToInteractive('df-25e3f95d-27ec-4b94-9a2a-1632a808d579')\"\n",
              "              title=\"Convert this dataframe to an interactive table.\"\n",
              "              style=\"display:none;\">\n",
              "        \n",
              "  <svg xmlns=\"http://www.w3.org/2000/svg\" height=\"24px\"viewBox=\"0 0 24 24\"\n",
              "       width=\"24px\">\n",
              "    <path d=\"M0 0h24v24H0V0z\" fill=\"none\"/>\n",
              "    <path d=\"M18.56 5.44l.94 2.06.94-2.06 2.06-.94-2.06-.94-.94-2.06-.94 2.06-2.06.94zm-11 1L8.5 8.5l.94-2.06 2.06-.94-2.06-.94L8.5 2.5l-.94 2.06-2.06.94zm10 10l.94 2.06.94-2.06 2.06-.94-2.06-.94-.94-2.06-.94 2.06-2.06.94z\"/><path d=\"M17.41 7.96l-1.37-1.37c-.4-.4-.92-.59-1.43-.59-.52 0-1.04.2-1.43.59L10.3 9.45l-7.72 7.72c-.78.78-.78 2.05 0 2.83L4 21.41c.39.39.9.59 1.41.59.51 0 1.02-.2 1.41-.59l7.78-7.78 2.81-2.81c.8-.78.8-2.07 0-2.86zM5.41 20L4 18.59l7.72-7.72 1.47 1.35L5.41 20z\"/>\n",
              "  </svg>\n",
              "      </button>\n",
              "      \n",
              "  <style>\n",
              "    .colab-df-container {\n",
              "      display:flex;\n",
              "      flex-wrap:wrap;\n",
              "      gap: 12px;\n",
              "    }\n",
              "\n",
              "    .colab-df-convert {\n",
              "      background-color: #E8F0FE;\n",
              "      border: none;\n",
              "      border-radius: 50%;\n",
              "      cursor: pointer;\n",
              "      display: none;\n",
              "      fill: #1967D2;\n",
              "      height: 32px;\n",
              "      padding: 0 0 0 0;\n",
              "      width: 32px;\n",
              "    }\n",
              "\n",
              "    .colab-df-convert:hover {\n",
              "      background-color: #E2EBFA;\n",
              "      box-shadow: 0px 1px 2px rgba(60, 64, 67, 0.3), 0px 1px 3px 1px rgba(60, 64, 67, 0.15);\n",
              "      fill: #174EA6;\n",
              "    }\n",
              "\n",
              "    [theme=dark] .colab-df-convert {\n",
              "      background-color: #3B4455;\n",
              "      fill: #D2E3FC;\n",
              "    }\n",
              "\n",
              "    [theme=dark] .colab-df-convert:hover {\n",
              "      background-color: #434B5C;\n",
              "      box-shadow: 0px 1px 3px 1px rgba(0, 0, 0, 0.15);\n",
              "      filter: drop-shadow(0px 1px 2px rgba(0, 0, 0, 0.3));\n",
              "      fill: #FFFFFF;\n",
              "    }\n",
              "  </style>\n",
              "\n",
              "      <script>\n",
              "        const buttonEl =\n",
              "          document.querySelector('#df-25e3f95d-27ec-4b94-9a2a-1632a808d579 button.colab-df-convert');\n",
              "        buttonEl.style.display =\n",
              "          google.colab.kernel.accessAllowed ? 'block' : 'none';\n",
              "\n",
              "        async function convertToInteractive(key) {\n",
              "          const element = document.querySelector('#df-25e3f95d-27ec-4b94-9a2a-1632a808d579');\n",
              "          const dataTable =\n",
              "            await google.colab.kernel.invokeFunction('convertToInteractive',\n",
              "                                                     [key], {});\n",
              "          if (!dataTable) return;\n",
              "\n",
              "          const docLinkHtml = 'Like what you see? Visit the ' +\n",
              "            '<a target=\"_blank\" href=https://colab.research.google.com/notebooks/data_table.ipynb>data table notebook</a>'\n",
              "            + ' to learn more about interactive tables.';\n",
              "          element.innerHTML = '';\n",
              "          dataTable['output_type'] = 'display_data';\n",
              "          await google.colab.output.renderOutput(dataTable, element);\n",
              "          const docLink = document.createElement('div');\n",
              "          docLink.innerHTML = docLinkHtml;\n",
              "          element.appendChild(docLink);\n",
              "        }\n",
              "      </script>\n",
              "    </div>\n",
              "  </div>\n",
              "  "
            ]
          },
          "metadata": {},
          "execution_count": 16
        }
      ]
    },
    {
      "cell_type": "code",
      "source": [
        "#Extraer codigo postal de la columna direccion\n",
        "df['CP'] = df['direccion'].str[-5:]"
      ],
      "metadata": {
        "id": "cD38IsVRfmRc"
      },
      "execution_count": null,
      "outputs": []
    },
    {
      "cell_type": "code",
      "source": [
        "#Cantidad de códigos postales (509) \n",
        "df[['CP']].drop_duplicates().count()"
      ],
      "metadata": {
        "colab": {
          "base_uri": "https://localhost:8080/"
        },
        "id": "npoCYNP2gHmA",
        "outputId": "45e40bcf-9118-473c-e732-443ae0ccb79f"
      },
      "execution_count": null,
      "outputs": [
        {
          "output_type": "execute_result",
          "data": {
            "text/plain": [
              "CP    509\n",
              "dtype: int64"
            ]
          },
          "metadata": {},
          "execution_count": 18
        }
      ]
    },
    {
      "cell_type": "markdown",
      "source": [
        "* Investigamos sobre el contenido de la columna producto"
      ],
      "metadata": {
        "id": "3fy0ff6u64Qu"
      }
    },
    {
      "cell_type": "code",
      "source": [
        "#verificar los análisis estadísticos de la columna producto\n",
        "df['producto'].describe()"
      ],
      "metadata": {
        "id": "gec6-80gVlj4",
        "colab": {
          "base_uri": "https://localhost:8080/"
        },
        "outputId": "5582d5bc-9ee4-4492-f86c-d95e5ed9251a"
      },
      "execution_count": null,
      "outputs": [
        {
          "output_type": "execute_result",
          "data": {
            "text/plain": [
              "count       255516\n",
              "unique         708\n",
              "top       REFRESCO\n",
              "freq          5338\n",
              "Name: producto, dtype: object"
            ]
          },
          "metadata": {},
          "execution_count": 19
        }
      ]
    },
    {
      "cell_type": "code",
      "source": [
        "#Se realiza un conteo de los productos que se repiten mas\n",
        "df.groupby(\"producto\").size().sort_values(ascending=False)"
      ],
      "metadata": {
        "id": "hN2SILM7Vnax",
        "colab": {
          "base_uri": "https://localhost:8080/"
        },
        "outputId": "76b40c97-4eb8-4e9b-a45f-741848c01801"
      },
      "execution_count": null,
      "outputs": [
        {
          "output_type": "execute_result",
          "data": {
            "text/plain": [
              "producto\n",
              "REFRESCO           5338\n",
              "VARIOS             5264\n",
              "JUEGOS DE MESA     4324\n",
              "TOALLA FEMENINA    4083\n",
              "PASTA PARA SOPA    3947\n",
              "                   ... \n",
              "HALCION               1\n",
              "CARPA                 1\n",
              "JAIBON                1\n",
              "COMPETACT             1\n",
              "PARGO                 1\n",
              "Length: 708, dtype: int64"
            ]
          },
          "metadata": {},
          "execution_count": 20
        }
      ]
    },
    {
      "cell_type": "markdown",
      "source": [
        "Realizamos agregaciones para conocer más acerca de los valores en las columnas del dataset\n",
        "\n"
      ],
      "metadata": {
        "id": "8eKjMUVK3Ulc"
      }
    },
    {
      "cell_type": "code",
      "source": [
        "# Encontramos cuantos valores únicos hay en otras columnas de interés. \n",
        "# Así observamos que, por ejemplo, el dataset contiene 40 categorías de productos,\n",
        "# hay 807 marcas de productos, etc.\n",
        "\n",
        "df.nunique()"
      ],
      "metadata": {
        "id": "2Sr_ljZN3IW_",
        "colab": {
          "base_uri": "https://localhost:8080/"
        },
        "outputId": "5f9f4494-0b9a-45e9-c4cc-fdaf90fd4bce"
      },
      "execution_count": null,
      "outputs": [
        {
          "output_type": "execute_result",
          "data": {
            "text/plain": [
              "producto          708\n",
              "presentacion     2768\n",
              "marca             807\n",
              "categoria          40\n",
              "grupo               9\n",
              "precio           9670\n",
              "fecha               5\n",
              "marca_tienda      134\n",
              "tipo_tienda        13\n",
              "nombre_tienda    1208\n",
              "direccion        1266\n",
              "estado             29\n",
              "municipio          67\n",
              "latitud          1153\n",
              "longitud         1152\n",
              "CP                509\n",
              "dtype: int64"
            ]
          },
          "metadata": {},
          "execution_count": 21
        }
      ]
    },
    {
      "cell_type": "markdown",
      "source": [
        "Realizamos agregaciones para conocer más acerca de las categorías de productos"
      ],
      "metadata": {
        "id": "2KFEBu5Z1sQd"
      }
    },
    {
      "cell_type": "code",
      "source": [
        "#Encontramos cuantos productos hay por categoría\n",
        "df[['producto', 'categoria']].drop_duplicates().groupby('categoria').size().sort_values(ascending=False)"
      ],
      "metadata": {
        "id": "LirtH07S2fCX",
        "colab": {
          "base_uri": "https://localhost:8080/"
        },
        "outputId": "67caeddd-1453-491f-c448-289412b89a76"
      },
      "execution_count": null,
      "outputs": [
        {
          "output_type": "execute_result",
          "data": {
            "text/plain": [
              "categoria\n",
              "MEDICAMENTOS                          368\n",
              "HORTALIZAS FRESCAS                     28\n",
              "ARTS. PARA EL CUIDADO PERSONAL         28\n",
              "PESCADOS Y MARISCOS                    25\n",
              "FRUTAS FRESCAS                         24\n",
              "PRODUCTOS DE TEMPORADA (NAVIDEÑOS)     20\n",
              "APARATOS ELECTRICOS                    19\n",
              "CONDIMENTOS                            18\n",
              "ARTS. DE ESPARCIMIENTO (JUGUETES)      16\n",
              "DERIVADOS DE LECHE                     15\n",
              "FRUTAS Y LEGUMBRES PROCESADAS          15\n",
              "CHOCOLATES Y GOLOSINAS                 14\n",
              "APARATOS ELECTRONICOS                  14\n",
              "DETERGENTES Y PRODUCTOS SIMILARES      11\n",
              "CARNES FRIAS SECAS Y EMBUTIDOS          9\n",
              "LEGUMBRES SECAS                         9\n",
              "ARTS. DE PAPEL P/HIGIENE PERSONAL       8\n",
              "ARROZ Y CEREALES PREPARADOS             7\n",
              "REFRESCOS ENVASADOS                     7\n",
              "GALLETAS PASTAS Y HARINAS DE TRIGO      7\n",
              "PAN                                     7\n",
              "LECHE PROCESADA                         6\n",
              "VINOS Y LICORES                         6\n",
              "TORTILLAS Y DERIVADOS DEL MAIZ          5\n",
              "ACEITES Y GRASAS VEG. COMESTIBLES       3\n",
              "PESCADOS Y MARISCOS EN CONSERVA         3\n",
              "CAFE                                    2\n",
              "UTENSILIOS DOMESTICOS                   2\n",
              "AZUCAR                                  2\n",
              "ACCESORIOS DOMESTICOS                   2\n",
              "CARNE Y VISCERAS DE RES                 2\n",
              "CARNE Y VISCERAS DE CERDO               1\n",
              "GRASAS ANIMALES COMESTIBLES             1\n",
              "CERVEZA                                 1\n",
              "LECHE FRESCA                            1\n",
              "ALIMENTOS COCINADOS F/CASA              1\n",
              "TE                                      1\n",
              "HUEVO                                   1\n",
              "CIGARRILLOS                             1\n",
              "CARNE DE AVE                            1\n",
              "dtype: int64"
            ]
          },
          "metadata": {},
          "execution_count": 22
        }
      ]
    },
    {
      "cell_type": "code",
      "source": [
        "df[['producto', 'categoria']].drop_duplicates().groupby('categoria').size().sort_values(ascending=False)"
      ],
      "metadata": {
        "colab": {
          "base_uri": "https://localhost:8080/"
        },
        "id": "zEiJ_ldzfEqg",
        "outputId": "ebcf76d0-7438-4a58-e6ef-799a2bacdf30"
      },
      "execution_count": null,
      "outputs": [
        {
          "output_type": "execute_result",
          "data": {
            "text/plain": [
              "categoria\n",
              "MEDICAMENTOS                          368\n",
              "HORTALIZAS FRESCAS                     28\n",
              "ARTS. PARA EL CUIDADO PERSONAL         28\n",
              "PESCADOS Y MARISCOS                    25\n",
              "FRUTAS FRESCAS                         24\n",
              "PRODUCTOS DE TEMPORADA (NAVIDEÑOS)     20\n",
              "APARATOS ELECTRICOS                    19\n",
              "CONDIMENTOS                            18\n",
              "ARTS. DE ESPARCIMIENTO (JUGUETES)      16\n",
              "DERIVADOS DE LECHE                     15\n",
              "FRUTAS Y LEGUMBRES PROCESADAS          15\n",
              "CHOCOLATES Y GOLOSINAS                 14\n",
              "APARATOS ELECTRONICOS                  14\n",
              "DETERGENTES Y PRODUCTOS SIMILARES      11\n",
              "CARNES FRIAS SECAS Y EMBUTIDOS          9\n",
              "LEGUMBRES SECAS                         9\n",
              "ARTS. DE PAPEL P/HIGIENE PERSONAL       8\n",
              "ARROZ Y CEREALES PREPARADOS             7\n",
              "REFRESCOS ENVASADOS                     7\n",
              "GALLETAS PASTAS Y HARINAS DE TRIGO      7\n",
              "PAN                                     7\n",
              "LECHE PROCESADA                         6\n",
              "VINOS Y LICORES                         6\n",
              "TORTILLAS Y DERIVADOS DEL MAIZ          5\n",
              "ACEITES Y GRASAS VEG. COMESTIBLES       3\n",
              "PESCADOS Y MARISCOS EN CONSERVA         3\n",
              "CAFE                                    2\n",
              "UTENSILIOS DOMESTICOS                   2\n",
              "AZUCAR                                  2\n",
              "ACCESORIOS DOMESTICOS                   2\n",
              "CARNE Y VISCERAS DE RES                 2\n",
              "CARNE Y VISCERAS DE CERDO               1\n",
              "GRASAS ANIMALES COMESTIBLES             1\n",
              "CERVEZA                                 1\n",
              "LECHE FRESCA                            1\n",
              "ALIMENTOS COCINADOS F/CASA              1\n",
              "TE                                      1\n",
              "HUEVO                                   1\n",
              "CIGARRILLOS                             1\n",
              "CARNE DE AVE                            1\n",
              "dtype: int64"
            ]
          },
          "metadata": {},
          "execution_count": 23
        }
      ]
    },
    {
      "cell_type": "code",
      "source": [
        "#Encontramos cuantos tiendas hay por estado, agrupando por direccion de la tienda y estado\n",
        "df[['estado', 'direccion']].drop_duplicates().groupby('estado').size().sort_values(ascending=False)"
      ],
      "metadata": {
        "id": "42PJQ9TURmWL",
        "colab": {
          "base_uri": "https://localhost:8080/"
        },
        "outputId": "b6babc2d-ee34-4d55-9301-4fcb3858ea1c"
      },
      "execution_count": null,
      "outputs": [
        {
          "output_type": "execute_result",
          "data": {
            "text/plain": [
              "estado\n",
              "CIUDAD DE MÉXICO        192\n",
              "ESTADO DE MÉXICO        152\n",
              "JALISCO                  72\n",
              "GUANAJUATO               68\n",
              "ZACATECAS                52\n",
              "QUINTANA ROO             52\n",
              "VERACRUZ                 51\n",
              "NUEVO LEÓN               48\n",
              "QUERÉTARO                44\n",
              "YUCATÁN                  41\n",
              "TABASCO                  38\n",
              "OAXACA                   37\n",
              "SINALOA                  35\n",
              "PUEBLA                   32\n",
              "TLAXCALA                 28\n",
              "MORELOS                  27\n",
              "DURANGO                  27\n",
              "COAHUILA DE ZARAGOZA     27\n",
              "CHIAPAS                  27\n",
              "AGUASCALIENTES           26\n",
              "MICHOACÁN DE OCAMPO      25\n",
              "CHIHUAHUA                25\n",
              "BAJA CALIFORNIA          24\n",
              "TAMAULIPAS               24\n",
              "CAMPECHE                 24\n",
              "BAJA CALIFORNIA SUR      24\n",
              "SAN LUIS POTOSÍ          21\n",
              "SONORA                   20\n",
              "GUERRERO                  3\n",
              "dtype: int64"
            ]
          },
          "metadata": {},
          "execution_count": 24
        }
      ]
    },
    {
      "cell_type": "markdown",
      "source": [
        "De acuerdo con el conocimiento obtenido sobre el contenido del dataset al parecer si es posible encontrar los precios menores de productos y categorías usando agregaciones, pero se requiere crear un dato adicional que nos permita homogenizar los precios por unidad de medida, por ejemplo, precio por gramo o kilogramo, porque existen diferentes presentaciones de un mismo producto.\n",
        "También técnicamente es posible proporcionar las tiendas cercanas a una ubicación que ofrezcan cierto producto con menor precio porque los datos muestran precisión, sin embargo, la cantidad de códigos postales (509) es muy pequeña respecto al total de códigos postales en México (30 mil aproximadamente), por lo que estos datos al parecer son muestrales."
      ],
      "metadata": {
        "id": "tLGF7LZG7bFO"
      }
    },
    {
      "cell_type": "markdown",
      "source": [
        "# POSTWORK 6 - APIS, AUTOMATIZACIÓN Y CONCATENACIÓN DE DATAFRAMES"
      ],
      "metadata": {
        "id": "u7kQfZT00Bqn"
      }
    },
    {
      "cell_type": "markdown",
      "source": [
        "En este postwork buscamos un API que complementara nuestro dataset original. Aunque PROFECO si mantiene publicada un API sobre \"Quién es quien en los precios\" y está en operación, al solicitarle datos regresa una estructura vacía y no encontramos documentación acerca de los parámetros apropiados para realizar las solicitudes.\n",
        "\n",
        "Buscamos un API que estuviera relacionada con nuestro dataset original y encontramos interesante explorar el [API de COPOMEX](https://api.copomex.com/documentacion/inicio) (Código Postal Mexicano), dedicada a la ubicación, búsqueda y manejo de códigos postales en México.\n",
        "\n",
        "Creamos una cuenta, exploramos la documentación y realizamos peticiones de prueba con éxito.\n",
        "\n",
        "[Ver Jupyter Notebook](https://github.com/adavals/bedu-datascience-f2m2/blob/main/postwork6.ipynb)\n",
        "\n"
      ],
      "metadata": {
        "id": "5RT39_9Z0emi"
      }
    },
    {
      "cell_type": "markdown",
      "source": [
        "# POSTWORK 7 - TRANSFORMACIÓN, FILTRACIÓN Y REORDENAMIENTO"
      ],
      "metadata": {
        "id": "4UAPUX-B0EnH"
      }
    },
    {
      "cell_type": "markdown",
      "source": [
        "Para el correcto análisis y explotación de la información la mayoría de las veces es necesario aplicar algunas transformaciones que incluyen el filtrado para conservar únicamente la información objeto de nuestro estudio, la creación de columnas calculadas para un propósito específico, el recasteo de columnas con tipos de datos incorrectos y el agrupamiento y reordenamiento de la información que en ocasiones derivan en nuevos datasets."
      ],
      "metadata": {
        "id": "IQgY3KKR1JWI"
      }
    },
    {
      "cell_type": "markdown",
      "source": [
        "* Tras el análisis exploratorio de datos nos percatamos de que las fechas no se encuentran en el formato correcto, por lo que es necesario aplicar un recasteo."
      ],
      "metadata": {
        "id": "BfbjKlgOBqD5"
      }
    },
    {
      "cell_type": "code",
      "source": [
        "#Casting de fechas a datetime64[ns]\n",
        "df['fecha']=pd.to_datetime(df['fecha'], unit='ns')\n",
        "df.info()"
      ],
      "metadata": {
        "id": "wuXJwudACDf0",
        "colab": {
          "base_uri": "https://localhost:8080/"
        },
        "outputId": "51aea95a-5301-4ab7-9b53-18f68ff42383"
      },
      "execution_count": null,
      "outputs": [
        {
          "output_type": "stream",
          "name": "stdout",
          "text": [
            "<class 'pandas.core.frame.DataFrame'>\n",
            "Int64Index: 255516 entries, 1 to 255516\n",
            "Data columns (total 16 columns):\n",
            " #   Column         Non-Null Count   Dtype         \n",
            "---  ------         --------------   -----         \n",
            " 0   producto       255516 non-null  object        \n",
            " 1   presentacion   255516 non-null  object        \n",
            " 2   marca          255516 non-null  object        \n",
            " 3   categoria      255516 non-null  object        \n",
            " 4   grupo          255516 non-null  object        \n",
            " 5   precio         255516 non-null  float64       \n",
            " 6   fecha          255516 non-null  datetime64[ns]\n",
            " 7   marca_tienda   255516 non-null  object        \n",
            " 8   tipo_tienda    255516 non-null  object        \n",
            " 9   nombre_tienda  255516 non-null  object        \n",
            " 10  direccion      255516 non-null  object        \n",
            " 11  estado         255516 non-null  object        \n",
            " 12  municipio      255516 non-null  object        \n",
            " 13  latitud        255516 non-null  float64       \n",
            " 14  longitud       255516 non-null  float64       \n",
            " 15  CP             255516 non-null  object        \n",
            "dtypes: datetime64[ns](1), float64(3), object(12)\n",
            "memory usage: 33.1+ MB\n"
          ]
        }
      ]
    },
    {
      "cell_type": "markdown",
      "source": [
        "* Por cuestiones prácticas nos concentraremos en los productos del catálogo PACIC (Paquete Contra la Inflación y la Carestía) que se enfoca en productos de la canasta básica, y dentro de este grupo, solo a ciertas categorías de productos."
      ],
      "metadata": {
        "id": "MAOlBiH2FgE8"
      }
    },
    {
      "cell_type": "code",
      "source": [
        "#Filtrado por grupo PACIC y productos de la canasta básica\n",
        "grupo_pacic = df['grupo']=='PACIC'\n",
        "df=df[grupo_pacic]\n",
        "\n",
        "df = df[df.categoria.isin(['ACEITES Y GRASAS VEG. COMESTIBLES','ARROZ Y CEREALES PREPARADOS','AZUCAR','FRUTAS FRESCAS',\n",
        "'HORTALIZAS FRESCAS','LECHE FRESCA','TORTILLAS Y DERIVADOS DEL MAIZ'])]\n",
        "\n",
        "df.head(3)"
      ],
      "metadata": {
        "id": "qhoypWaSNtPa",
        "colab": {
          "base_uri": "https://localhost:8080/",
          "height": 395
        },
        "outputId": "c46d2567-990c-42ce-f082-871b734ba39b"
      },
      "execution_count": null,
      "outputs": [
        {
          "output_type": "execute_result",
          "data": {
            "text/plain": [
              "       producto                        presentacion       marca  \\\n",
              "indice                                                            \n",
              "2        ACEITE             BOTELLA 850 ML. VEGETAL         AVE   \n",
              "29        ARROZ  BOLSA 900 GR. EXTRA. (GRANO LARGO)  PRECISSIMO   \n",
              "47       AZUCAR     BOLSA PLÁSTICO 900 GR. ESTÁNDAR  PRECISSIMO   \n",
              "\n",
              "                                categoria  grupo  precio      fecha  \\\n",
              "indice                                                                \n",
              "2       ACEITES Y GRASAS VEG. COMESTIBLES  PACIC    43.9 2022-12-26   \n",
              "29            ARROZ Y CEREALES PREPARADOS  PACIC    16.9 2022-12-26   \n",
              "47                                 AZUCAR  PACIC    19.9 2022-12-26   \n",
              "\n",
              "        marca_tienda                            tipo_tienda  \\\n",
              "indice                                                        \n",
              "2       MEGA SORIANA  SUPERMERCADO / TIENDA DE AUTOSERVICIO   \n",
              "29      MEGA SORIANA  SUPERMERCADO / TIENDA DE AUTOSERVICIO   \n",
              "47      MEGA SORIANA  SUPERMERCADO / TIENDA DE AUTOSERVICIO   \n",
              "\n",
              "                               nombre_tienda  \\\n",
              "indice                                         \n",
              "2       MEGA SORIANA SUCURSAL AGUASCALIENTES   \n",
              "29      MEGA SORIANA SUCURSAL AGUASCALIENTES   \n",
              "47      MEGA SORIANA SUCURSAL AGUASCALIENTES   \n",
              "\n",
              "                                                direccion          estado  \\\n",
              "indice                                                                      \n",
              "2       AGUASCALIENTES NTE. 802, ESQ. BLVD. A ZACATECA...  AGUASCALIENTES   \n",
              "29      AGUASCALIENTES NTE. 802, ESQ. BLVD. A ZACATECA...  AGUASCALIENTES   \n",
              "47      AGUASCALIENTES NTE. 802, ESQ. BLVD. A ZACATECA...  AGUASCALIENTES   \n",
              "\n",
              "             municipio    latitud    longitud     CP  \n",
              "indice                                                \n",
              "2       AGUASCALIENTES  21.916001 -102.290779  20116  \n",
              "29      AGUASCALIENTES  21.916001 -102.290779  20116  \n",
              "47      AGUASCALIENTES  21.916001 -102.290779  20116  "
            ],
            "text/html": [
              "\n",
              "  <div id=\"df-e1093394-372e-44a8-8133-2e93aaa349b8\">\n",
              "    <div class=\"colab-df-container\">\n",
              "      <div>\n",
              "<style scoped>\n",
              "    .dataframe tbody tr th:only-of-type {\n",
              "        vertical-align: middle;\n",
              "    }\n",
              "\n",
              "    .dataframe tbody tr th {\n",
              "        vertical-align: top;\n",
              "    }\n",
              "\n",
              "    .dataframe thead th {\n",
              "        text-align: right;\n",
              "    }\n",
              "</style>\n",
              "<table border=\"1\" class=\"dataframe\">\n",
              "  <thead>\n",
              "    <tr style=\"text-align: right;\">\n",
              "      <th></th>\n",
              "      <th>producto</th>\n",
              "      <th>presentacion</th>\n",
              "      <th>marca</th>\n",
              "      <th>categoria</th>\n",
              "      <th>grupo</th>\n",
              "      <th>precio</th>\n",
              "      <th>fecha</th>\n",
              "      <th>marca_tienda</th>\n",
              "      <th>tipo_tienda</th>\n",
              "      <th>nombre_tienda</th>\n",
              "      <th>direccion</th>\n",
              "      <th>estado</th>\n",
              "      <th>municipio</th>\n",
              "      <th>latitud</th>\n",
              "      <th>longitud</th>\n",
              "      <th>CP</th>\n",
              "    </tr>\n",
              "    <tr>\n",
              "      <th>indice</th>\n",
              "      <th></th>\n",
              "      <th></th>\n",
              "      <th></th>\n",
              "      <th></th>\n",
              "      <th></th>\n",
              "      <th></th>\n",
              "      <th></th>\n",
              "      <th></th>\n",
              "      <th></th>\n",
              "      <th></th>\n",
              "      <th></th>\n",
              "      <th></th>\n",
              "      <th></th>\n",
              "      <th></th>\n",
              "      <th></th>\n",
              "      <th></th>\n",
              "    </tr>\n",
              "  </thead>\n",
              "  <tbody>\n",
              "    <tr>\n",
              "      <th>2</th>\n",
              "      <td>ACEITE</td>\n",
              "      <td>BOTELLA 850 ML. VEGETAL</td>\n",
              "      <td>AVE</td>\n",
              "      <td>ACEITES Y GRASAS VEG. COMESTIBLES</td>\n",
              "      <td>PACIC</td>\n",
              "      <td>43.9</td>\n",
              "      <td>2022-12-26</td>\n",
              "      <td>MEGA SORIANA</td>\n",
              "      <td>SUPERMERCADO / TIENDA DE AUTOSERVICIO</td>\n",
              "      <td>MEGA SORIANA SUCURSAL AGUASCALIENTES</td>\n",
              "      <td>AGUASCALIENTES NTE. 802, ESQ. BLVD. A ZACATECA...</td>\n",
              "      <td>AGUASCALIENTES</td>\n",
              "      <td>AGUASCALIENTES</td>\n",
              "      <td>21.916001</td>\n",
              "      <td>-102.290779</td>\n",
              "      <td>20116</td>\n",
              "    </tr>\n",
              "    <tr>\n",
              "      <th>29</th>\n",
              "      <td>ARROZ</td>\n",
              "      <td>BOLSA 900 GR. EXTRA. (GRANO LARGO)</td>\n",
              "      <td>PRECISSIMO</td>\n",
              "      <td>ARROZ Y CEREALES PREPARADOS</td>\n",
              "      <td>PACIC</td>\n",
              "      <td>16.9</td>\n",
              "      <td>2022-12-26</td>\n",
              "      <td>MEGA SORIANA</td>\n",
              "      <td>SUPERMERCADO / TIENDA DE AUTOSERVICIO</td>\n",
              "      <td>MEGA SORIANA SUCURSAL AGUASCALIENTES</td>\n",
              "      <td>AGUASCALIENTES NTE. 802, ESQ. BLVD. A ZACATECA...</td>\n",
              "      <td>AGUASCALIENTES</td>\n",
              "      <td>AGUASCALIENTES</td>\n",
              "      <td>21.916001</td>\n",
              "      <td>-102.290779</td>\n",
              "      <td>20116</td>\n",
              "    </tr>\n",
              "    <tr>\n",
              "      <th>47</th>\n",
              "      <td>AZUCAR</td>\n",
              "      <td>BOLSA PLÁSTICO 900 GR. ESTÁNDAR</td>\n",
              "      <td>PRECISSIMO</td>\n",
              "      <td>AZUCAR</td>\n",
              "      <td>PACIC</td>\n",
              "      <td>19.9</td>\n",
              "      <td>2022-12-26</td>\n",
              "      <td>MEGA SORIANA</td>\n",
              "      <td>SUPERMERCADO / TIENDA DE AUTOSERVICIO</td>\n",
              "      <td>MEGA SORIANA SUCURSAL AGUASCALIENTES</td>\n",
              "      <td>AGUASCALIENTES NTE. 802, ESQ. BLVD. A ZACATECA...</td>\n",
              "      <td>AGUASCALIENTES</td>\n",
              "      <td>AGUASCALIENTES</td>\n",
              "      <td>21.916001</td>\n",
              "      <td>-102.290779</td>\n",
              "      <td>20116</td>\n",
              "    </tr>\n",
              "  </tbody>\n",
              "</table>\n",
              "</div>\n",
              "      <button class=\"colab-df-convert\" onclick=\"convertToInteractive('df-e1093394-372e-44a8-8133-2e93aaa349b8')\"\n",
              "              title=\"Convert this dataframe to an interactive table.\"\n",
              "              style=\"display:none;\">\n",
              "        \n",
              "  <svg xmlns=\"http://www.w3.org/2000/svg\" height=\"24px\"viewBox=\"0 0 24 24\"\n",
              "       width=\"24px\">\n",
              "    <path d=\"M0 0h24v24H0V0z\" fill=\"none\"/>\n",
              "    <path d=\"M18.56 5.44l.94 2.06.94-2.06 2.06-.94-2.06-.94-.94-2.06-.94 2.06-2.06.94zm-11 1L8.5 8.5l.94-2.06 2.06-.94-2.06-.94L8.5 2.5l-.94 2.06-2.06.94zm10 10l.94 2.06.94-2.06 2.06-.94-2.06-.94-.94-2.06-.94 2.06-2.06.94z\"/><path d=\"M17.41 7.96l-1.37-1.37c-.4-.4-.92-.59-1.43-.59-.52 0-1.04.2-1.43.59L10.3 9.45l-7.72 7.72c-.78.78-.78 2.05 0 2.83L4 21.41c.39.39.9.59 1.41.59.51 0 1.02-.2 1.41-.59l7.78-7.78 2.81-2.81c.8-.78.8-2.07 0-2.86zM5.41 20L4 18.59l7.72-7.72 1.47 1.35L5.41 20z\"/>\n",
              "  </svg>\n",
              "      </button>\n",
              "      \n",
              "  <style>\n",
              "    .colab-df-container {\n",
              "      display:flex;\n",
              "      flex-wrap:wrap;\n",
              "      gap: 12px;\n",
              "    }\n",
              "\n",
              "    .colab-df-convert {\n",
              "      background-color: #E8F0FE;\n",
              "      border: none;\n",
              "      border-radius: 50%;\n",
              "      cursor: pointer;\n",
              "      display: none;\n",
              "      fill: #1967D2;\n",
              "      height: 32px;\n",
              "      padding: 0 0 0 0;\n",
              "      width: 32px;\n",
              "    }\n",
              "\n",
              "    .colab-df-convert:hover {\n",
              "      background-color: #E2EBFA;\n",
              "      box-shadow: 0px 1px 2px rgba(60, 64, 67, 0.3), 0px 1px 3px 1px rgba(60, 64, 67, 0.15);\n",
              "      fill: #174EA6;\n",
              "    }\n",
              "\n",
              "    [theme=dark] .colab-df-convert {\n",
              "      background-color: #3B4455;\n",
              "      fill: #D2E3FC;\n",
              "    }\n",
              "\n",
              "    [theme=dark] .colab-df-convert:hover {\n",
              "      background-color: #434B5C;\n",
              "      box-shadow: 0px 1px 3px 1px rgba(0, 0, 0, 0.15);\n",
              "      filter: drop-shadow(0px 1px 2px rgba(0, 0, 0, 0.3));\n",
              "      fill: #FFFFFF;\n",
              "    }\n",
              "  </style>\n",
              "\n",
              "      <script>\n",
              "        const buttonEl =\n",
              "          document.querySelector('#df-e1093394-372e-44a8-8133-2e93aaa349b8 button.colab-df-convert');\n",
              "        buttonEl.style.display =\n",
              "          google.colab.kernel.accessAllowed ? 'block' : 'none';\n",
              "\n",
              "        async function convertToInteractive(key) {\n",
              "          const element = document.querySelector('#df-e1093394-372e-44a8-8133-2e93aaa349b8');\n",
              "          const dataTable =\n",
              "            await google.colab.kernel.invokeFunction('convertToInteractive',\n",
              "                                                     [key], {});\n",
              "          if (!dataTable) return;\n",
              "\n",
              "          const docLinkHtml = 'Like what you see? Visit the ' +\n",
              "            '<a target=\"_blank\" href=https://colab.research.google.com/notebooks/data_table.ipynb>data table notebook</a>'\n",
              "            + ' to learn more about interactive tables.';\n",
              "          element.innerHTML = '';\n",
              "          dataTable['output_type'] = 'display_data';\n",
              "          await google.colab.output.renderOutput(dataTable, element);\n",
              "          const docLink = document.createElement('div');\n",
              "          docLink.innerHTML = docLinkHtml;\n",
              "          element.appendChild(docLink);\n",
              "        }\n",
              "      </script>\n",
              "    </div>\n",
              "  </div>\n",
              "  "
            ]
          },
          "metadata": {},
          "execution_count": 26
        }
      ]
    },
    {
      "cell_type": "markdown",
      "source": [
        "* Con la finalidad de comparar los precios de los distintos productos de manera consistente es necesario homogenizar las unidades de medida ya que se venden en diferentes presentaciones, para ello primero obtendremos el contenido en gramos y mililitros y calcularemos su precio por kilogramo o litro según corresponda."
      ],
      "metadata": {
        "id": "4s4y790bN1YA"
      }
    },
    {
      "cell_type": "code",
      "source": [
        "#Extraer cantidad en g y ml de presentación\n",
        "def extraer_numeros(s):\n",
        "    s=[int(temp)for temp in s.split() if temp.isdigit()]\n",
        "    return s[0]\n",
        "\n",
        "df['uom_std']=df['presentacion'].map(extraer_numeros)\n",
        "\n",
        "#Calcular precio por kilogramo o litro\n",
        "def precio_x_uom(uom, precio):\n",
        "      if uom == 1:\n",
        "        precio_std = precio\n",
        "      else:\n",
        "        precio_std = precio*1000/uom\n",
        "      return round(precio_std,2)\n",
        "      \n",
        "df['precio_kg_l']=df.apply(lambda x: precio_x_uom(x['uom_std'],x['precio']), axis=1)\n",
        "\n",
        "df.head(5)"
      ],
      "metadata": {
        "id": "I-h06UgZdECR",
        "colab": {
          "base_uri": "https://localhost:8080/",
          "height": 597
        },
        "outputId": "f201f85a-d5be-4eda-c222-c032f9cc4574"
      },
      "execution_count": null,
      "outputs": [
        {
          "output_type": "execute_result",
          "data": {
            "text/plain": [
              "            producto                                      presentacion  \\\n",
              "indice                                                                   \n",
              "2             ACEITE                           BOTELLA 850 ML. VEGETAL   \n",
              "29             ARROZ                BOLSA 900 GR. EXTRA. (GRANO LARGO)   \n",
              "47            AZUCAR                   BOLSA PLÁSTICO 900 GR. ESTÁNDAR   \n",
              "120     CHILE FRESCO                       1 KG. JALAPEÑO O CUARESMEÑO   \n",
              "301         JITOMATE  1 KG. SALADETTE/ HUAJE O TOMATE SALADETTE/ HUAJE   \n",
              "\n",
              "             marca                          categoria  grupo  precio  \\\n",
              "indice                                                                 \n",
              "2              AVE  ACEITES Y GRASAS VEG. COMESTIBLES  PACIC    43.9   \n",
              "29      PRECISSIMO        ARROZ Y CEREALES PREPARADOS  PACIC    16.9   \n",
              "47      PRECISSIMO                             AZUCAR  PACIC    19.9   \n",
              "120            S/M                 HORTALIZAS FRESCAS  PACIC    28.9   \n",
              "301            S/M                 HORTALIZAS FRESCAS  PACIC    19.8   \n",
              "\n",
              "            fecha  marca_tienda                            tipo_tienda  \\\n",
              "indice                                                                   \n",
              "2      2022-12-26  MEGA SORIANA  SUPERMERCADO / TIENDA DE AUTOSERVICIO   \n",
              "29     2022-12-26  MEGA SORIANA  SUPERMERCADO / TIENDA DE AUTOSERVICIO   \n",
              "47     2022-12-26  MEGA SORIANA  SUPERMERCADO / TIENDA DE AUTOSERVICIO   \n",
              "120    2022-12-26  MEGA SORIANA  SUPERMERCADO / TIENDA DE AUTOSERVICIO   \n",
              "301    2022-12-26  MEGA SORIANA  SUPERMERCADO / TIENDA DE AUTOSERVICIO   \n",
              "\n",
              "                               nombre_tienda  \\\n",
              "indice                                         \n",
              "2       MEGA SORIANA SUCURSAL AGUASCALIENTES   \n",
              "29      MEGA SORIANA SUCURSAL AGUASCALIENTES   \n",
              "47      MEGA SORIANA SUCURSAL AGUASCALIENTES   \n",
              "120     MEGA SORIANA SUCURSAL AGUASCALIENTES   \n",
              "301     MEGA SORIANA SUCURSAL AGUASCALIENTES   \n",
              "\n",
              "                                                direccion          estado  \\\n",
              "indice                                                                      \n",
              "2       AGUASCALIENTES NTE. 802, ESQ. BLVD. A ZACATECA...  AGUASCALIENTES   \n",
              "29      AGUASCALIENTES NTE. 802, ESQ. BLVD. A ZACATECA...  AGUASCALIENTES   \n",
              "47      AGUASCALIENTES NTE. 802, ESQ. BLVD. A ZACATECA...  AGUASCALIENTES   \n",
              "120     AGUASCALIENTES NTE. 802, ESQ. BLVD. A ZACATECA...  AGUASCALIENTES   \n",
              "301     AGUASCALIENTES NTE. 802, ESQ. BLVD. A ZACATECA...  AGUASCALIENTES   \n",
              "\n",
              "             municipio    latitud    longitud     CP  uom_std  precio_kg_l  \n",
              "indice                                                                      \n",
              "2       AGUASCALIENTES  21.916001 -102.290779  20116      850        51.65  \n",
              "29      AGUASCALIENTES  21.916001 -102.290779  20116      900        18.78  \n",
              "47      AGUASCALIENTES  21.916001 -102.290779  20116      900        22.11  \n",
              "120     AGUASCALIENTES  21.916001 -102.290779  20116        1        28.90  \n",
              "301     AGUASCALIENTES  21.916001 -102.290779  20116        1        19.80  "
            ],
            "text/html": [
              "\n",
              "  <div id=\"df-9d6029db-ada4-4e49-b15e-410216424e0f\">\n",
              "    <div class=\"colab-df-container\">\n",
              "      <div>\n",
              "<style scoped>\n",
              "    .dataframe tbody tr th:only-of-type {\n",
              "        vertical-align: middle;\n",
              "    }\n",
              "\n",
              "    .dataframe tbody tr th {\n",
              "        vertical-align: top;\n",
              "    }\n",
              "\n",
              "    .dataframe thead th {\n",
              "        text-align: right;\n",
              "    }\n",
              "</style>\n",
              "<table border=\"1\" class=\"dataframe\">\n",
              "  <thead>\n",
              "    <tr style=\"text-align: right;\">\n",
              "      <th></th>\n",
              "      <th>producto</th>\n",
              "      <th>presentacion</th>\n",
              "      <th>marca</th>\n",
              "      <th>categoria</th>\n",
              "      <th>grupo</th>\n",
              "      <th>precio</th>\n",
              "      <th>fecha</th>\n",
              "      <th>marca_tienda</th>\n",
              "      <th>tipo_tienda</th>\n",
              "      <th>nombre_tienda</th>\n",
              "      <th>direccion</th>\n",
              "      <th>estado</th>\n",
              "      <th>municipio</th>\n",
              "      <th>latitud</th>\n",
              "      <th>longitud</th>\n",
              "      <th>CP</th>\n",
              "      <th>uom_std</th>\n",
              "      <th>precio_kg_l</th>\n",
              "    </tr>\n",
              "    <tr>\n",
              "      <th>indice</th>\n",
              "      <th></th>\n",
              "      <th></th>\n",
              "      <th></th>\n",
              "      <th></th>\n",
              "      <th></th>\n",
              "      <th></th>\n",
              "      <th></th>\n",
              "      <th></th>\n",
              "      <th></th>\n",
              "      <th></th>\n",
              "      <th></th>\n",
              "      <th></th>\n",
              "      <th></th>\n",
              "      <th></th>\n",
              "      <th></th>\n",
              "      <th></th>\n",
              "      <th></th>\n",
              "      <th></th>\n",
              "    </tr>\n",
              "  </thead>\n",
              "  <tbody>\n",
              "    <tr>\n",
              "      <th>2</th>\n",
              "      <td>ACEITE</td>\n",
              "      <td>BOTELLA 850 ML. VEGETAL</td>\n",
              "      <td>AVE</td>\n",
              "      <td>ACEITES Y GRASAS VEG. COMESTIBLES</td>\n",
              "      <td>PACIC</td>\n",
              "      <td>43.9</td>\n",
              "      <td>2022-12-26</td>\n",
              "      <td>MEGA SORIANA</td>\n",
              "      <td>SUPERMERCADO / TIENDA DE AUTOSERVICIO</td>\n",
              "      <td>MEGA SORIANA SUCURSAL AGUASCALIENTES</td>\n",
              "      <td>AGUASCALIENTES NTE. 802, ESQ. BLVD. A ZACATECA...</td>\n",
              "      <td>AGUASCALIENTES</td>\n",
              "      <td>AGUASCALIENTES</td>\n",
              "      <td>21.916001</td>\n",
              "      <td>-102.290779</td>\n",
              "      <td>20116</td>\n",
              "      <td>850</td>\n",
              "      <td>51.65</td>\n",
              "    </tr>\n",
              "    <tr>\n",
              "      <th>29</th>\n",
              "      <td>ARROZ</td>\n",
              "      <td>BOLSA 900 GR. EXTRA. (GRANO LARGO)</td>\n",
              "      <td>PRECISSIMO</td>\n",
              "      <td>ARROZ Y CEREALES PREPARADOS</td>\n",
              "      <td>PACIC</td>\n",
              "      <td>16.9</td>\n",
              "      <td>2022-12-26</td>\n",
              "      <td>MEGA SORIANA</td>\n",
              "      <td>SUPERMERCADO / TIENDA DE AUTOSERVICIO</td>\n",
              "      <td>MEGA SORIANA SUCURSAL AGUASCALIENTES</td>\n",
              "      <td>AGUASCALIENTES NTE. 802, ESQ. BLVD. A ZACATECA...</td>\n",
              "      <td>AGUASCALIENTES</td>\n",
              "      <td>AGUASCALIENTES</td>\n",
              "      <td>21.916001</td>\n",
              "      <td>-102.290779</td>\n",
              "      <td>20116</td>\n",
              "      <td>900</td>\n",
              "      <td>18.78</td>\n",
              "    </tr>\n",
              "    <tr>\n",
              "      <th>47</th>\n",
              "      <td>AZUCAR</td>\n",
              "      <td>BOLSA PLÁSTICO 900 GR. ESTÁNDAR</td>\n",
              "      <td>PRECISSIMO</td>\n",
              "      <td>AZUCAR</td>\n",
              "      <td>PACIC</td>\n",
              "      <td>19.9</td>\n",
              "      <td>2022-12-26</td>\n",
              "      <td>MEGA SORIANA</td>\n",
              "      <td>SUPERMERCADO / TIENDA DE AUTOSERVICIO</td>\n",
              "      <td>MEGA SORIANA SUCURSAL AGUASCALIENTES</td>\n",
              "      <td>AGUASCALIENTES NTE. 802, ESQ. BLVD. A ZACATECA...</td>\n",
              "      <td>AGUASCALIENTES</td>\n",
              "      <td>AGUASCALIENTES</td>\n",
              "      <td>21.916001</td>\n",
              "      <td>-102.290779</td>\n",
              "      <td>20116</td>\n",
              "      <td>900</td>\n",
              "      <td>22.11</td>\n",
              "    </tr>\n",
              "    <tr>\n",
              "      <th>120</th>\n",
              "      <td>CHILE FRESCO</td>\n",
              "      <td>1 KG. JALAPEÑO O CUARESMEÑO</td>\n",
              "      <td>S/M</td>\n",
              "      <td>HORTALIZAS FRESCAS</td>\n",
              "      <td>PACIC</td>\n",
              "      <td>28.9</td>\n",
              "      <td>2022-12-26</td>\n",
              "      <td>MEGA SORIANA</td>\n",
              "      <td>SUPERMERCADO / TIENDA DE AUTOSERVICIO</td>\n",
              "      <td>MEGA SORIANA SUCURSAL AGUASCALIENTES</td>\n",
              "      <td>AGUASCALIENTES NTE. 802, ESQ. BLVD. A ZACATECA...</td>\n",
              "      <td>AGUASCALIENTES</td>\n",
              "      <td>AGUASCALIENTES</td>\n",
              "      <td>21.916001</td>\n",
              "      <td>-102.290779</td>\n",
              "      <td>20116</td>\n",
              "      <td>1</td>\n",
              "      <td>28.90</td>\n",
              "    </tr>\n",
              "    <tr>\n",
              "      <th>301</th>\n",
              "      <td>JITOMATE</td>\n",
              "      <td>1 KG. SALADETTE/ HUAJE O TOMATE SALADETTE/ HUAJE</td>\n",
              "      <td>S/M</td>\n",
              "      <td>HORTALIZAS FRESCAS</td>\n",
              "      <td>PACIC</td>\n",
              "      <td>19.8</td>\n",
              "      <td>2022-12-26</td>\n",
              "      <td>MEGA SORIANA</td>\n",
              "      <td>SUPERMERCADO / TIENDA DE AUTOSERVICIO</td>\n",
              "      <td>MEGA SORIANA SUCURSAL AGUASCALIENTES</td>\n",
              "      <td>AGUASCALIENTES NTE. 802, ESQ. BLVD. A ZACATECA...</td>\n",
              "      <td>AGUASCALIENTES</td>\n",
              "      <td>AGUASCALIENTES</td>\n",
              "      <td>21.916001</td>\n",
              "      <td>-102.290779</td>\n",
              "      <td>20116</td>\n",
              "      <td>1</td>\n",
              "      <td>19.80</td>\n",
              "    </tr>\n",
              "  </tbody>\n",
              "</table>\n",
              "</div>\n",
              "      <button class=\"colab-df-convert\" onclick=\"convertToInteractive('df-9d6029db-ada4-4e49-b15e-410216424e0f')\"\n",
              "              title=\"Convert this dataframe to an interactive table.\"\n",
              "              style=\"display:none;\">\n",
              "        \n",
              "  <svg xmlns=\"http://www.w3.org/2000/svg\" height=\"24px\"viewBox=\"0 0 24 24\"\n",
              "       width=\"24px\">\n",
              "    <path d=\"M0 0h24v24H0V0z\" fill=\"none\"/>\n",
              "    <path d=\"M18.56 5.44l.94 2.06.94-2.06 2.06-.94-2.06-.94-.94-2.06-.94 2.06-2.06.94zm-11 1L8.5 8.5l.94-2.06 2.06-.94-2.06-.94L8.5 2.5l-.94 2.06-2.06.94zm10 10l.94 2.06.94-2.06 2.06-.94-2.06-.94-.94-2.06-.94 2.06-2.06.94z\"/><path d=\"M17.41 7.96l-1.37-1.37c-.4-.4-.92-.59-1.43-.59-.52 0-1.04.2-1.43.59L10.3 9.45l-7.72 7.72c-.78.78-.78 2.05 0 2.83L4 21.41c.39.39.9.59 1.41.59.51 0 1.02-.2 1.41-.59l7.78-7.78 2.81-2.81c.8-.78.8-2.07 0-2.86zM5.41 20L4 18.59l7.72-7.72 1.47 1.35L5.41 20z\"/>\n",
              "  </svg>\n",
              "      </button>\n",
              "      \n",
              "  <style>\n",
              "    .colab-df-container {\n",
              "      display:flex;\n",
              "      flex-wrap:wrap;\n",
              "      gap: 12px;\n",
              "    }\n",
              "\n",
              "    .colab-df-convert {\n",
              "      background-color: #E8F0FE;\n",
              "      border: none;\n",
              "      border-radius: 50%;\n",
              "      cursor: pointer;\n",
              "      display: none;\n",
              "      fill: #1967D2;\n",
              "      height: 32px;\n",
              "      padding: 0 0 0 0;\n",
              "      width: 32px;\n",
              "    }\n",
              "\n",
              "    .colab-df-convert:hover {\n",
              "      background-color: #E2EBFA;\n",
              "      box-shadow: 0px 1px 2px rgba(60, 64, 67, 0.3), 0px 1px 3px 1px rgba(60, 64, 67, 0.15);\n",
              "      fill: #174EA6;\n",
              "    }\n",
              "\n",
              "    [theme=dark] .colab-df-convert {\n",
              "      background-color: #3B4455;\n",
              "      fill: #D2E3FC;\n",
              "    }\n",
              "\n",
              "    [theme=dark] .colab-df-convert:hover {\n",
              "      background-color: #434B5C;\n",
              "      box-shadow: 0px 1px 3px 1px rgba(0, 0, 0, 0.15);\n",
              "      filter: drop-shadow(0px 1px 2px rgba(0, 0, 0, 0.3));\n",
              "      fill: #FFFFFF;\n",
              "    }\n",
              "  </style>\n",
              "\n",
              "      <script>\n",
              "        const buttonEl =\n",
              "          document.querySelector('#df-9d6029db-ada4-4e49-b15e-410216424e0f button.colab-df-convert');\n",
              "        buttonEl.style.display =\n",
              "          google.colab.kernel.accessAllowed ? 'block' : 'none';\n",
              "\n",
              "        async function convertToInteractive(key) {\n",
              "          const element = document.querySelector('#df-9d6029db-ada4-4e49-b15e-410216424e0f');\n",
              "          const dataTable =\n",
              "            await google.colab.kernel.invokeFunction('convertToInteractive',\n",
              "                                                     [key], {});\n",
              "          if (!dataTable) return;\n",
              "\n",
              "          const docLinkHtml = 'Like what you see? Visit the ' +\n",
              "            '<a target=\"_blank\" href=https://colab.research.google.com/notebooks/data_table.ipynb>data table notebook</a>'\n",
              "            + ' to learn more about interactive tables.';\n",
              "          element.innerHTML = '';\n",
              "          dataTable['output_type'] = 'display_data';\n",
              "          await google.colab.output.renderOutput(dataTable, element);\n",
              "          const docLink = document.createElement('div');\n",
              "          docLink.innerHTML = docLinkHtml;\n",
              "          element.appendChild(docLink);\n",
              "        }\n",
              "      </script>\n",
              "    </div>\n",
              "  </div>\n",
              "  "
            ]
          },
          "metadata": {},
          "execution_count": 27
        }
      ]
    },
    {
      "cell_type": "markdown",
      "source": [
        "# POSTWORK 8 - PUBLICACION Y TRABAJOS FUTUROS"
      ],
      "metadata": {
        "id": "H2-cYPh00Hps"
      }
    },
    {
      "cell_type": "markdown",
      "source": [
        "El trabajo realizado y recopilado en este Jupyter Notebook también ha sido publicado en el siguiente repositorio GitHub: https://github.com/adavals/bedu-datascience-f2m2.git \n",
        "\n",
        "\n",
        "\n"
      ],
      "metadata": {
        "id": "xZtrQh741fJ2"
      }
    },
    {
      "cell_type": "markdown",
      "source": [
        "# TRABAJOS FUTUROS\n",
        "Considerando la utilidad para el consumidor y las preguntas que nos planteamos al inicio será interesante:\n",
        "- Encontrar precios promedio para productos, categorias, de acuerdo al area geográfica, como una referencia para el consumidor.\n",
        "- Analizar y segmentar el nivel (bajo, medio, alto) de  precios por areas geograficas.\n",
        "- Encontrar la lista de tiendas alrededor de una ubicación en particular.\n",
        "- Representar en forma gráfica los análisis y consultas anteriores.\n",
        "- Considerando varios dataset a través del tiempo, realizar predicciones de precios.\n",
        "### Más a futuro sería interesante:\n",
        "* Investigar fuentes adicionales de precios del día o en tiempo real para un mayor numero de tiendas, ya sea con APIs existentes de los centros comerciales o web scraping para generar dataset con más cobertura, no sólo la muestra de PROFECO.\n",
        "* O, podría desarrollarse un API para comerciantes donde ellos puedan alimentar el dataset con información del día sobre los precios de los productos y una aplicación para el consumidor donde se le alerte de precios bajos de su interés en su área.\n",
        "* Con la información de precios y de perfil de consultas de los consumidores se pueden encontrar patrones de consulta/consumo y de fluctuaciones en los precios. \n"
      ],
      "metadata": {
        "id": "-kjxGOhhLlZP"
      }
    },
    {
      "cell_type": "markdown",
      "source": [
        "Investigamos un poco sobre cómo determinar la distancia en km entre ubicaciones geográficas mediante latitud y longitud"
      ],
      "metadata": {
        "id": "CWkcCWViECKc"
      }
    },
    {
      "cell_type": "code",
      "source": [
        "!pip install mpu\n"
      ],
      "metadata": {
        "colab": {
          "base_uri": "https://localhost:8080/"
        },
        "id": "CC981tMX_r_3",
        "outputId": "d6fbd42e-608d-4730-a059-c4ce00f50f2b"
      },
      "execution_count": null,
      "outputs": [
        {
          "output_type": "stream",
          "name": "stdout",
          "text": [
            "Looking in indexes: https://pypi.org/simple, https://us-python.pkg.dev/colab-wheels/public/simple/\n",
            "Collecting mpu\n",
            "  Downloading mpu-0.23.1-py3-none-any.whl (69 kB)\n",
            "\u001b[2K     \u001b[90m━━━━━━━━━━━━━━━━━━━━━━━━━━━━━━━━━━━━━━━━\u001b[0m \u001b[32m69.7/69.7 KB\u001b[0m \u001b[31m1.1 MB/s\u001b[0m eta \u001b[36m0:00:00\u001b[0m\n",
            "\u001b[?25hInstalling collected packages: mpu\n",
            "Successfully installed mpu-0.23.1\n"
          ]
        }
      ]
    },
    {
      "cell_type": "code",
      "source": [
        "import mpu"
      ],
      "metadata": {
        "id": "pWD5dpAuKPkN"
      },
      "execution_count": null,
      "outputs": []
    },
    {
      "cell_type": "code",
      "source": [
        "munich = (48.1372, 11.5756)\n",
        "berlin = (52.5186, 13.4083)\n",
        "round(mpu.haversine_distance(munich, berlin), 1)\n"
      ],
      "metadata": {
        "colab": {
          "base_uri": "https://localhost:8080/"
        },
        "id": "MrYx30up_-wa",
        "outputId": "c400023d-512c-4f5f-ca5f-88701c7b179a"
      },
      "execution_count": null,
      "outputs": [
        {
          "output_type": "execute_result",
          "data": {
            "text/plain": [
              "504.2"
            ]
          },
          "metadata": {},
          "execution_count": 30
        }
      ]
    }
  ]
}