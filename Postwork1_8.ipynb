{
  "nbformat": 4,
  "nbformat_minor": 0,
  "metadata": {
    "colab": {
      "provenance": [],
      "include_colab_link": true
    },
    "kernelspec": {
      "name": "python3",
      "display_name": "Python 3"
    },
    "language_info": {
      "name": "python"
    }
  },
  "cells": [
    {
      "cell_type": "markdown",
      "metadata": {
        "id": "view-in-github",
        "colab_type": "text"
      },
      "source": [
        "<a href=\"https://colab.research.google.com/github/adavals/bedu-datascience-f2m2/blob/main/Postwork1_8.ipynb\" target=\"_parent\"><img src=\"https://colab.research.google.com/assets/colab-badge.svg\" alt=\"Open In Colab\"/></a>"
      ]
    },
    {
      "cell_type": "markdown",
      "source": [
        "Equipo 17"
      ],
      "metadata": {
        "id": "_vwq_lFkr-y-"
      }
    },
    {
      "cell_type": "markdown",
      "source": [
        "# POSTWORK 1 - DEFINICIÓN DEL PROBLEMA"
      ],
      "metadata": {
        "id": "U_jjWZ5ZruWb"
      }
    },
    {
      "cell_type": "markdown",
      "source": [
        "#INTRODUCCIÓN\n",
        "\n",
        "La canasta básica es un indicador económico importante que refleja el costo de los productos y servicios necesarios para satisfacer las necesidades básicas de una persona o familia. El conocimiento preciso y actualizado de los precios de la canasta básica es esencial para entender la inflación, la economía y la calidad de vida de la población. PROFECO, es una institución gubernamental encargada de proteger los derechos de los consumidores en México, que proporciona información sobre los precios de la canasta básica en forma de datos abiertos. Sin embargo, estos datos parecen no estar siendo utilizados adecuadamente por el público en general. Es necesario analizar y utilizar esta información de manera efectiva para tener una comprensión completa de la situación económica del país y para mejorar la calidad de vida de la población.\n",
        "\n",
        "#IDENTIFICACIÓN DEL PROBLEMA:\n",
        "\n",
        "1. Falta de publicación completa de los datos de la canasta básica en la revista del consumidor PROFECO.\n",
        "\n",
        "2. No se encontraron artículos de internet que hicieran referencia a los datos abiertos.\n",
        "\n",
        "3. La aplicación móvil \"Quien es quien en los precios\" es la única vía de comparación de precios disponible para el público en general.\n",
        "\n",
        "4. Los datos abiertos publicados por PROFECO no suelen ser analizados o publicados de forma completa en medios accesibles para el público.\n",
        "\n",
        "5. Falta de conocimiento del público en general sobre la disponibilidad y uso de los datos abiertos de la canasta básica.\n",
        "\n",
        "#INVESTIGACIÓN\n",
        "\n",
        "1. Revisar la información publicada en la página web oficial de PROFECO en México.\n",
        "2. Consultar la Revista del Consumidor de PROFECO para ver si hay artículos que hagan referencia a la canasta básica y su análisis.\n",
        "3. Verificar la disponibilidad y accesibilidad de la aplicación \"Quien es Quien en los precios\" para comparar precios y ver si se pueden utilizar para analizar los datos de la canasta básica.\n",
        "4. Consultar las estadísticas nacionales y estudios económicos para obtener información relevante sobre la economía, la inflación y los precios en México.\n",
        "\n",
        "#DEFINICION DEL PROBLEMA\n",
        "\n",
        "En una economía en constante fluctuación, el aumento de precios de los productos de la canasta básica es una realidad que afecta a la mayor parte de la población. Muchos de nosotros nos enfrentamos a la difícil tarea de hacer que nuestro dinero alcance para cubrir las necesidades básicas, mientras los precios suben sin cesar. En este contexto, es fundamental tener herramientas que nos permitan comparar los precios de los productos de consumo diario y tomar decisiones de compra más informadas, con el objetivo de ahorrar en nuestros gastos. ¿Cómo podemos acceder a información precisa y confiable sobre los precios de los productos básicos en diferentes lugares de compra, para elegir el que nos ofrezca el mejor valor por nuestro dinero?\n",
        "\n",
        "## Trabajos previos\n",
        "- Se examinaron algunos contenidos de Revista del consumidor PROFECO y no se encontró una publicación que analizara o hiciera referencia a este tipo de datos abiertos en forma completa, sólo los artículos referentes a un tipo de producto en particular que se publican cada mes pueden estar utilizando la información de los datos abiertos.\n",
        "- Se realizó búsqueda en internet de artículos que hicieran referencia a estos datos y no se encontró ninguno.\n",
        "- Se encontró en el portal oficial del gobierno de México el sitio web de Quien es Quien en los precios, relacionado con uno de los archivos de datos abiertos publicados, pero el sitio parece estár desconectado de la información actual y no muestra datos (https://www.profeco.gob.mx/precios/canasta/default.aspx)\n",
        "- Existe una aplicación en Google Playstore: Quien es quien en los precios, que ofrece algunas vías de comparación de precios y tiene una interfaz de usuario usable, aunque comprobamos que tiene fallas al iniciar en algunos dispositivos."
      ],
      "metadata": {
        "id": "XkCWC4pWlN7W"
      }
    },
    {
      "cell_type": "markdown",
      "source": [
        "# POSTWORK 2 - PLANTEAMIENTO DE PREGUNTAS"
      ],
      "metadata": {
        "id": "1lDiJV8wsGN9"
      }
    },
    {
      "cell_type": "markdown",
      "source": [
        "De acuerdo con el problema definido, se han planteado las siguientes preguntas:  \n",
        "\n",
        "*  ¿Cómo saber dónde comprar los productos de consumo?\n",
        "*  ¿Qué tiendas tienen en general precios más bajos cerca de una ubicación en particular?\n",
        "*  ¿Qué tienda tiene precios más bajos por tipo de producto (frutas, verduras, medicamentos, etc.)?\n",
        "*  ¿Para un producto en particular, de interés de un consumidor, qué tienda lo ha vendido más barato?\n",
        "*  ¿En qué estados los precios son más bajos/altos?\n",
        "*  Para una ubicación en particular ¿en qué segmento se ubican los precios de las tiendas cercanas (menor, medio, mayor)?\n",
        "*  ¿En qué tienda se puede conseguir el conjunto de los productos de la canasta básica a un precio más bajo?\n",
        "*  ¿Qué tienda tiene precios más bajos/más altos en los diferentes estados de la República?\n",
        "\n",
        "\n",
        "\n",
        "\n",
        "\n",
        "\n",
        "\n"
      ],
      "metadata": {
        "id": "t3c7e7absRyJ"
      }
    },
    {
      "cell_type": "markdown",
      "source": [
        "# POSTWORK 3 - COLECCIÓN DE DATOS"
      ],
      "metadata": {
        "id": "ll0j-nalx9sR"
      }
    },
    {
      "cell_type": "markdown",
      "source": [
        "Tratando de contestar las preguntas del postwork 2, se buscaron datasets y APIs en diferentes sitios como Kaggle, gobierno, etc. pero queríamos que la información fuera actual y solo se encontraron en la Procuraduría Federal del Consumidor en México, organismo que publica, en forma abierta, los datos que recolecta sobre los precios de una gran cantidad de productos en diferentes supermercados, farmacias y tiendas de conveniencia. [Datos abiertos al consumidor en el sitio de PROFECO](https://datos.profeco.gob.mx/datos_abiertos/).\n",
        "\n",
        "Estos datos están publicados en un archivo comprimido en formato .rar por año. Un archivo comprimido contiene varios archivos en formato excel csv. Cada archivo tiene en su nombre el numero de semana y el año en que fueron recolectados los datos, en general hay un archivo por semana, por lo que, para el público consumidor es difícil aprovecharlos.\n",
        "\n",
        "El último archivo publicado de 2022 lo descargamos y está disponible en el siguiente enlace:\n",
        "[Diciembre 2022](https://raw.githubusercontent.com/adavals/bedu-datascience-f2m2/main/datasets/532022.csv)\n",
        "\n",
        "La descripción de la estructura del archivo está publicada bajo el título de [Diccionario de Datos](https://datos.profeco.gob.mx/diccionarioDatosQQP.php)\n",
        "\n",
        "Tratamos de conectarnos con la [API de PROFECO](https://datos.gob.mx/busca/dataset/quien-es-quien-en-los-precios/resource/408f99a4-04a7-4726-806c-f28b2e80fe00) pero no estaba activa y no pudimos usarla. \n",
        "\n",
        "Para complementar la información de ubicación con el código postal se usó la API  [COPOMEX - Código Postal Mexicano.](https://api.copomex.com/panel/).\n",
        "\n",
        "La cual tras, previo registro se puede acceder al uso mediante un panel de control, donde podremos crear nuestro proyecto para que se nos genere la Token del API. También tendremos una guía de uso de esta API a nuestra disposición  en los enlaces de ayuda.\n"
      ],
      "metadata": {
        "id": "FLsLUDziyBQT"
      }
    },
    {
      "cell_type": "markdown",
      "source": [
        "# POSTWORK 4 - ANÁLISIS EXPLORATORIO"
      ],
      "metadata": {
        "id": "jDVFTARry8-i"
      }
    },
    {
      "cell_type": "markdown",
      "source": [
        "Al revisar los datos disponibles encontramos que para cada año hay 53 o 54 archivos csv, uno por semana. Para efecto de nuestro análisis vemos que usando uno de estos archivos, por ejemplo el más reciente, podemos abordar las preguntas que nos hemos planteado.\n",
        "\n",
        "A continuación analizamos nuestro conjunto de datos usando pandas.\n",
        "\n"
      ],
      "metadata": {
        "id": "bRikWHruBw5k"
      }
    },
    {
      "cell_type": "code",
      "source": [
        "#Cargamos la biblioteca pandas\n",
        "import pandas as pd"
      ],
      "metadata": {
        "id": "0p3sggmGs_pY"
      },
      "execution_count": 2,
      "outputs": []
    },
    {
      "cell_type": "code",
      "source": [
        "#Cargamos el archivo csv (que ha sido descargado en el github) como un dataframe y asignamos los nombres de las columnas\n",
        "df = pd.read_csv('https://raw.githubusercontent.com/adavals/bedu-datascience-f2m2/main/datasets/532022.csv', names=['producto','presentacion','marca','categoria','grupo','precio','fecha','marca_tienda','tipo_tienda','nombre_tienda','direccion','estado','municipio','latitud','longitud'])"
      ],
      "metadata": {
        "id": "he66AQEltEEQ"
      },
      "execution_count": 3,
      "outputs": []
    },
    {
      "cell_type": "code",
      "source": [
        "#Por medio de la función head vemos los primeros registros\n",
        "df.head(3)"
      ],
      "metadata": {
        "colab": {
          "base_uri": "https://localhost:8080/",
          "height": 364
        },
        "id": "40xSpcrUt-2q",
        "outputId": "32fe5016-2705-4f58-d2e3-38c04e90abde"
      },
      "execution_count": 4,
      "outputs": [
        {
          "output_type": "execute_result",
          "data": {
            "text/plain": [
              "  producto             presentacion   marca  \\\n",
              "0   ACEITE    BOTELLA 1 LT. VEGETAL   1-2-3   \n",
              "1   ACEITE  BOTELLA 850 ML. VEGETAL     AVE   \n",
              "2   ACEITE   BOTELLA 946 ML. CANOLA  CANOIL   \n",
              "\n",
              "                           categoria    grupo  precio       fecha  \\\n",
              "0  ACEITES Y GRASAS VEG. COMESTIBLES  BASICOS    56.0  2022-12-26   \n",
              "1  ACEITES Y GRASAS VEG. COMESTIBLES    PACIC    43.9  2022-12-26   \n",
              "2  ACEITES Y GRASAS VEG. COMESTIBLES  BASICOS    50.9  2022-12-26   \n",
              "\n",
              "   marca_tienda                            tipo_tienda  \\\n",
              "0  MEGA SORIANA  SUPERMERCADO / TIENDA DE AUTOSERVICIO   \n",
              "1  MEGA SORIANA  SUPERMERCADO / TIENDA DE AUTOSERVICIO   \n",
              "2  MEGA SORIANA  SUPERMERCADO / TIENDA DE AUTOSERVICIO   \n",
              "\n",
              "                          nombre_tienda  \\\n",
              "0  MEGA SORIANA SUCURSAL AGUASCALIENTES   \n",
              "1  MEGA SORIANA SUCURSAL AGUASCALIENTES   \n",
              "2  MEGA SORIANA SUCURSAL AGUASCALIENTES   \n",
              "\n",
              "                                           direccion          estado  \\\n",
              "0  AGUASCALIENTES NTE. 802, ESQ. BLVD. A ZACATECA...  AGUASCALIENTES   \n",
              "1  AGUASCALIENTES NTE. 802, ESQ. BLVD. A ZACATECA...  AGUASCALIENTES   \n",
              "2  AGUASCALIENTES NTE. 802, ESQ. BLVD. A ZACATECA...  AGUASCALIENTES   \n",
              "\n",
              "        municipio    latitud    longitud  \n",
              "0  AGUASCALIENTES  21.916001 -102.290779  \n",
              "1  AGUASCALIENTES  21.916001 -102.290779  \n",
              "2  AGUASCALIENTES  21.916001 -102.290779  "
            ],
            "text/html": [
              "\n",
              "  <div id=\"df-d8752d06-b574-480e-a483-b3b3b09c969b\">\n",
              "    <div class=\"colab-df-container\">\n",
              "      <div>\n",
              "<style scoped>\n",
              "    .dataframe tbody tr th:only-of-type {\n",
              "        vertical-align: middle;\n",
              "    }\n",
              "\n",
              "    .dataframe tbody tr th {\n",
              "        vertical-align: top;\n",
              "    }\n",
              "\n",
              "    .dataframe thead th {\n",
              "        text-align: right;\n",
              "    }\n",
              "</style>\n",
              "<table border=\"1\" class=\"dataframe\">\n",
              "  <thead>\n",
              "    <tr style=\"text-align: right;\">\n",
              "      <th></th>\n",
              "      <th>producto</th>\n",
              "      <th>presentacion</th>\n",
              "      <th>marca</th>\n",
              "      <th>categoria</th>\n",
              "      <th>grupo</th>\n",
              "      <th>precio</th>\n",
              "      <th>fecha</th>\n",
              "      <th>marca_tienda</th>\n",
              "      <th>tipo_tienda</th>\n",
              "      <th>nombre_tienda</th>\n",
              "      <th>direccion</th>\n",
              "      <th>estado</th>\n",
              "      <th>municipio</th>\n",
              "      <th>latitud</th>\n",
              "      <th>longitud</th>\n",
              "    </tr>\n",
              "  </thead>\n",
              "  <tbody>\n",
              "    <tr>\n",
              "      <th>0</th>\n",
              "      <td>ACEITE</td>\n",
              "      <td>BOTELLA 1 LT. VEGETAL</td>\n",
              "      <td>1-2-3</td>\n",
              "      <td>ACEITES Y GRASAS VEG. COMESTIBLES</td>\n",
              "      <td>BASICOS</td>\n",
              "      <td>56.0</td>\n",
              "      <td>2022-12-26</td>\n",
              "      <td>MEGA SORIANA</td>\n",
              "      <td>SUPERMERCADO / TIENDA DE AUTOSERVICIO</td>\n",
              "      <td>MEGA SORIANA SUCURSAL AGUASCALIENTES</td>\n",
              "      <td>AGUASCALIENTES NTE. 802, ESQ. BLVD. A ZACATECA...</td>\n",
              "      <td>AGUASCALIENTES</td>\n",
              "      <td>AGUASCALIENTES</td>\n",
              "      <td>21.916001</td>\n",
              "      <td>-102.290779</td>\n",
              "    </tr>\n",
              "    <tr>\n",
              "      <th>1</th>\n",
              "      <td>ACEITE</td>\n",
              "      <td>BOTELLA 850 ML. VEGETAL</td>\n",
              "      <td>AVE</td>\n",
              "      <td>ACEITES Y GRASAS VEG. COMESTIBLES</td>\n",
              "      <td>PACIC</td>\n",
              "      <td>43.9</td>\n",
              "      <td>2022-12-26</td>\n",
              "      <td>MEGA SORIANA</td>\n",
              "      <td>SUPERMERCADO / TIENDA DE AUTOSERVICIO</td>\n",
              "      <td>MEGA SORIANA SUCURSAL AGUASCALIENTES</td>\n",
              "      <td>AGUASCALIENTES NTE. 802, ESQ. BLVD. A ZACATECA...</td>\n",
              "      <td>AGUASCALIENTES</td>\n",
              "      <td>AGUASCALIENTES</td>\n",
              "      <td>21.916001</td>\n",
              "      <td>-102.290779</td>\n",
              "    </tr>\n",
              "    <tr>\n",
              "      <th>2</th>\n",
              "      <td>ACEITE</td>\n",
              "      <td>BOTELLA 946 ML. CANOLA</td>\n",
              "      <td>CANOIL</td>\n",
              "      <td>ACEITES Y GRASAS VEG. COMESTIBLES</td>\n",
              "      <td>BASICOS</td>\n",
              "      <td>50.9</td>\n",
              "      <td>2022-12-26</td>\n",
              "      <td>MEGA SORIANA</td>\n",
              "      <td>SUPERMERCADO / TIENDA DE AUTOSERVICIO</td>\n",
              "      <td>MEGA SORIANA SUCURSAL AGUASCALIENTES</td>\n",
              "      <td>AGUASCALIENTES NTE. 802, ESQ. BLVD. A ZACATECA...</td>\n",
              "      <td>AGUASCALIENTES</td>\n",
              "      <td>AGUASCALIENTES</td>\n",
              "      <td>21.916001</td>\n",
              "      <td>-102.290779</td>\n",
              "    </tr>\n",
              "  </tbody>\n",
              "</table>\n",
              "</div>\n",
              "      <button class=\"colab-df-convert\" onclick=\"convertToInteractive('df-d8752d06-b574-480e-a483-b3b3b09c969b')\"\n",
              "              title=\"Convert this dataframe to an interactive table.\"\n",
              "              style=\"display:none;\">\n",
              "        \n",
              "  <svg xmlns=\"http://www.w3.org/2000/svg\" height=\"24px\"viewBox=\"0 0 24 24\"\n",
              "       width=\"24px\">\n",
              "    <path d=\"M0 0h24v24H0V0z\" fill=\"none\"/>\n",
              "    <path d=\"M18.56 5.44l.94 2.06.94-2.06 2.06-.94-2.06-.94-.94-2.06-.94 2.06-2.06.94zm-11 1L8.5 8.5l.94-2.06 2.06-.94-2.06-.94L8.5 2.5l-.94 2.06-2.06.94zm10 10l.94 2.06.94-2.06 2.06-.94-2.06-.94-.94-2.06-.94 2.06-2.06.94z\"/><path d=\"M17.41 7.96l-1.37-1.37c-.4-.4-.92-.59-1.43-.59-.52 0-1.04.2-1.43.59L10.3 9.45l-7.72 7.72c-.78.78-.78 2.05 0 2.83L4 21.41c.39.39.9.59 1.41.59.51 0 1.02-.2 1.41-.59l7.78-7.78 2.81-2.81c.8-.78.8-2.07 0-2.86zM5.41 20L4 18.59l7.72-7.72 1.47 1.35L5.41 20z\"/>\n",
              "  </svg>\n",
              "      </button>\n",
              "      \n",
              "  <style>\n",
              "    .colab-df-container {\n",
              "      display:flex;\n",
              "      flex-wrap:wrap;\n",
              "      gap: 12px;\n",
              "    }\n",
              "\n",
              "    .colab-df-convert {\n",
              "      background-color: #E8F0FE;\n",
              "      border: none;\n",
              "      border-radius: 50%;\n",
              "      cursor: pointer;\n",
              "      display: none;\n",
              "      fill: #1967D2;\n",
              "      height: 32px;\n",
              "      padding: 0 0 0 0;\n",
              "      width: 32px;\n",
              "    }\n",
              "\n",
              "    .colab-df-convert:hover {\n",
              "      background-color: #E2EBFA;\n",
              "      box-shadow: 0px 1px 2px rgba(60, 64, 67, 0.3), 0px 1px 3px 1px rgba(60, 64, 67, 0.15);\n",
              "      fill: #174EA6;\n",
              "    }\n",
              "\n",
              "    [theme=dark] .colab-df-convert {\n",
              "      background-color: #3B4455;\n",
              "      fill: #D2E3FC;\n",
              "    }\n",
              "\n",
              "    [theme=dark] .colab-df-convert:hover {\n",
              "      background-color: #434B5C;\n",
              "      box-shadow: 0px 1px 3px 1px rgba(0, 0, 0, 0.15);\n",
              "      filter: drop-shadow(0px 1px 2px rgba(0, 0, 0, 0.3));\n",
              "      fill: #FFFFFF;\n",
              "    }\n",
              "  </style>\n",
              "\n",
              "      <script>\n",
              "        const buttonEl =\n",
              "          document.querySelector('#df-d8752d06-b574-480e-a483-b3b3b09c969b button.colab-df-convert');\n",
              "        buttonEl.style.display =\n",
              "          google.colab.kernel.accessAllowed ? 'block' : 'none';\n",
              "\n",
              "        async function convertToInteractive(key) {\n",
              "          const element = document.querySelector('#df-d8752d06-b574-480e-a483-b3b3b09c969b');\n",
              "          const dataTable =\n",
              "            await google.colab.kernel.invokeFunction('convertToInteractive',\n",
              "                                                     [key], {});\n",
              "          if (!dataTable) return;\n",
              "\n",
              "          const docLinkHtml = 'Like what you see? Visit the ' +\n",
              "            '<a target=\"_blank\" href=https://colab.research.google.com/notebooks/data_table.ipynb>data table notebook</a>'\n",
              "            + ' to learn more about interactive tables.';\n",
              "          element.innerHTML = '';\n",
              "          dataTable['output_type'] = 'display_data';\n",
              "          await google.colab.output.renderOutput(dataTable, element);\n",
              "          const docLink = document.createElement('div');\n",
              "          docLink.innerHTML = docLinkHtml;\n",
              "          element.appendChild(docLink);\n",
              "        }\n",
              "      </script>\n",
              "    </div>\n",
              "  </div>\n",
              "  "
            ]
          },
          "metadata": {},
          "execution_count": 4
        }
      ]
    },
    {
      "cell_type": "code",
      "source": [
        "#Por medio de la propiedad tail vemos los últimos registros\n",
        "df.tail(3)"
      ],
      "metadata": {
        "colab": {
          "base_uri": "https://localhost:8080/",
          "height": 503
        },
        "id": "uTZlCsqI5N5x",
        "outputId": "7e53486d-5cc6-4fca-bcd3-21c50c0092d2"
      },
      "execution_count": 5,
      "outputs": [
        {
          "output_type": "execute_result",
          "data": {
            "text/plain": [
              "                producto                         presentacion marca  \\\n",
              "256420              XL-3  CAJA CON 2 CARTERAS. 4 TABLETAS C/U   S/M   \n",
              "256421           XL-3 VR                     CAJA 24 TABLETAS   S/M   \n",
              "256422  TORTILLA DE MAIZ                         1 KG. GRANEL   S/M   \n",
              "\n",
              "                             categoria         grupo  precio       fecha  \\\n",
              "256420                    MEDICAMENTOS  MEDICAMENTOS   18.97  2022-12-30   \n",
              "256421                    MEDICAMENTOS  MEDICAMENTOS   88.91  2022-12-30   \n",
              "256422  TORTILLAS Y DERIVADOS DEL MAIZ       BASICOS   20.00  2022-12-30   \n",
              "\n",
              "                      marca_tienda                            tipo_tienda  \\\n",
              "256420                   ISSSTEZAC  SUPERMERCADO / TIENDA DE AUTOSERVICIO   \n",
              "256421                   ISSSTEZAC  SUPERMERCADO / TIENDA DE AUTOSERVICIO   \n",
              "256422  TORTILLERIAS TRADICIONALES                           TORTILLERÍAS   \n",
              "\n",
              "               nombre_tienda  \\\n",
              "256420  ISSSTEZAC SUCURSAL 2   \n",
              "256421  ISSSTEZAC SUCURSAL 2   \n",
              "256422   TORTILLERIA LA CRUZ   \n",
              "\n",
              "                                                direccion     estado  \\\n",
              "256420  BLVD LOPEZ PORTILLO 238, ENTRE CALLE SICOMORO ...  ZACATECAS   \n",
              "256421  BLVD LOPEZ PORTILLO 238, ENTRE CALLE SICOMORO ...  ZACATECAS   \n",
              "256422  DE LA CRUZ 9, ENTRE JOSE MARIA RODRIGUEZ Y COL...  ZACATECAS   \n",
              "\n",
              "        municipio    latitud    longitud  \n",
              "256420  ZACATECAS  22.757732 -102.538580  \n",
              "256421  ZACATECAS  22.757732 -102.538580  \n",
              "256422  ZACATECAS  22.750167 -102.520612  "
            ],
            "text/html": [
              "\n",
              "  <div id=\"df-05c39f0e-7de4-4deb-8f38-405bbd5006f5\">\n",
              "    <div class=\"colab-df-container\">\n",
              "      <div>\n",
              "<style scoped>\n",
              "    .dataframe tbody tr th:only-of-type {\n",
              "        vertical-align: middle;\n",
              "    }\n",
              "\n",
              "    .dataframe tbody tr th {\n",
              "        vertical-align: top;\n",
              "    }\n",
              "\n",
              "    .dataframe thead th {\n",
              "        text-align: right;\n",
              "    }\n",
              "</style>\n",
              "<table border=\"1\" class=\"dataframe\">\n",
              "  <thead>\n",
              "    <tr style=\"text-align: right;\">\n",
              "      <th></th>\n",
              "      <th>producto</th>\n",
              "      <th>presentacion</th>\n",
              "      <th>marca</th>\n",
              "      <th>categoria</th>\n",
              "      <th>grupo</th>\n",
              "      <th>precio</th>\n",
              "      <th>fecha</th>\n",
              "      <th>marca_tienda</th>\n",
              "      <th>tipo_tienda</th>\n",
              "      <th>nombre_tienda</th>\n",
              "      <th>direccion</th>\n",
              "      <th>estado</th>\n",
              "      <th>municipio</th>\n",
              "      <th>latitud</th>\n",
              "      <th>longitud</th>\n",
              "    </tr>\n",
              "  </thead>\n",
              "  <tbody>\n",
              "    <tr>\n",
              "      <th>256420</th>\n",
              "      <td>XL-3</td>\n",
              "      <td>CAJA CON 2 CARTERAS. 4 TABLETAS C/U</td>\n",
              "      <td>S/M</td>\n",
              "      <td>MEDICAMENTOS</td>\n",
              "      <td>MEDICAMENTOS</td>\n",
              "      <td>18.97</td>\n",
              "      <td>2022-12-30</td>\n",
              "      <td>ISSSTEZAC</td>\n",
              "      <td>SUPERMERCADO / TIENDA DE AUTOSERVICIO</td>\n",
              "      <td>ISSSTEZAC SUCURSAL 2</td>\n",
              "      <td>BLVD LOPEZ PORTILLO 238, ENTRE CALLE SICOMORO ...</td>\n",
              "      <td>ZACATECAS</td>\n",
              "      <td>ZACATECAS</td>\n",
              "      <td>22.757732</td>\n",
              "      <td>-102.538580</td>\n",
              "    </tr>\n",
              "    <tr>\n",
              "      <th>256421</th>\n",
              "      <td>XL-3 VR</td>\n",
              "      <td>CAJA 24 TABLETAS</td>\n",
              "      <td>S/M</td>\n",
              "      <td>MEDICAMENTOS</td>\n",
              "      <td>MEDICAMENTOS</td>\n",
              "      <td>88.91</td>\n",
              "      <td>2022-12-30</td>\n",
              "      <td>ISSSTEZAC</td>\n",
              "      <td>SUPERMERCADO / TIENDA DE AUTOSERVICIO</td>\n",
              "      <td>ISSSTEZAC SUCURSAL 2</td>\n",
              "      <td>BLVD LOPEZ PORTILLO 238, ENTRE CALLE SICOMORO ...</td>\n",
              "      <td>ZACATECAS</td>\n",
              "      <td>ZACATECAS</td>\n",
              "      <td>22.757732</td>\n",
              "      <td>-102.538580</td>\n",
              "    </tr>\n",
              "    <tr>\n",
              "      <th>256422</th>\n",
              "      <td>TORTILLA DE MAIZ</td>\n",
              "      <td>1 KG. GRANEL</td>\n",
              "      <td>S/M</td>\n",
              "      <td>TORTILLAS Y DERIVADOS DEL MAIZ</td>\n",
              "      <td>BASICOS</td>\n",
              "      <td>20.00</td>\n",
              "      <td>2022-12-30</td>\n",
              "      <td>TORTILLERIAS TRADICIONALES</td>\n",
              "      <td>TORTILLERÍAS</td>\n",
              "      <td>TORTILLERIA LA CRUZ</td>\n",
              "      <td>DE LA CRUZ 9, ENTRE JOSE MARIA RODRIGUEZ Y COL...</td>\n",
              "      <td>ZACATECAS</td>\n",
              "      <td>ZACATECAS</td>\n",
              "      <td>22.750167</td>\n",
              "      <td>-102.520612</td>\n",
              "    </tr>\n",
              "  </tbody>\n",
              "</table>\n",
              "</div>\n",
              "      <button class=\"colab-df-convert\" onclick=\"convertToInteractive('df-05c39f0e-7de4-4deb-8f38-405bbd5006f5')\"\n",
              "              title=\"Convert this dataframe to an interactive table.\"\n",
              "              style=\"display:none;\">\n",
              "        \n",
              "  <svg xmlns=\"http://www.w3.org/2000/svg\" height=\"24px\"viewBox=\"0 0 24 24\"\n",
              "       width=\"24px\">\n",
              "    <path d=\"M0 0h24v24H0V0z\" fill=\"none\"/>\n",
              "    <path d=\"M18.56 5.44l.94 2.06.94-2.06 2.06-.94-2.06-.94-.94-2.06-.94 2.06-2.06.94zm-11 1L8.5 8.5l.94-2.06 2.06-.94-2.06-.94L8.5 2.5l-.94 2.06-2.06.94zm10 10l.94 2.06.94-2.06 2.06-.94-2.06-.94-.94-2.06-.94 2.06-2.06.94z\"/><path d=\"M17.41 7.96l-1.37-1.37c-.4-.4-.92-.59-1.43-.59-.52 0-1.04.2-1.43.59L10.3 9.45l-7.72 7.72c-.78.78-.78 2.05 0 2.83L4 21.41c.39.39.9.59 1.41.59.51 0 1.02-.2 1.41-.59l7.78-7.78 2.81-2.81c.8-.78.8-2.07 0-2.86zM5.41 20L4 18.59l7.72-7.72 1.47 1.35L5.41 20z\"/>\n",
              "  </svg>\n",
              "      </button>\n",
              "      \n",
              "  <style>\n",
              "    .colab-df-container {\n",
              "      display:flex;\n",
              "      flex-wrap:wrap;\n",
              "      gap: 12px;\n",
              "    }\n",
              "\n",
              "    .colab-df-convert {\n",
              "      background-color: #E8F0FE;\n",
              "      border: none;\n",
              "      border-radius: 50%;\n",
              "      cursor: pointer;\n",
              "      display: none;\n",
              "      fill: #1967D2;\n",
              "      height: 32px;\n",
              "      padding: 0 0 0 0;\n",
              "      width: 32px;\n",
              "    }\n",
              "\n",
              "    .colab-df-convert:hover {\n",
              "      background-color: #E2EBFA;\n",
              "      box-shadow: 0px 1px 2px rgba(60, 64, 67, 0.3), 0px 1px 3px 1px rgba(60, 64, 67, 0.15);\n",
              "      fill: #174EA6;\n",
              "    }\n",
              "\n",
              "    [theme=dark] .colab-df-convert {\n",
              "      background-color: #3B4455;\n",
              "      fill: #D2E3FC;\n",
              "    }\n",
              "\n",
              "    [theme=dark] .colab-df-convert:hover {\n",
              "      background-color: #434B5C;\n",
              "      box-shadow: 0px 1px 3px 1px rgba(0, 0, 0, 0.15);\n",
              "      filter: drop-shadow(0px 1px 2px rgba(0, 0, 0, 0.3));\n",
              "      fill: #FFFFFF;\n",
              "    }\n",
              "  </style>\n",
              "\n",
              "      <script>\n",
              "        const buttonEl =\n",
              "          document.querySelector('#df-05c39f0e-7de4-4deb-8f38-405bbd5006f5 button.colab-df-convert');\n",
              "        buttonEl.style.display =\n",
              "          google.colab.kernel.accessAllowed ? 'block' : 'none';\n",
              "\n",
              "        async function convertToInteractive(key) {\n",
              "          const element = document.querySelector('#df-05c39f0e-7de4-4deb-8f38-405bbd5006f5');\n",
              "          const dataTable =\n",
              "            await google.colab.kernel.invokeFunction('convertToInteractive',\n",
              "                                                     [key], {});\n",
              "          if (!dataTable) return;\n",
              "\n",
              "          const docLinkHtml = 'Like what you see? Visit the ' +\n",
              "            '<a target=\"_blank\" href=https://colab.research.google.com/notebooks/data_table.ipynb>data table notebook</a>'\n",
              "            + ' to learn more about interactive tables.';\n",
              "          element.innerHTML = '';\n",
              "          dataTable['output_type'] = 'display_data';\n",
              "          await google.colab.output.renderOutput(dataTable, element);\n",
              "          const docLink = document.createElement('div');\n",
              "          docLink.innerHTML = docLinkHtml;\n",
              "          element.appendChild(docLink);\n",
              "        }\n",
              "      </script>\n",
              "    </div>\n",
              "  </div>\n",
              "  "
            ]
          },
          "metadata": {},
          "execution_count": 5
        }
      ]
    },
    {
      "cell_type": "markdown",
      "source": [
        "Hacemos el **análisis exploratorio** de datos para saber si:\n",
        "* ¿El conjunto de datos que tengo realmente me sirve para responder algunas de las preguntas que me planteé?\n",
        "     - Las preguntas que se plantearon incluyen clasificaciones de productos, precios de productos, comparaciones de precios, localizaciones de tiendas, etc y podemos ver que el conjunto de datos tiene direcciones y coordenadas geográficas de las tiendas que se pueden usar para saber dónde comprar, (incluso podemos obtener el Código postal de las direcciones para hacer consultas mediante este dato) categorías de productos, precios, etc; todos estos datos se pueden usar para obtener la respuesta de las preguntas que se plantearon al inicio del proyecto."
      ],
      "metadata": {
        "id": "fIsZRqcuC4ju"
      }
    },
    {
      "cell_type": "markdown",
      "source": [
        "* ¿Qué tamaño tiene mi conjunto de datos? ¿Serán datos suficientes?"
      ],
      "metadata": {
        "id": "jL_fLr93Gv5d"
      }
    },
    {
      "cell_type": "code",
      "source": [
        "#La función shape nos da información de la cantidad de renglones y columnas\n",
        "df.shape"
      ],
      "metadata": {
        "colab": {
          "base_uri": "https://localhost:8080/"
        },
        "id": "70Rg9AG2x-wJ",
        "outputId": "e3e89aed-e254-40cd-8ceb-5e37806b587f"
      },
      "execution_count": 6,
      "outputs": [
        {
          "output_type": "execute_result",
          "data": {
            "text/plain": [
              "(256423, 15)"
            ]
          },
          "metadata": {},
          "execution_count": 6
        }
      ]
    },
    {
      "cell_type": "markdown",
      "source": [
        "- El archivo  seleccionado corresponde a la última semana de diciembre de 2022 y contiene 256,423 registros con 15 columnas.\n",
        "\n"
      ],
      "metadata": {
        "id": "uKRguwROJxdH"
      }
    },
    {
      "cell_type": "markdown",
      "source": [
        "* ¿Qué columnas tengo y qué información tengo en cada una de esas columnas?"
      ],
      "metadata": {
        "id": "augsVw0vKrrX"
      }
    },
    {
      "cell_type": "code",
      "source": [
        "#Por medio de la función dtypes vemos cada columna y su tipo de dato\n",
        "df.dtypes"
      ],
      "metadata": {
        "colab": {
          "base_uri": "https://localhost:8080/"
        },
        "id": "BnYsn5BBx7Fs",
        "outputId": "730df7ee-1000-48eb-9146-81c044cf87be"
      },
      "execution_count": 7,
      "outputs": [
        {
          "output_type": "execute_result",
          "data": {
            "text/plain": [
              "producto          object\n",
              "presentacion      object\n",
              "marca             object\n",
              "categoria         object\n",
              "grupo             object\n",
              "precio           float64\n",
              "fecha             object\n",
              "marca_tienda      object\n",
              "tipo_tienda       object\n",
              "nombre_tienda     object\n",
              "direccion         object\n",
              "estado            object\n",
              "municipio         object\n",
              "latitud          float64\n",
              "longitud         float64\n",
              "dtype: object"
            ]
          },
          "metadata": {},
          "execution_count": 7
        }
      ]
    },
    {
      "cell_type": "markdown",
      "source": [
        "|Columna|Descripción|\n",
        "|---|---|\n",
        "|producto|Nombre del producto.|\n",
        "|presentacion|Descripción de la presentación del producto.\n",
        "|marca|Descripción de la marca del producto.\n",
        "|categoria|Nombre de la categoría a la cual pertenece el producto.\n",
        "|grupo|Nombre del grupo al que pertenece el producto.\n",
        "|precio|Precio del producto de venta al público.\n",
        "|fecha|Día, mes y año en que fue capturado el precio del producto en el establecimiento.\n",
        "|marca_tienda|Conjunto de establecimientos que son sucursales de una misma marca comercial.\n",
        "|tipo_tienda|Descripción del giro comercial.\n",
        "|nombre_tienda|Nombre comercial asociado a la razón social del establecimiento.\n",
        "|direccion|Dirección del establecimiento.\n",
        "|estado|Entidad federativa en la que se localiza el establecimiento.\n",
        "|municipio|Nombre del municipio o demarcación territorial en el que se localiza el establecimiento.\n",
        "|latitud|Localización del establecimiento con respecto al ecuador. Expresadas en grados decimales\n",
        "|longitud|Localización del establecimiento con respecto al meridiano 0 . Expresadas en grados decimales"
      ],
      "metadata": {
        "id": "QSRK3pofMmyV"
      }
    },
    {
      "cell_type": "code",
      "source": [
        "#Mediante la función info vemos más información sobre las columnas\n",
        "df.info()"
      ],
      "metadata": {
        "colab": {
          "base_uri": "https://localhost:8080/"
        },
        "id": "tK48i0Pm0pfw",
        "outputId": "df1cd1b5-e614-454d-ba54-d7ef26903106"
      },
      "execution_count": 8,
      "outputs": [
        {
          "output_type": "stream",
          "name": "stdout",
          "text": [
            "<class 'pandas.core.frame.DataFrame'>\n",
            "RangeIndex: 256423 entries, 0 to 256422\n",
            "Data columns (total 15 columns):\n",
            " #   Column         Non-Null Count   Dtype  \n",
            "---  ------         --------------   -----  \n",
            " 0   producto       256423 non-null  object \n",
            " 1   presentacion   256423 non-null  object \n",
            " 2   marca          256423 non-null  object \n",
            " 3   categoria      256423 non-null  object \n",
            " 4   grupo          256423 non-null  object \n",
            " 5   precio         256423 non-null  float64\n",
            " 6   fecha          256423 non-null  object \n",
            " 7   marca_tienda   256423 non-null  object \n",
            " 8   tipo_tienda    256423 non-null  object \n",
            " 9   nombre_tienda  256423 non-null  object \n",
            " 10  direccion      256423 non-null  object \n",
            " 11  estado         256423 non-null  object \n",
            " 12  municipio      256423 non-null  object \n",
            " 13  latitud        255516 non-null  float64\n",
            " 14  longitud       255516 non-null  float64\n",
            "dtypes: float64(3), object(12)\n",
            "memory usage: 29.3+ MB\n"
          ]
        }
      ]
    },
    {
      "cell_type": "markdown",
      "source": [
        "* Los nombres que tienen mis columnas, ¿son el nombre más apropiado?"
      ],
      "metadata": {
        "id": "tW0f7AKuUhKv"
      }
    },
    {
      "cell_type": "code",
      "source": [
        "#Podemos acceder a una lista de columnas usando la función columns\n",
        "df.columns"
      ],
      "metadata": {
        "colab": {
          "base_uri": "https://localhost:8080/"
        },
        "id": "5UCqFPxw6URv",
        "outputId": "6738eb4a-1545-497e-8642-3427b2722ab5"
      },
      "execution_count": 9,
      "outputs": [
        {
          "output_type": "execute_result",
          "data": {
            "text/plain": [
              "Index(['producto', 'presentacion', 'marca', 'categoria', 'grupo', 'precio',\n",
              "       'fecha', 'marca_tienda', 'tipo_tienda', 'nombre_tienda', 'direccion',\n",
              "       'estado', 'municipio', 'latitud', 'longitud'],\n",
              "      dtype='object')"
            ]
          },
          "metadata": {},
          "execution_count": 9
        }
      ]
    },
    {
      "cell_type": "markdown",
      "source": [
        "- Los nombres de las columnas se asignaron al cargar el archivo csv de acuerdo a los datos observados y con base en el [Diccionario de Datos](https://datos.profeco.gob.mx/diccionarioDatosQQP.php) publicado por PROFECO.\n",
        "\n",
        "* ¿Qué tipos de datos tengo en cada columna? ¿Parecen ser el tipo correcto de datos? ¿O es un tipo de datos \"incorrecto\"?\n",
        "\n"
      ],
      "metadata": {
        "id": "wK0LNH5Ky_sD"
      }
    },
    {
      "cell_type": "code",
      "source": [
        "#La función loc nos permite ver la información de una fila específica\n",
        "df.loc[0]"
      ],
      "metadata": {
        "colab": {
          "base_uri": "https://localhost:8080/"
        },
        "id": "eThrlLeYzRVL",
        "outputId": "a06bb823-4a06-4cb4-cf89-6e3fdd1fbe6c"
      },
      "execution_count": 10,
      "outputs": [
        {
          "output_type": "execute_result",
          "data": {
            "text/plain": [
              "producto                                                    ACEITE\n",
              "presentacion                                 BOTELLA 1 LT. VEGETAL\n",
              "marca                                                        1-2-3\n",
              "categoria                        ACEITES Y GRASAS VEG. COMESTIBLES\n",
              "grupo                                                      BASICOS\n",
              "precio                                                        56.0\n",
              "fecha                                                   2022-12-26\n",
              "marca_tienda                                          MEGA SORIANA\n",
              "tipo_tienda                  SUPERMERCADO / TIENDA DE AUTOSERVICIO\n",
              "nombre_tienda                 MEGA SORIANA SUCURSAL AGUASCALIENTES\n",
              "direccion        AGUASCALIENTES NTE. 802, ESQ. BLVD. A ZACATECA...\n",
              "estado                                              AGUASCALIENTES\n",
              "municipio                                           AGUASCALIENTES\n",
              "latitud                                                  21.916001\n",
              "longitud                                               -102.290779\n",
              "Name: 0, dtype: object"
            ]
          },
          "metadata": {},
          "execution_count": 10
        }
      ]
    },
    {
      "cell_type": "markdown",
      "source": [
        "- El tipo de dato de cada uno es correcto a excepción de la fecha que presenta tipo object.\n",
        "- En la columna ```presentacion``` se observa que lo productos pueden venir en medidas diferentes como kilogramos, mililitros, litros, etc. por lo que se requiere hacer un tratamiento a la información para realizar comparaciones de precios correctas.\n"
      ],
      "metadata": {
        "id": "DQwgo9-MUxYh"
      }
    },
    {
      "cell_type": "markdown",
      "source": [
        "* Si selecciono algunas filas al azar y las observo, ¿estoy obteniendo los datos que debería? ¿o hay datos que parecen estar \"sucios\" o \"incorrectos\"?\n"
      ],
      "metadata": {
        "id": "0O7qDWFwMB5e"
      }
    },
    {
      "cell_type": "code",
      "source": [
        "#Con la función isna y sum podemos obtener el número de nulos en cada columna\n",
        "df.isna().sum()"
      ],
      "metadata": {
        "colab": {
          "base_uri": "https://localhost:8080/"
        },
        "id": "zkHXrIYuMH9f",
        "outputId": "ee523ca7-847e-4dfa-8952-d0017bdf032b"
      },
      "execution_count": 11,
      "outputs": [
        {
          "output_type": "execute_result",
          "data": {
            "text/plain": [
              "producto           0\n",
              "presentacion       0\n",
              "marca              0\n",
              "categoria          0\n",
              "grupo              0\n",
              "precio             0\n",
              "fecha              0\n",
              "marca_tienda       0\n",
              "tipo_tienda        0\n",
              "nombre_tienda      0\n",
              "direccion          0\n",
              "estado             0\n",
              "municipio          0\n",
              "latitud          907\n",
              "longitud         907\n",
              "dtype: int64"
            ]
          },
          "metadata": {},
          "execution_count": 11
        }
      ]
    },
    {
      "cell_type": "markdown",
      "source": [
        "- La base de datos parece tener datos limpios, solo tenemos falta de datos en las columnas de latitud y longitud.\n",
        "    "
      ],
      "metadata": {
        "id": "xfyZpf2UU-js"
      }
    },
    {
      "cell_type": "markdown",
      "source": [
        "# POSTWORK 5 - LIMPIEZA DE DATAFRAME"
      ],
      "metadata": {
        "id": "XXWJ4VZPzr1s"
      }
    },
    {
      "cell_type": "markdown",
      "source": [
        "Este paso es requerido para poder utilizar apropiadamente el dataframe y conocer el contenido de las columnas. También vamos a explorar nuestro dataset usando agregaciones para ver si podemos empezar a responder algunas de las preguntas que nos hemos planteado. Los pasos que debes de seguir son los siguientes:\n",
        "\n",
        "* Explora tu dataset con el fin de encontrar los NaNs que contiene. Piensa en la distribución de NaNs por columna y por fila.\n",
        "* Piensa cuáles son los procedimientos que puedes aplicar a tus NaNs. ¿Tenemos que eliminar las filas/columnas que tienen esos NaNs? ¿O podríamos rellenar esos NaNs con algún valor de manera que podamos retener esas filas/columnas?\n",
        "* Limpia tu dataset de manera que no quede ningún NaN.\n",
        "* Reindexa tu dataset si lo consideras necesario.\n",
        "* Renombra tus columnas si lo consideras necesario.\n",
        "* Prueba aplicar agregaciones a tu DataFrame para ver si puedes empezar a responder algunas de las preguntas que te planteaste anteriormente. Aquí tienes una lista de algunas de las funciones que puedes utilizar para agregar/reducir tu dataset."
      ],
      "metadata": {
        "id": "ormB1g8-zuhK"
      }
    },
    {
      "cell_type": "markdown",
      "source": [
        "* Exploramos el dataset con el fin de encontrar los NaNs que contiene."
      ],
      "metadata": {
        "id": "3EevLpYJwef3"
      }
    },
    {
      "cell_type": "code",
      "source": [
        "#Se revisa la cantidad de filas y columnas, asi como su tipo de datos\n",
        "print('Cantidad de Filas y columnas: ', df.shape)\n",
        "print('Nombre columnas: ', df.dtypes)"
      ],
      "metadata": {
        "id": "RL6PXF3uEaiw",
        "colab": {
          "base_uri": "https://localhost:8080/"
        },
        "outputId": "cdbe8b39-9f81-4261-ad95-532f0d561ab1"
      },
      "execution_count": 12,
      "outputs": [
        {
          "output_type": "stream",
          "name": "stdout",
          "text": [
            "Cantidad de Filas y columnas:  (256423, 15)\n",
            "Nombre columnas:  producto          object\n",
            "presentacion      object\n",
            "marca             object\n",
            "categoria         object\n",
            "grupo             object\n",
            "precio           float64\n",
            "fecha             object\n",
            "marca_tienda      object\n",
            "tipo_tienda       object\n",
            "nombre_tienda     object\n",
            "direccion         object\n",
            "estado            object\n",
            "municipio         object\n",
            "latitud          float64\n",
            "longitud         float64\n",
            "dtype: object\n"
          ]
        }
      ]
    },
    {
      "cell_type": "code",
      "source": [
        "#Se revisa la informacion del dataset y se detecta que las columnas latitud y longitud \n",
        "#tienen menos datos que las otras columnas\n",
        "df.info()"
      ],
      "metadata": {
        "colab": {
          "base_uri": "https://localhost:8080/"
        },
        "id": "2UNQQ6byVYmA",
        "outputId": "de92939a-2232-49b3-ad54-b7cbb8840e50"
      },
      "execution_count": 13,
      "outputs": [
        {
          "output_type": "stream",
          "name": "stdout",
          "text": [
            "<class 'pandas.core.frame.DataFrame'>\n",
            "RangeIndex: 256423 entries, 0 to 256422\n",
            "Data columns (total 15 columns):\n",
            " #   Column         Non-Null Count   Dtype  \n",
            "---  ------         --------------   -----  \n",
            " 0   producto       256423 non-null  object \n",
            " 1   presentacion   256423 non-null  object \n",
            " 2   marca          256423 non-null  object \n",
            " 3   categoria      256423 non-null  object \n",
            " 4   grupo          256423 non-null  object \n",
            " 5   precio         256423 non-null  float64\n",
            " 6   fecha          256423 non-null  object \n",
            " 7   marca_tienda   256423 non-null  object \n",
            " 8   tipo_tienda    256423 non-null  object \n",
            " 9   nombre_tienda  256423 non-null  object \n",
            " 10  direccion      256423 non-null  object \n",
            " 11  estado         256423 non-null  object \n",
            " 12  municipio      256423 non-null  object \n",
            " 13  latitud        255516 non-null  float64\n",
            " 14  longitud       255516 non-null  float64\n",
            "dtypes: float64(3), object(12)\n",
            "memory usage: 29.3+ MB\n"
          ]
        }
      ]
    },
    {
      "cell_type": "code",
      "source": [
        "#Se revisa los valores nulos en las columnas y se confirma que existen valores nulos en las columnas latitud y longitud\n",
        "df.isna().sum(axis=0)"
      ],
      "metadata": {
        "colab": {
          "base_uri": "https://localhost:8080/"
        },
        "id": "vYgXzljRVcMi",
        "outputId": "456008c7-c860-48bb-983d-e2304caa487f"
      },
      "execution_count": 14,
      "outputs": [
        {
          "output_type": "execute_result",
          "data": {
            "text/plain": [
              "producto           0\n",
              "presentacion       0\n",
              "marca              0\n",
              "categoria          0\n",
              "grupo              0\n",
              "precio             0\n",
              "fecha              0\n",
              "marca_tienda       0\n",
              "tipo_tienda        0\n",
              "nombre_tienda      0\n",
              "direccion          0\n",
              "estado             0\n",
              "municipio          0\n",
              "latitud          907\n",
              "longitud         907\n",
              "dtype: int64"
            ]
          },
          "metadata": {},
          "execution_count": 14
        }
      ]
    },
    {
      "cell_type": "markdown",
      "source": [
        "* Limpiamos el dataset eliminando los registros con valores NaN en latitud y longitud, debido a que varias de nuestras preguntas involucran estos datos por lo que estarían omitiéndose al realizar las consultas y la cantidad de registros con valores nulos representa sólo 0.003% del total."
      ],
      "metadata": {
        "id": "zJ0thOSYw2Gt"
      }
    },
    {
      "cell_type": "code",
      "source": [
        "#Eliminar filas NaNs y filas duplicadas  \n",
        "df = df.dropna(axis=0, how='any')\n",
        "df = df.drop_duplicates()"
      ],
      "metadata": {
        "id": "qTW0TmzeVd-_"
      },
      "execution_count": 15,
      "outputs": []
    },
    {
      "cell_type": "markdown",
      "source": [
        "* Asignamos un indice."
      ],
      "metadata": {
        "id": "g1A0EaRL0HhU"
      }
    },
    {
      "cell_type": "code",
      "source": [
        "#Se asigna un indice\n",
        "df.insert(0, 'indice', range(1, 1 + len(df)))\n",
        "df = df.set_index('indice')\n",
        "\n",
        "df.head(2)"
      ],
      "metadata": {
        "id": "2yJ-IuhNVf8H",
        "colab": {
          "base_uri": "https://localhost:8080/",
          "height": 312
        },
        "outputId": "fa75e4ba-6fc8-4fd1-bea9-d04128a43550"
      },
      "execution_count": 20,
      "outputs": [
        {
          "output_type": "execute_result",
          "data": {
            "text/plain": [
              "       producto             presentacion  marca  \\\n",
              "indice                                            \n",
              "1        ACEITE    BOTELLA 1 LT. VEGETAL  1-2-3   \n",
              "2        ACEITE  BOTELLA 850 ML. VEGETAL    AVE   \n",
              "\n",
              "                                categoria    grupo  precio       fecha  \\\n",
              "indice                                                                   \n",
              "1       ACEITES Y GRASAS VEG. COMESTIBLES  BASICOS    56.0  2022-12-26   \n",
              "2       ACEITES Y GRASAS VEG. COMESTIBLES    PACIC    43.9  2022-12-26   \n",
              "\n",
              "        marca_tienda                            tipo_tienda  \\\n",
              "indice                                                        \n",
              "1       MEGA SORIANA  SUPERMERCADO / TIENDA DE AUTOSERVICIO   \n",
              "2       MEGA SORIANA  SUPERMERCADO / TIENDA DE AUTOSERVICIO   \n",
              "\n",
              "                               nombre_tienda  \\\n",
              "indice                                         \n",
              "1       MEGA SORIANA SUCURSAL AGUASCALIENTES   \n",
              "2       MEGA SORIANA SUCURSAL AGUASCALIENTES   \n",
              "\n",
              "                                                direccion          estado  \\\n",
              "indice                                                                      \n",
              "1       AGUASCALIENTES NTE. 802, ESQ. BLVD. A ZACATECA...  AGUASCALIENTES   \n",
              "2       AGUASCALIENTES NTE. 802, ESQ. BLVD. A ZACATECA...  AGUASCALIENTES   \n",
              "\n",
              "             municipio    latitud    longitud     CP  \n",
              "indice                                                \n",
              "1       AGUASCALIENTES  21.916001 -102.290779  20116  \n",
              "2       AGUASCALIENTES  21.916001 -102.290779  20116  "
            ],
            "text/html": [
              "\n",
              "  <div id=\"df-c3a80c05-da4e-4ebd-a921-d87a5860b800\">\n",
              "    <div class=\"colab-df-container\">\n",
              "      <div>\n",
              "<style scoped>\n",
              "    .dataframe tbody tr th:only-of-type {\n",
              "        vertical-align: middle;\n",
              "    }\n",
              "\n",
              "    .dataframe tbody tr th {\n",
              "        vertical-align: top;\n",
              "    }\n",
              "\n",
              "    .dataframe thead th {\n",
              "        text-align: right;\n",
              "    }\n",
              "</style>\n",
              "<table border=\"1\" class=\"dataframe\">\n",
              "  <thead>\n",
              "    <tr style=\"text-align: right;\">\n",
              "      <th></th>\n",
              "      <th>producto</th>\n",
              "      <th>presentacion</th>\n",
              "      <th>marca</th>\n",
              "      <th>categoria</th>\n",
              "      <th>grupo</th>\n",
              "      <th>precio</th>\n",
              "      <th>fecha</th>\n",
              "      <th>marca_tienda</th>\n",
              "      <th>tipo_tienda</th>\n",
              "      <th>nombre_tienda</th>\n",
              "      <th>direccion</th>\n",
              "      <th>estado</th>\n",
              "      <th>municipio</th>\n",
              "      <th>latitud</th>\n",
              "      <th>longitud</th>\n",
              "      <th>CP</th>\n",
              "    </tr>\n",
              "    <tr>\n",
              "      <th>indice</th>\n",
              "      <th></th>\n",
              "      <th></th>\n",
              "      <th></th>\n",
              "      <th></th>\n",
              "      <th></th>\n",
              "      <th></th>\n",
              "      <th></th>\n",
              "      <th></th>\n",
              "      <th></th>\n",
              "      <th></th>\n",
              "      <th></th>\n",
              "      <th></th>\n",
              "      <th></th>\n",
              "      <th></th>\n",
              "      <th></th>\n",
              "      <th></th>\n",
              "    </tr>\n",
              "  </thead>\n",
              "  <tbody>\n",
              "    <tr>\n",
              "      <th>1</th>\n",
              "      <td>ACEITE</td>\n",
              "      <td>BOTELLA 1 LT. VEGETAL</td>\n",
              "      <td>1-2-3</td>\n",
              "      <td>ACEITES Y GRASAS VEG. COMESTIBLES</td>\n",
              "      <td>BASICOS</td>\n",
              "      <td>56.0</td>\n",
              "      <td>2022-12-26</td>\n",
              "      <td>MEGA SORIANA</td>\n",
              "      <td>SUPERMERCADO / TIENDA DE AUTOSERVICIO</td>\n",
              "      <td>MEGA SORIANA SUCURSAL AGUASCALIENTES</td>\n",
              "      <td>AGUASCALIENTES NTE. 802, ESQ. BLVD. A ZACATECA...</td>\n",
              "      <td>AGUASCALIENTES</td>\n",
              "      <td>AGUASCALIENTES</td>\n",
              "      <td>21.916001</td>\n",
              "      <td>-102.290779</td>\n",
              "      <td>20116</td>\n",
              "    </tr>\n",
              "    <tr>\n",
              "      <th>2</th>\n",
              "      <td>ACEITE</td>\n",
              "      <td>BOTELLA 850 ML. VEGETAL</td>\n",
              "      <td>AVE</td>\n",
              "      <td>ACEITES Y GRASAS VEG. COMESTIBLES</td>\n",
              "      <td>PACIC</td>\n",
              "      <td>43.9</td>\n",
              "      <td>2022-12-26</td>\n",
              "      <td>MEGA SORIANA</td>\n",
              "      <td>SUPERMERCADO / TIENDA DE AUTOSERVICIO</td>\n",
              "      <td>MEGA SORIANA SUCURSAL AGUASCALIENTES</td>\n",
              "      <td>AGUASCALIENTES NTE. 802, ESQ. BLVD. A ZACATECA...</td>\n",
              "      <td>AGUASCALIENTES</td>\n",
              "      <td>AGUASCALIENTES</td>\n",
              "      <td>21.916001</td>\n",
              "      <td>-102.290779</td>\n",
              "      <td>20116</td>\n",
              "    </tr>\n",
              "  </tbody>\n",
              "</table>\n",
              "</div>\n",
              "      <button class=\"colab-df-convert\" onclick=\"convertToInteractive('df-c3a80c05-da4e-4ebd-a921-d87a5860b800')\"\n",
              "              title=\"Convert this dataframe to an interactive table.\"\n",
              "              style=\"display:none;\">\n",
              "        \n",
              "  <svg xmlns=\"http://www.w3.org/2000/svg\" height=\"24px\"viewBox=\"0 0 24 24\"\n",
              "       width=\"24px\">\n",
              "    <path d=\"M0 0h24v24H0V0z\" fill=\"none\"/>\n",
              "    <path d=\"M18.56 5.44l.94 2.06.94-2.06 2.06-.94-2.06-.94-.94-2.06-.94 2.06-2.06.94zm-11 1L8.5 8.5l.94-2.06 2.06-.94-2.06-.94L8.5 2.5l-.94 2.06-2.06.94zm10 10l.94 2.06.94-2.06 2.06-.94-2.06-.94-.94-2.06-.94 2.06-2.06.94z\"/><path d=\"M17.41 7.96l-1.37-1.37c-.4-.4-.92-.59-1.43-.59-.52 0-1.04.2-1.43.59L10.3 9.45l-7.72 7.72c-.78.78-.78 2.05 0 2.83L4 21.41c.39.39.9.59 1.41.59.51 0 1.02-.2 1.41-.59l7.78-7.78 2.81-2.81c.8-.78.8-2.07 0-2.86zM5.41 20L4 18.59l7.72-7.72 1.47 1.35L5.41 20z\"/>\n",
              "  </svg>\n",
              "      </button>\n",
              "      \n",
              "  <style>\n",
              "    .colab-df-container {\n",
              "      display:flex;\n",
              "      flex-wrap:wrap;\n",
              "      gap: 12px;\n",
              "    }\n",
              "\n",
              "    .colab-df-convert {\n",
              "      background-color: #E8F0FE;\n",
              "      border: none;\n",
              "      border-radius: 50%;\n",
              "      cursor: pointer;\n",
              "      display: none;\n",
              "      fill: #1967D2;\n",
              "      height: 32px;\n",
              "      padding: 0 0 0 0;\n",
              "      width: 32px;\n",
              "    }\n",
              "\n",
              "    .colab-df-convert:hover {\n",
              "      background-color: #E2EBFA;\n",
              "      box-shadow: 0px 1px 2px rgba(60, 64, 67, 0.3), 0px 1px 3px 1px rgba(60, 64, 67, 0.15);\n",
              "      fill: #174EA6;\n",
              "    }\n",
              "\n",
              "    [theme=dark] .colab-df-convert {\n",
              "      background-color: #3B4455;\n",
              "      fill: #D2E3FC;\n",
              "    }\n",
              "\n",
              "    [theme=dark] .colab-df-convert:hover {\n",
              "      background-color: #434B5C;\n",
              "      box-shadow: 0px 1px 3px 1px rgba(0, 0, 0, 0.15);\n",
              "      filter: drop-shadow(0px 1px 2px rgba(0, 0, 0, 0.3));\n",
              "      fill: #FFFFFF;\n",
              "    }\n",
              "  </style>\n",
              "\n",
              "      <script>\n",
              "        const buttonEl =\n",
              "          document.querySelector('#df-c3a80c05-da4e-4ebd-a921-d87a5860b800 button.colab-df-convert');\n",
              "        buttonEl.style.display =\n",
              "          google.colab.kernel.accessAllowed ? 'block' : 'none';\n",
              "\n",
              "        async function convertToInteractive(key) {\n",
              "          const element = document.querySelector('#df-c3a80c05-da4e-4ebd-a921-d87a5860b800');\n",
              "          const dataTable =\n",
              "            await google.colab.kernel.invokeFunction('convertToInteractive',\n",
              "                                                     [key], {});\n",
              "          if (!dataTable) return;\n",
              "\n",
              "          const docLinkHtml = 'Like what you see? Visit the ' +\n",
              "            '<a target=\"_blank\" href=https://colab.research.google.com/notebooks/data_table.ipynb>data table notebook</a>'\n",
              "            + ' to learn more about interactive tables.';\n",
              "          element.innerHTML = '';\n",
              "          dataTable['output_type'] = 'display_data';\n",
              "          await google.colab.output.renderOutput(dataTable, element);\n",
              "          const docLink = document.createElement('div');\n",
              "          docLink.innerHTML = docLinkHtml;\n",
              "          element.appendChild(docLink);\n",
              "        }\n",
              "      </script>\n",
              "    </div>\n",
              "  </div>\n",
              "  "
            ]
          },
          "metadata": {},
          "execution_count": 20
        }
      ]
    },
    {
      "cell_type": "markdown",
      "source": [
        "* Realizamos algunas agregaciones para conocer más sobre el contenido de los datos"
      ],
      "metadata": {
        "id": "O70lNSop1HLT"
      }
    },
    {
      "cell_type": "code",
      "source": [
        "#verificar los análisis estadísticos de todas la columnas del dataframe\n",
        "#Nos dice que hay 708 productos y 134 marcas de tienda distribuidos en 255516 filas\n",
        "#el producto y marca de tienda que mas se repiten son REFRESCO y WAL-MART\n",
        "df.describe(include = \"all\")"
      ],
      "metadata": {
        "colab": {
          "base_uri": "https://localhost:8080/",
          "height": 528
        },
        "id": "6s7LWkP4Vk5j",
        "outputId": "2df0b8ba-12d2-43fb-b681-dcd8adbd9790"
      },
      "execution_count": 17,
      "outputs": [
        {
          "output_type": "execute_result",
          "data": {
            "text/plain": [
              "        producto  presentacion   marca     categoria    grupo         precio  \\\n",
              "count     255516        255516  255516        255516   255516  255516.000000   \n",
              "unique       708          2768     807            40        9            NaN   \n",
              "top     REFRESCO  1 KG. GRANEL     S/M  MEDICAMENTOS  BASICOS            NaN   \n",
              "freq        5338          3573   84827         54836   123377            NaN   \n",
              "mean         NaN           NaN     NaN           NaN      NaN     632.072448   \n",
              "std          NaN           NaN     NaN           NaN      NaN    2349.578727   \n",
              "min          NaN           NaN     NaN           NaN      NaN       1.300000   \n",
              "25%          NaN           NaN     NaN           NaN      NaN      29.500000   \n",
              "50%          NaN           NaN     NaN           NaN      NaN      63.000000   \n",
              "75%          NaN           NaN     NaN           NaN      NaN     315.600000   \n",
              "max          NaN           NaN     NaN           NaN      NaN   67149.000000   \n",
              "\n",
              "             fecha marca_tienda                            tipo_tienda  \\\n",
              "count       255516       255516                                 255516   \n",
              "unique           5          134                                     13   \n",
              "top     2022-12-27     WAL-MART  SUPERMERCADO / TIENDA DE AUTOSERVICIO   \n",
              "freq         59334        41517                                 205627   \n",
              "mean           NaN          NaN                                    NaN   \n",
              "std            NaN          NaN                                    NaN   \n",
              "min            NaN          NaN                                    NaN   \n",
              "25%            NaN          NaN                                    NaN   \n",
              "50%            NaN          NaN                                    NaN   \n",
              "75%            NaN          NaN                                    NaN   \n",
              "max            NaN          NaN                                    NaN   \n",
              "\n",
              "       nombre_tienda                                          direccion  \\\n",
              "count         255516                                             255516   \n",
              "unique          1208                                               1266   \n",
              "top         WAL MART  REVOLUCION 780, ENTRE RUBENS Y HOLBEIN, COL. M...   \n",
              "freq            2371                                               1464   \n",
              "mean             NaN                                                NaN   \n",
              "std              NaN                                                NaN   \n",
              "min              NaN                                                NaN   \n",
              "25%              NaN                                                NaN   \n",
              "50%              NaN                                                NaN   \n",
              "75%              NaN                                                NaN   \n",
              "max              NaN                                                NaN   \n",
              "\n",
              "                  estado municipio        latitud       longitud      CP  \n",
              "count             255516    255516  255516.000000  255516.000000  255516  \n",
              "unique                29        67            NaN            NaN     509  \n",
              "top     CIUDAD DE MÉXICO      LEÓN            NaN            NaN   98600  \n",
              "freq               56128     13850            NaN            NaN    5581  \n",
              "mean                 NaN       NaN      20.881830     -99.508514     NaN  \n",
              "std                  NaN       NaN       2.936894       4.970139     NaN  \n",
              "min                  NaN       NaN      16.736944    -117.041677     NaN  \n",
              "25%                  NaN       NaN      19.345444    -101.647188     NaN  \n",
              "50%                  NaN       NaN      19.614073     -99.199154     NaN  \n",
              "75%                  NaN       NaN      21.153407     -99.005579     NaN  \n",
              "max                  NaN       NaN      32.535127     -86.824104     NaN  "
            ],
            "text/html": [
              "\n",
              "  <div id=\"df-d22e1c0f-8900-456f-b75d-dae2f246e31e\">\n",
              "    <div class=\"colab-df-container\">\n",
              "      <div>\n",
              "<style scoped>\n",
              "    .dataframe tbody tr th:only-of-type {\n",
              "        vertical-align: middle;\n",
              "    }\n",
              "\n",
              "    .dataframe tbody tr th {\n",
              "        vertical-align: top;\n",
              "    }\n",
              "\n",
              "    .dataframe thead th {\n",
              "        text-align: right;\n",
              "    }\n",
              "</style>\n",
              "<table border=\"1\" class=\"dataframe\">\n",
              "  <thead>\n",
              "    <tr style=\"text-align: right;\">\n",
              "      <th></th>\n",
              "      <th>producto</th>\n",
              "      <th>presentacion</th>\n",
              "      <th>marca</th>\n",
              "      <th>categoria</th>\n",
              "      <th>grupo</th>\n",
              "      <th>precio</th>\n",
              "      <th>fecha</th>\n",
              "      <th>marca_tienda</th>\n",
              "      <th>tipo_tienda</th>\n",
              "      <th>nombre_tienda</th>\n",
              "      <th>direccion</th>\n",
              "      <th>estado</th>\n",
              "      <th>municipio</th>\n",
              "      <th>latitud</th>\n",
              "      <th>longitud</th>\n",
              "      <th>CP</th>\n",
              "    </tr>\n",
              "  </thead>\n",
              "  <tbody>\n",
              "    <tr>\n",
              "      <th>count</th>\n",
              "      <td>255516</td>\n",
              "      <td>255516</td>\n",
              "      <td>255516</td>\n",
              "      <td>255516</td>\n",
              "      <td>255516</td>\n",
              "      <td>255516.000000</td>\n",
              "      <td>255516</td>\n",
              "      <td>255516</td>\n",
              "      <td>255516</td>\n",
              "      <td>255516</td>\n",
              "      <td>255516</td>\n",
              "      <td>255516</td>\n",
              "      <td>255516</td>\n",
              "      <td>255516.000000</td>\n",
              "      <td>255516.000000</td>\n",
              "      <td>255516</td>\n",
              "    </tr>\n",
              "    <tr>\n",
              "      <th>unique</th>\n",
              "      <td>708</td>\n",
              "      <td>2768</td>\n",
              "      <td>807</td>\n",
              "      <td>40</td>\n",
              "      <td>9</td>\n",
              "      <td>NaN</td>\n",
              "      <td>5</td>\n",
              "      <td>134</td>\n",
              "      <td>13</td>\n",
              "      <td>1208</td>\n",
              "      <td>1266</td>\n",
              "      <td>29</td>\n",
              "      <td>67</td>\n",
              "      <td>NaN</td>\n",
              "      <td>NaN</td>\n",
              "      <td>509</td>\n",
              "    </tr>\n",
              "    <tr>\n",
              "      <th>top</th>\n",
              "      <td>REFRESCO</td>\n",
              "      <td>1 KG. GRANEL</td>\n",
              "      <td>S/M</td>\n",
              "      <td>MEDICAMENTOS</td>\n",
              "      <td>BASICOS</td>\n",
              "      <td>NaN</td>\n",
              "      <td>2022-12-27</td>\n",
              "      <td>WAL-MART</td>\n",
              "      <td>SUPERMERCADO / TIENDA DE AUTOSERVICIO</td>\n",
              "      <td>WAL MART</td>\n",
              "      <td>REVOLUCION 780, ENTRE RUBENS Y HOLBEIN, COL. M...</td>\n",
              "      <td>CIUDAD DE MÉXICO</td>\n",
              "      <td>LEÓN</td>\n",
              "      <td>NaN</td>\n",
              "      <td>NaN</td>\n",
              "      <td>98600</td>\n",
              "    </tr>\n",
              "    <tr>\n",
              "      <th>freq</th>\n",
              "      <td>5338</td>\n",
              "      <td>3573</td>\n",
              "      <td>84827</td>\n",
              "      <td>54836</td>\n",
              "      <td>123377</td>\n",
              "      <td>NaN</td>\n",
              "      <td>59334</td>\n",
              "      <td>41517</td>\n",
              "      <td>205627</td>\n",
              "      <td>2371</td>\n",
              "      <td>1464</td>\n",
              "      <td>56128</td>\n",
              "      <td>13850</td>\n",
              "      <td>NaN</td>\n",
              "      <td>NaN</td>\n",
              "      <td>5581</td>\n",
              "    </tr>\n",
              "    <tr>\n",
              "      <th>mean</th>\n",
              "      <td>NaN</td>\n",
              "      <td>NaN</td>\n",
              "      <td>NaN</td>\n",
              "      <td>NaN</td>\n",
              "      <td>NaN</td>\n",
              "      <td>632.072448</td>\n",
              "      <td>NaN</td>\n",
              "      <td>NaN</td>\n",
              "      <td>NaN</td>\n",
              "      <td>NaN</td>\n",
              "      <td>NaN</td>\n",
              "      <td>NaN</td>\n",
              "      <td>NaN</td>\n",
              "      <td>20.881830</td>\n",
              "      <td>-99.508514</td>\n",
              "      <td>NaN</td>\n",
              "    </tr>\n",
              "    <tr>\n",
              "      <th>std</th>\n",
              "      <td>NaN</td>\n",
              "      <td>NaN</td>\n",
              "      <td>NaN</td>\n",
              "      <td>NaN</td>\n",
              "      <td>NaN</td>\n",
              "      <td>2349.578727</td>\n",
              "      <td>NaN</td>\n",
              "      <td>NaN</td>\n",
              "      <td>NaN</td>\n",
              "      <td>NaN</td>\n",
              "      <td>NaN</td>\n",
              "      <td>NaN</td>\n",
              "      <td>NaN</td>\n",
              "      <td>2.936894</td>\n",
              "      <td>4.970139</td>\n",
              "      <td>NaN</td>\n",
              "    </tr>\n",
              "    <tr>\n",
              "      <th>min</th>\n",
              "      <td>NaN</td>\n",
              "      <td>NaN</td>\n",
              "      <td>NaN</td>\n",
              "      <td>NaN</td>\n",
              "      <td>NaN</td>\n",
              "      <td>1.300000</td>\n",
              "      <td>NaN</td>\n",
              "      <td>NaN</td>\n",
              "      <td>NaN</td>\n",
              "      <td>NaN</td>\n",
              "      <td>NaN</td>\n",
              "      <td>NaN</td>\n",
              "      <td>NaN</td>\n",
              "      <td>16.736944</td>\n",
              "      <td>-117.041677</td>\n",
              "      <td>NaN</td>\n",
              "    </tr>\n",
              "    <tr>\n",
              "      <th>25%</th>\n",
              "      <td>NaN</td>\n",
              "      <td>NaN</td>\n",
              "      <td>NaN</td>\n",
              "      <td>NaN</td>\n",
              "      <td>NaN</td>\n",
              "      <td>29.500000</td>\n",
              "      <td>NaN</td>\n",
              "      <td>NaN</td>\n",
              "      <td>NaN</td>\n",
              "      <td>NaN</td>\n",
              "      <td>NaN</td>\n",
              "      <td>NaN</td>\n",
              "      <td>NaN</td>\n",
              "      <td>19.345444</td>\n",
              "      <td>-101.647188</td>\n",
              "      <td>NaN</td>\n",
              "    </tr>\n",
              "    <tr>\n",
              "      <th>50%</th>\n",
              "      <td>NaN</td>\n",
              "      <td>NaN</td>\n",
              "      <td>NaN</td>\n",
              "      <td>NaN</td>\n",
              "      <td>NaN</td>\n",
              "      <td>63.000000</td>\n",
              "      <td>NaN</td>\n",
              "      <td>NaN</td>\n",
              "      <td>NaN</td>\n",
              "      <td>NaN</td>\n",
              "      <td>NaN</td>\n",
              "      <td>NaN</td>\n",
              "      <td>NaN</td>\n",
              "      <td>19.614073</td>\n",
              "      <td>-99.199154</td>\n",
              "      <td>NaN</td>\n",
              "    </tr>\n",
              "    <tr>\n",
              "      <th>75%</th>\n",
              "      <td>NaN</td>\n",
              "      <td>NaN</td>\n",
              "      <td>NaN</td>\n",
              "      <td>NaN</td>\n",
              "      <td>NaN</td>\n",
              "      <td>315.600000</td>\n",
              "      <td>NaN</td>\n",
              "      <td>NaN</td>\n",
              "      <td>NaN</td>\n",
              "      <td>NaN</td>\n",
              "      <td>NaN</td>\n",
              "      <td>NaN</td>\n",
              "      <td>NaN</td>\n",
              "      <td>21.153407</td>\n",
              "      <td>-99.005579</td>\n",
              "      <td>NaN</td>\n",
              "    </tr>\n",
              "    <tr>\n",
              "      <th>max</th>\n",
              "      <td>NaN</td>\n",
              "      <td>NaN</td>\n",
              "      <td>NaN</td>\n",
              "      <td>NaN</td>\n",
              "      <td>NaN</td>\n",
              "      <td>67149.000000</td>\n",
              "      <td>NaN</td>\n",
              "      <td>NaN</td>\n",
              "      <td>NaN</td>\n",
              "      <td>NaN</td>\n",
              "      <td>NaN</td>\n",
              "      <td>NaN</td>\n",
              "      <td>NaN</td>\n",
              "      <td>32.535127</td>\n",
              "      <td>-86.824104</td>\n",
              "      <td>NaN</td>\n",
              "    </tr>\n",
              "  </tbody>\n",
              "</table>\n",
              "</div>\n",
              "      <button class=\"colab-df-convert\" onclick=\"convertToInteractive('df-d22e1c0f-8900-456f-b75d-dae2f246e31e')\"\n",
              "              title=\"Convert this dataframe to an interactive table.\"\n",
              "              style=\"display:none;\">\n",
              "        \n",
              "  <svg xmlns=\"http://www.w3.org/2000/svg\" height=\"24px\"viewBox=\"0 0 24 24\"\n",
              "       width=\"24px\">\n",
              "    <path d=\"M0 0h24v24H0V0z\" fill=\"none\"/>\n",
              "    <path d=\"M18.56 5.44l.94 2.06.94-2.06 2.06-.94-2.06-.94-.94-2.06-.94 2.06-2.06.94zm-11 1L8.5 8.5l.94-2.06 2.06-.94-2.06-.94L8.5 2.5l-.94 2.06-2.06.94zm10 10l.94 2.06.94-2.06 2.06-.94-2.06-.94-.94-2.06-.94 2.06-2.06.94z\"/><path d=\"M17.41 7.96l-1.37-1.37c-.4-.4-.92-.59-1.43-.59-.52 0-1.04.2-1.43.59L10.3 9.45l-7.72 7.72c-.78.78-.78 2.05 0 2.83L4 21.41c.39.39.9.59 1.41.59.51 0 1.02-.2 1.41-.59l7.78-7.78 2.81-2.81c.8-.78.8-2.07 0-2.86zM5.41 20L4 18.59l7.72-7.72 1.47 1.35L5.41 20z\"/>\n",
              "  </svg>\n",
              "      </button>\n",
              "      \n",
              "  <style>\n",
              "    .colab-df-container {\n",
              "      display:flex;\n",
              "      flex-wrap:wrap;\n",
              "      gap: 12px;\n",
              "    }\n",
              "\n",
              "    .colab-df-convert {\n",
              "      background-color: #E8F0FE;\n",
              "      border: none;\n",
              "      border-radius: 50%;\n",
              "      cursor: pointer;\n",
              "      display: none;\n",
              "      fill: #1967D2;\n",
              "      height: 32px;\n",
              "      padding: 0 0 0 0;\n",
              "      width: 32px;\n",
              "    }\n",
              "\n",
              "    .colab-df-convert:hover {\n",
              "      background-color: #E2EBFA;\n",
              "      box-shadow: 0px 1px 2px rgba(60, 64, 67, 0.3), 0px 1px 3px 1px rgba(60, 64, 67, 0.15);\n",
              "      fill: #174EA6;\n",
              "    }\n",
              "\n",
              "    [theme=dark] .colab-df-convert {\n",
              "      background-color: #3B4455;\n",
              "      fill: #D2E3FC;\n",
              "    }\n",
              "\n",
              "    [theme=dark] .colab-df-convert:hover {\n",
              "      background-color: #434B5C;\n",
              "      box-shadow: 0px 1px 3px 1px rgba(0, 0, 0, 0.15);\n",
              "      filter: drop-shadow(0px 1px 2px rgba(0, 0, 0, 0.3));\n",
              "      fill: #FFFFFF;\n",
              "    }\n",
              "  </style>\n",
              "\n",
              "      <script>\n",
              "        const buttonEl =\n",
              "          document.querySelector('#df-d22e1c0f-8900-456f-b75d-dae2f246e31e button.colab-df-convert');\n",
              "        buttonEl.style.display =\n",
              "          google.colab.kernel.accessAllowed ? 'block' : 'none';\n",
              "\n",
              "        async function convertToInteractive(key) {\n",
              "          const element = document.querySelector('#df-d22e1c0f-8900-456f-b75d-dae2f246e31e');\n",
              "          const dataTable =\n",
              "            await google.colab.kernel.invokeFunction('convertToInteractive',\n",
              "                                                     [key], {});\n",
              "          if (!dataTable) return;\n",
              "\n",
              "          const docLinkHtml = 'Like what you see? Visit the ' +\n",
              "            '<a target=\"_blank\" href=https://colab.research.google.com/notebooks/data_table.ipynb>data table notebook</a>'\n",
              "            + ' to learn more about interactive tables.';\n",
              "          element.innerHTML = '';\n",
              "          dataTable['output_type'] = 'display_data';\n",
              "          await google.colab.output.renderOutput(dataTable, element);\n",
              "          const docLink = document.createElement('div');\n",
              "          docLink.innerHTML = docLinkHtml;\n",
              "          element.appendChild(docLink);\n",
              "        }\n",
              "      </script>\n",
              "    </div>\n",
              "  </div>\n",
              "  "
            ]
          },
          "metadata": {},
          "execution_count": 17
        }
      ]
    },
    {
      "cell_type": "markdown",
      "source": [
        "* Investigamos sobre el contenido de la columna producto"
      ],
      "metadata": {
        "id": "3fy0ff6u64Qu"
      }
    },
    {
      "cell_type": "code",
      "source": [
        "#verificar los análisis estadísticos de la columna producto\n",
        "df['producto'].describe()"
      ],
      "metadata": {
        "colab": {
          "base_uri": "https://localhost:8080/"
        },
        "id": "gec6-80gVlj4",
        "outputId": "11fe29f3-c45a-4ec4-ce72-57585ec414fe"
      },
      "execution_count": 18,
      "outputs": [
        {
          "output_type": "execute_result",
          "data": {
            "text/plain": [
              "count       255516\n",
              "unique         708\n",
              "top       REFRESCO\n",
              "freq          5338\n",
              "Name: producto, dtype: object"
            ]
          },
          "metadata": {},
          "execution_count": 18
        }
      ]
    },
    {
      "cell_type": "code",
      "source": [
        "#Se realiza un conteo de los productos que se repiten mas\n",
        "df.groupby(\"producto\").size().sort_values(ascending=False)"
      ],
      "metadata": {
        "colab": {
          "base_uri": "https://localhost:8080/"
        },
        "id": "hN2SILM7Vnax",
        "outputId": "94b239bf-a194-4f70-af8b-8ac1aef2baaf"
      },
      "execution_count": 19,
      "outputs": [
        {
          "output_type": "execute_result",
          "data": {
            "text/plain": [
              "producto\n",
              "REFRESCO           5338\n",
              "VARIOS             5264\n",
              "JUEGOS DE MESA     4324\n",
              "TOALLA FEMENINA    4083\n",
              "PASTA PARA SOPA    3947\n",
              "                   ... \n",
              "HALCION               1\n",
              "CARPA                 1\n",
              "JAIBON                1\n",
              "COMPETACT             1\n",
              "PARGO                 1\n",
              "Length: 708, dtype: int64"
            ]
          },
          "metadata": {},
          "execution_count": 19
        }
      ]
    },
    {
      "cell_type": "markdown",
      "source": [
        "Realizamos agregaciones para conocer más acerca de los valores en las columnas del dataset\n",
        "\n"
      ],
      "metadata": {
        "id": "8eKjMUVK3Ulc"
      }
    },
    {
      "cell_type": "code",
      "source": [
        "# Encontramos cuantos valores únicos hay en otras columnas de interés. \n",
        "# Así observamos que, por ejemplo, el dataset contiene 40 categorías de productos,\n",
        "# hay 807 marcas de productos, etc.\n",
        "\n",
        "df.nunique()"
      ],
      "metadata": {
        "colab": {
          "base_uri": "https://localhost:8080/"
        },
        "id": "2Sr_ljZN3IW_",
        "outputId": "2c138797-1a47-43fa-b5e5-c34e3c902cb1"
      },
      "execution_count": 33,
      "outputs": [
        {
          "output_type": "execute_result",
          "data": {
            "text/plain": [
              "producto          708\n",
              "presentacion     2768\n",
              "marca             807\n",
              "categoria          40\n",
              "grupo               9\n",
              "precio           9670\n",
              "fecha               5\n",
              "marca_tienda      134\n",
              "tipo_tienda        13\n",
              "nombre_tienda    1208\n",
              "direccion        1266\n",
              "estado             29\n",
              "municipio          67\n",
              "latitud          1153\n",
              "longitud         1152\n",
              "CP                509\n",
              "dtype: int64"
            ]
          },
          "metadata": {},
          "execution_count": 33
        }
      ]
    },
    {
      "cell_type": "markdown",
      "source": [
        "Realizamos agregaciones para conocer más acerca de las categorías de productos"
      ],
      "metadata": {
        "id": "2KFEBu5Z1sQd"
      }
    },
    {
      "cell_type": "code",
      "source": [
        "#Encontramos cuantos productos hay por categoría\n",
        "df['categoria'].value_counts()"
      ],
      "metadata": {
        "colab": {
          "base_uri": "https://localhost:8080/"
        },
        "id": "LirtH07S2fCX",
        "outputId": "9886eede-977d-456c-a688-8f4969a18df2"
      },
      "execution_count": 31,
      "outputs": [
        {
          "output_type": "execute_result",
          "data": {
            "text/plain": [
              "MEDICAMENTOS                          54836\n",
              "ARTS. DE ESPARCIMIENTO (JUGUETES)     23838\n",
              "ARTS. PARA EL CUIDADO PERSONAL        19570\n",
              "HORTALIZAS FRESCAS                    11264\n",
              "APARATOS ELECTRICOS                    9962\n",
              "REFRESCOS ENVASADOS                    9601\n",
              "ARTS. DE PAPEL P/HIGIENE PERSONAL      9451\n",
              "DETERGENTES Y PRODUCTOS SIMILARES      8949\n",
              "DERIVADOS DE LECHE                     8632\n",
              "GALLETAS PASTAS Y HARINAS DE TRIGO     8056\n",
              "FRUTAS FRESCAS                         7672\n",
              "CARNES FRIAS SECAS Y EMBUTIDOS         7511\n",
              "CONDIMENTOS                            6745\n",
              "CHOCOLATES Y GOLOSINAS                 6604\n",
              "LECHE PROCESADA                        6280\n",
              "FRUTAS Y LEGUMBRES PROCESADAS          5646\n",
              "PAN                                    4842\n",
              "APARATOS ELECTRONICOS                  4541\n",
              "PESCADOS Y MARISCOS EN CONSERVA        4149\n",
              "ARROZ Y CEREALES PREPARADOS            4027\n",
              "LEGUMBRES SECAS                        3908\n",
              "ACEITES Y GRASAS VEG. COMESTIBLES      3607\n",
              "CARNE Y VISCERAS DE RES                3316\n",
              "CARNE Y VISCERAS DE CERDO              2931\n",
              "HUEVO                                  2806\n",
              "TORTILLAS Y DERIVADOS DEL MAIZ         2768\n",
              "PRODUCTOS DE TEMPORADA (NAVIDEÑOS)     2481\n",
              "CARNE DE AVE                           2085\n",
              "AZUCAR                                 1994\n",
              "CAFE                                   1943\n",
              "VINOS Y LICORES                        1493\n",
              "CERVEZA                                1438\n",
              "PESCADOS Y MARISCOS                     719\n",
              "ACCESORIOS DOMESTICOS                   520\n",
              "UTENSILIOS DOMESTICOS                   367\n",
              "LECHE FRESCA                            316\n",
              "CIGARRILLOS                             248\n",
              "GRASAS ANIMALES COMESTIBLES             165\n",
              "ALIMENTOS COCINADOS F/CASA              151\n",
              "TE                                       84\n",
              "Name: categoria, dtype: int64"
            ]
          },
          "metadata": {},
          "execution_count": 31
        }
      ]
    },
    {
      "cell_type": "markdown",
      "source": [
        "De acuerdo con el conocimiento obtenido sobre el contenido del dataset al parecer si es posible encontrar los precios menores de productos y categorías usando agregaciones, pero se requiere crear un dato adicional que nos permita homogenizar los precios por unidad de medida, por ejemplo, precio por gramo o kilogramo, porque existen diferentes presentaciones de un mismo producto.\n",
        "También técnicamente es posible proporcionar las tiendas cercanas a una ubicación que ofrezcan cierto producto con menor precio porque los datos muestran precisión, sin embargo, la cantidad de códigos postales (509) es muy pequeña respecto al total de códigos postales en México (30 mil aproximadamente), por lo que estos datos al parecer son muestrales."
      ],
      "metadata": {
        "id": "tLGF7LZG7bFO"
      }
    },
    {
      "cell_type": "markdown",
      "source": [
        "# POSTWORK 6 - USO DE APIs"
      ],
      "metadata": {
        "id": "u7kQfZT00Bqn"
      }
    },
    {
      "cell_type": "markdown",
      "source": [
        "En este Postwork buscamos un API que complementara nuestro dataset original. Aunque PROFECO si mantiene publicada un API sobre \"Quién es quien en los precios\" y está en operación, al solicitarle datos regresa una estructura vacía y no encontramos documentación acerca de los parámetros apropiados para realizar las solicitudes.\n",
        "\n",
        "Buscamos un API que estuviera relacionada con nuestro dataset original y encontramos interesante explorar el [API de COPOMEX](https://api.copomex.com/documentacion/inicio) (Código Postal Mexicano), dedicada a la ubicación, búsqueda y manejo de códigos postales en México.\n",
        "\n",
        "Creamos una cuenta, exploramos la documentación y realizamos peticiones de prueba con éxito.\n",
        "\n",
        "[Ver Jupyter Notebook](https://github.com/adavals/bedu-datascience-f2m2/blob/main/postwork6.ipynb)\n",
        "\n"
      ],
      "metadata": {
        "id": "5RT39_9Z0emi"
      }
    },
    {
      "cell_type": "markdown",
      "source": [
        "# POSTWORK 7"
      ],
      "metadata": {
        "id": "4UAPUX-B0EnH"
      }
    },
    {
      "cell_type": "markdown",
      "source": [
        "Para el correcto análisis y explotación de la información la mayoría de las veces es necesario aplicar algunas transformaciones que incluyen el filtrado para conservar únicamente la información objeto de nuestro estudio, la creación de columnas calculadas para un propósito específico, el casting de columnas con tipos de datos incorrectos y el agrupamiento y reordenamiento de la información que en ocasiones derivan en nuevos datasets."
      ],
      "metadata": {
        "id": "IQgY3KKR1JWI"
      }
    },
    {
      "cell_type": "markdown",
      "source": [
        "* Tras el análisis exploratorio de datos nos percatamos de que las fechas no se encuentran en el formato correcto, por lo que es necesario aplicar un casting."
      ],
      "metadata": {
        "id": "BfbjKlgOBqD5"
      }
    },
    {
      "cell_type": "code",
      "source": [
        "#Casting de fechas a datetime64[ns]\n",
        "df['fecha']=pd.to_datetime(df['fecha'], unit='ns')"
      ],
      "metadata": {
        "id": "wuXJwudACDf0"
      },
      "execution_count": null,
      "outputs": []
    },
    {
      "cell_type": "code",
      "source": [
        "#Extraer codigo postal de la columna direccion\n",
        "df['CP'] = df['direccion'].str[-5:]\n",
        "df.head(2)\n"
      ],
      "metadata": {
        "colab": {
          "base_uri": "https://localhost:8080/",
          "height": 312
        },
        "id": "2njTlQCS0Wuk",
        "outputId": "b3eca8f8-2213-4cb7-b454-b8ff576a6d99"
      },
      "execution_count": 21,
      "outputs": [
        {
          "output_type": "execute_result",
          "data": {
            "text/plain": [
              "       producto             presentacion  marca  \\\n",
              "indice                                            \n",
              "1        ACEITE    BOTELLA 1 LT. VEGETAL  1-2-3   \n",
              "2        ACEITE  BOTELLA 850 ML. VEGETAL    AVE   \n",
              "\n",
              "                                categoria    grupo  precio       fecha  \\\n",
              "indice                                                                   \n",
              "1       ACEITES Y GRASAS VEG. COMESTIBLES  BASICOS    56.0  2022-12-26   \n",
              "2       ACEITES Y GRASAS VEG. COMESTIBLES    PACIC    43.9  2022-12-26   \n",
              "\n",
              "        marca_tienda                            tipo_tienda  \\\n",
              "indice                                                        \n",
              "1       MEGA SORIANA  SUPERMERCADO / TIENDA DE AUTOSERVICIO   \n",
              "2       MEGA SORIANA  SUPERMERCADO / TIENDA DE AUTOSERVICIO   \n",
              "\n",
              "                               nombre_tienda  \\\n",
              "indice                                         \n",
              "1       MEGA SORIANA SUCURSAL AGUASCALIENTES   \n",
              "2       MEGA SORIANA SUCURSAL AGUASCALIENTES   \n",
              "\n",
              "                                                direccion          estado  \\\n",
              "indice                                                                      \n",
              "1       AGUASCALIENTES NTE. 802, ESQ. BLVD. A ZACATECA...  AGUASCALIENTES   \n",
              "2       AGUASCALIENTES NTE. 802, ESQ. BLVD. A ZACATECA...  AGUASCALIENTES   \n",
              "\n",
              "             municipio    latitud    longitud     CP  \n",
              "indice                                                \n",
              "1       AGUASCALIENTES  21.916001 -102.290779  20116  \n",
              "2       AGUASCALIENTES  21.916001 -102.290779  20116  "
            ],
            "text/html": [
              "\n",
              "  <div id=\"df-1e064f92-46ba-4da7-b253-05567bf1752e\">\n",
              "    <div class=\"colab-df-container\">\n",
              "      <div>\n",
              "<style scoped>\n",
              "    .dataframe tbody tr th:only-of-type {\n",
              "        vertical-align: middle;\n",
              "    }\n",
              "\n",
              "    .dataframe tbody tr th {\n",
              "        vertical-align: top;\n",
              "    }\n",
              "\n",
              "    .dataframe thead th {\n",
              "        text-align: right;\n",
              "    }\n",
              "</style>\n",
              "<table border=\"1\" class=\"dataframe\">\n",
              "  <thead>\n",
              "    <tr style=\"text-align: right;\">\n",
              "      <th></th>\n",
              "      <th>producto</th>\n",
              "      <th>presentacion</th>\n",
              "      <th>marca</th>\n",
              "      <th>categoria</th>\n",
              "      <th>grupo</th>\n",
              "      <th>precio</th>\n",
              "      <th>fecha</th>\n",
              "      <th>marca_tienda</th>\n",
              "      <th>tipo_tienda</th>\n",
              "      <th>nombre_tienda</th>\n",
              "      <th>direccion</th>\n",
              "      <th>estado</th>\n",
              "      <th>municipio</th>\n",
              "      <th>latitud</th>\n",
              "      <th>longitud</th>\n",
              "      <th>CP</th>\n",
              "    </tr>\n",
              "    <tr>\n",
              "      <th>indice</th>\n",
              "      <th></th>\n",
              "      <th></th>\n",
              "      <th></th>\n",
              "      <th></th>\n",
              "      <th></th>\n",
              "      <th></th>\n",
              "      <th></th>\n",
              "      <th></th>\n",
              "      <th></th>\n",
              "      <th></th>\n",
              "      <th></th>\n",
              "      <th></th>\n",
              "      <th></th>\n",
              "      <th></th>\n",
              "      <th></th>\n",
              "      <th></th>\n",
              "    </tr>\n",
              "  </thead>\n",
              "  <tbody>\n",
              "    <tr>\n",
              "      <th>1</th>\n",
              "      <td>ACEITE</td>\n",
              "      <td>BOTELLA 1 LT. VEGETAL</td>\n",
              "      <td>1-2-3</td>\n",
              "      <td>ACEITES Y GRASAS VEG. COMESTIBLES</td>\n",
              "      <td>BASICOS</td>\n",
              "      <td>56.0</td>\n",
              "      <td>2022-12-26</td>\n",
              "      <td>MEGA SORIANA</td>\n",
              "      <td>SUPERMERCADO / TIENDA DE AUTOSERVICIO</td>\n",
              "      <td>MEGA SORIANA SUCURSAL AGUASCALIENTES</td>\n",
              "      <td>AGUASCALIENTES NTE. 802, ESQ. BLVD. A ZACATECA...</td>\n",
              "      <td>AGUASCALIENTES</td>\n",
              "      <td>AGUASCALIENTES</td>\n",
              "      <td>21.916001</td>\n",
              "      <td>-102.290779</td>\n",
              "      <td>20116</td>\n",
              "    </tr>\n",
              "    <tr>\n",
              "      <th>2</th>\n",
              "      <td>ACEITE</td>\n",
              "      <td>BOTELLA 850 ML. VEGETAL</td>\n",
              "      <td>AVE</td>\n",
              "      <td>ACEITES Y GRASAS VEG. COMESTIBLES</td>\n",
              "      <td>PACIC</td>\n",
              "      <td>43.9</td>\n",
              "      <td>2022-12-26</td>\n",
              "      <td>MEGA SORIANA</td>\n",
              "      <td>SUPERMERCADO / TIENDA DE AUTOSERVICIO</td>\n",
              "      <td>MEGA SORIANA SUCURSAL AGUASCALIENTES</td>\n",
              "      <td>AGUASCALIENTES NTE. 802, ESQ. BLVD. A ZACATECA...</td>\n",
              "      <td>AGUASCALIENTES</td>\n",
              "      <td>AGUASCALIENTES</td>\n",
              "      <td>21.916001</td>\n",
              "      <td>-102.290779</td>\n",
              "      <td>20116</td>\n",
              "    </tr>\n",
              "  </tbody>\n",
              "</table>\n",
              "</div>\n",
              "      <button class=\"colab-df-convert\" onclick=\"convertToInteractive('df-1e064f92-46ba-4da7-b253-05567bf1752e')\"\n",
              "              title=\"Convert this dataframe to an interactive table.\"\n",
              "              style=\"display:none;\">\n",
              "        \n",
              "  <svg xmlns=\"http://www.w3.org/2000/svg\" height=\"24px\"viewBox=\"0 0 24 24\"\n",
              "       width=\"24px\">\n",
              "    <path d=\"M0 0h24v24H0V0z\" fill=\"none\"/>\n",
              "    <path d=\"M18.56 5.44l.94 2.06.94-2.06 2.06-.94-2.06-.94-.94-2.06-.94 2.06-2.06.94zm-11 1L8.5 8.5l.94-2.06 2.06-.94-2.06-.94L8.5 2.5l-.94 2.06-2.06.94zm10 10l.94 2.06.94-2.06 2.06-.94-2.06-.94-.94-2.06-.94 2.06-2.06.94z\"/><path d=\"M17.41 7.96l-1.37-1.37c-.4-.4-.92-.59-1.43-.59-.52 0-1.04.2-1.43.59L10.3 9.45l-7.72 7.72c-.78.78-.78 2.05 0 2.83L4 21.41c.39.39.9.59 1.41.59.51 0 1.02-.2 1.41-.59l7.78-7.78 2.81-2.81c.8-.78.8-2.07 0-2.86zM5.41 20L4 18.59l7.72-7.72 1.47 1.35L5.41 20z\"/>\n",
              "  </svg>\n",
              "      </button>\n",
              "      \n",
              "  <style>\n",
              "    .colab-df-container {\n",
              "      display:flex;\n",
              "      flex-wrap:wrap;\n",
              "      gap: 12px;\n",
              "    }\n",
              "\n",
              "    .colab-df-convert {\n",
              "      background-color: #E8F0FE;\n",
              "      border: none;\n",
              "      border-radius: 50%;\n",
              "      cursor: pointer;\n",
              "      display: none;\n",
              "      fill: #1967D2;\n",
              "      height: 32px;\n",
              "      padding: 0 0 0 0;\n",
              "      width: 32px;\n",
              "    }\n",
              "\n",
              "    .colab-df-convert:hover {\n",
              "      background-color: #E2EBFA;\n",
              "      box-shadow: 0px 1px 2px rgba(60, 64, 67, 0.3), 0px 1px 3px 1px rgba(60, 64, 67, 0.15);\n",
              "      fill: #174EA6;\n",
              "    }\n",
              "\n",
              "    [theme=dark] .colab-df-convert {\n",
              "      background-color: #3B4455;\n",
              "      fill: #D2E3FC;\n",
              "    }\n",
              "\n",
              "    [theme=dark] .colab-df-convert:hover {\n",
              "      background-color: #434B5C;\n",
              "      box-shadow: 0px 1px 3px 1px rgba(0, 0, 0, 0.15);\n",
              "      filter: drop-shadow(0px 1px 2px rgba(0, 0, 0, 0.3));\n",
              "      fill: #FFFFFF;\n",
              "    }\n",
              "  </style>\n",
              "\n",
              "      <script>\n",
              "        const buttonEl =\n",
              "          document.querySelector('#df-1e064f92-46ba-4da7-b253-05567bf1752e button.colab-df-convert');\n",
              "        buttonEl.style.display =\n",
              "          google.colab.kernel.accessAllowed ? 'block' : 'none';\n",
              "\n",
              "        async function convertToInteractive(key) {\n",
              "          const element = document.querySelector('#df-1e064f92-46ba-4da7-b253-05567bf1752e');\n",
              "          const dataTable =\n",
              "            await google.colab.kernel.invokeFunction('convertToInteractive',\n",
              "                                                     [key], {});\n",
              "          if (!dataTable) return;\n",
              "\n",
              "          const docLinkHtml = 'Like what you see? Visit the ' +\n",
              "            '<a target=\"_blank\" href=https://colab.research.google.com/notebooks/data_table.ipynb>data table notebook</a>'\n",
              "            + ' to learn more about interactive tables.';\n",
              "          element.innerHTML = '';\n",
              "          dataTable['output_type'] = 'display_data';\n",
              "          await google.colab.output.renderOutput(dataTable, element);\n",
              "          const docLink = document.createElement('div');\n",
              "          docLink.innerHTML = docLinkHtml;\n",
              "          element.appendChild(docLink);\n",
              "        }\n",
              "      </script>\n",
              "    </div>\n",
              "  </div>\n",
              "  "
            ]
          },
          "metadata": {},
          "execution_count": 21
        }
      ]
    },
    {
      "cell_type": "markdown",
      "source": [
        "* Por cuestiones prácticas nos concentraremos en los productos del catálogo PACIC (Paquete Contra la Inflación y la Carestía) que se enfoca en productos de la canasta básica."
      ],
      "metadata": {
        "id": "MAOlBiH2FgE8"
      }
    },
    {
      "cell_type": "code",
      "source": [
        "grupo_pacic = df['grupo']=='PACIC'\n",
        "df=df[grupo_pacic]"
      ],
      "metadata": {
        "id": "qhoypWaSNtPa"
      },
      "execution_count": null,
      "outputs": []
    },
    {
      "cell_type": "code",
      "source": [
        "uom_std=[]\n",
        "for t in df['presentacion'].split():\n",
        "    uom_std.append(float(t))\n",
        "#[int(temp)for temp in df['presentacion'].split() if temp.isdigit()]"
      ],
      "metadata": {
        "colab": {
          "base_uri": "https://localhost:8080/",
          "height": 339
        },
        "id": "I-h06UgZdECR",
        "outputId": "a6f21683-362e-402b-806b-a84f95af452b"
      },
      "execution_count": null,
      "outputs": [
        {
          "output_type": "error",
          "ename": "AttributeError",
          "evalue": "ignored",
          "traceback": [
            "\u001b[0;31m---------------------------------------------------------------------------\u001b[0m",
            "\u001b[0;31mAttributeError\u001b[0m                            Traceback (most recent call last)",
            "\u001b[0;32m<ipython-input-34-15537fa30ecd>\u001b[0m in \u001b[0;36m<module>\u001b[0;34m\u001b[0m\n\u001b[1;32m      1\u001b[0m \u001b[0muom_std\u001b[0m\u001b[0;34m=\u001b[0m\u001b[0;34m[\u001b[0m\u001b[0;34m]\u001b[0m\u001b[0;34m\u001b[0m\u001b[0;34m\u001b[0m\u001b[0m\n\u001b[0;32m----> 2\u001b[0;31m \u001b[0;32mfor\u001b[0m \u001b[0mt\u001b[0m \u001b[0;32min\u001b[0m \u001b[0mdf\u001b[0m\u001b[0;34m[\u001b[0m\u001b[0;34m'presentacion'\u001b[0m\u001b[0;34m]\u001b[0m\u001b[0;34m.\u001b[0m\u001b[0msplit\u001b[0m\u001b[0;34m(\u001b[0m\u001b[0;34m)\u001b[0m\u001b[0;34m:\u001b[0m\u001b[0;34m\u001b[0m\u001b[0;34m\u001b[0m\u001b[0m\n\u001b[0m\u001b[1;32m      3\u001b[0m     \u001b[0muom_std\u001b[0m\u001b[0;34m.\u001b[0m\u001b[0mappend\u001b[0m\u001b[0;34m(\u001b[0m\u001b[0mfloat\u001b[0m\u001b[0;34m(\u001b[0m\u001b[0mt\u001b[0m\u001b[0;34m)\u001b[0m\u001b[0;34m)\u001b[0m\u001b[0;34m\u001b[0m\u001b[0;34m\u001b[0m\u001b[0m\n\u001b[1;32m      4\u001b[0m \u001b[0;31m#[int(temp)for temp in df['presentacion'].split() if temp.isdigit()]\u001b[0m\u001b[0;34m\u001b[0m\u001b[0;34m\u001b[0m\u001b[0;34m\u001b[0m\u001b[0m\n",
            "\u001b[0;32m/usr/local/lib/python3.8/dist-packages/pandas/core/generic.py\u001b[0m in \u001b[0;36m__getattr__\u001b[0;34m(self, name)\u001b[0m\n\u001b[1;32m   5485\u001b[0m         ):\n\u001b[1;32m   5486\u001b[0m             \u001b[0;32mreturn\u001b[0m \u001b[0mself\u001b[0m\u001b[0;34m[\u001b[0m\u001b[0mname\u001b[0m\u001b[0;34m]\u001b[0m\u001b[0;34m\u001b[0m\u001b[0;34m\u001b[0m\u001b[0m\n\u001b[0;32m-> 5487\u001b[0;31m         \u001b[0;32mreturn\u001b[0m \u001b[0mobject\u001b[0m\u001b[0;34m.\u001b[0m\u001b[0m__getattribute__\u001b[0m\u001b[0;34m(\u001b[0m\u001b[0mself\u001b[0m\u001b[0;34m,\u001b[0m \u001b[0mname\u001b[0m\u001b[0;34m)\u001b[0m\u001b[0;34m\u001b[0m\u001b[0;34m\u001b[0m\u001b[0m\n\u001b[0m\u001b[1;32m   5488\u001b[0m \u001b[0;34m\u001b[0m\u001b[0m\n\u001b[1;32m   5489\u001b[0m     \u001b[0;32mdef\u001b[0m \u001b[0m__setattr__\u001b[0m\u001b[0;34m(\u001b[0m\u001b[0mself\u001b[0m\u001b[0;34m,\u001b[0m \u001b[0mname\u001b[0m\u001b[0;34m:\u001b[0m \u001b[0mstr\u001b[0m\u001b[0;34m,\u001b[0m \u001b[0mvalue\u001b[0m\u001b[0;34m)\u001b[0m \u001b[0;34m->\u001b[0m \u001b[0;32mNone\u001b[0m\u001b[0;34m:\u001b[0m\u001b[0;34m\u001b[0m\u001b[0;34m\u001b[0m\u001b[0m\n",
            "\u001b[0;31mAttributeError\u001b[0m: 'Series' object has no attribute 'split'"
          ]
        }
      ]
    },
    {
      "cell_type": "code",
      "source": [
        "df.shape\n",
        "df.head(3)"
      ],
      "metadata": {
        "colab": {
          "base_uri": "https://localhost:8080/",
          "height": 395
        },
        "id": "4uLCZkUGFrNh",
        "outputId": "395b5d15-a36b-4c16-cc6d-76e54f5a4c49"
      },
      "execution_count": null,
      "outputs": [
        {
          "output_type": "execute_result",
          "data": {
            "text/plain": [
              "       producto                        presentacion       marca  \\\n",
              "indice                                                            \n",
              "2        ACEITE             BOTELLA 850 ML. VEGETAL         AVE   \n",
              "29        ARROZ  BOLSA 900 GR. EXTRA. (GRANO LARGO)  PRECISSIMO   \n",
              "38         ATUN    LATA 130 GR. EN HOJUELAS EN AGUA      HERDEZ   \n",
              "\n",
              "                                categoria  grupo  precio      fecha  \\\n",
              "indice                                                                \n",
              "2       ACEITES Y GRASAS VEG. COMESTIBLES  PACIC    43.9 2022-12-26   \n",
              "29            ARROZ Y CEREALES PREPARADOS  PACIC    16.9 2022-12-26   \n",
              "38        PESCADOS Y MARISCOS EN CONSERVA  PACIC    18.5 2022-12-26   \n",
              "\n",
              "        marca_tienda                            tipo_tienda  \\\n",
              "indice                                                        \n",
              "2       MEGA SORIANA  SUPERMERCADO / TIENDA DE AUTOSERVICIO   \n",
              "29      MEGA SORIANA  SUPERMERCADO / TIENDA DE AUTOSERVICIO   \n",
              "38      MEGA SORIANA  SUPERMERCADO / TIENDA DE AUTOSERVICIO   \n",
              "\n",
              "                               nombre_tienda  \\\n",
              "indice                                         \n",
              "2       MEGA SORIANA SUCURSAL AGUASCALIENTES   \n",
              "29      MEGA SORIANA SUCURSAL AGUASCALIENTES   \n",
              "38      MEGA SORIANA SUCURSAL AGUASCALIENTES   \n",
              "\n",
              "                                                direccion          estado  \\\n",
              "indice                                                                      \n",
              "2       AGUASCALIENTES NTE. 802, ESQ. BLVD. A ZACATECA...  AGUASCALIENTES   \n",
              "29      AGUASCALIENTES NTE. 802, ESQ. BLVD. A ZACATECA...  AGUASCALIENTES   \n",
              "38      AGUASCALIENTES NTE. 802, ESQ. BLVD. A ZACATECA...  AGUASCALIENTES   \n",
              "\n",
              "             municipio    latitud    longitud     CP  \n",
              "indice                                                \n",
              "2       AGUASCALIENTES  21.916001 -102.290779  20116  \n",
              "29      AGUASCALIENTES  21.916001 -102.290779  20116  \n",
              "38      AGUASCALIENTES  21.916001 -102.290779  20116  "
            ],
            "text/html": [
              "\n",
              "  <div id=\"df-86bd9aed-c275-4550-b7fc-9c120f44eec3\">\n",
              "    <div class=\"colab-df-container\">\n",
              "      <div>\n",
              "<style scoped>\n",
              "    .dataframe tbody tr th:only-of-type {\n",
              "        vertical-align: middle;\n",
              "    }\n",
              "\n",
              "    .dataframe tbody tr th {\n",
              "        vertical-align: top;\n",
              "    }\n",
              "\n",
              "    .dataframe thead th {\n",
              "        text-align: right;\n",
              "    }\n",
              "</style>\n",
              "<table border=\"1\" class=\"dataframe\">\n",
              "  <thead>\n",
              "    <tr style=\"text-align: right;\">\n",
              "      <th></th>\n",
              "      <th>producto</th>\n",
              "      <th>presentacion</th>\n",
              "      <th>marca</th>\n",
              "      <th>categoria</th>\n",
              "      <th>grupo</th>\n",
              "      <th>precio</th>\n",
              "      <th>fecha</th>\n",
              "      <th>marca_tienda</th>\n",
              "      <th>tipo_tienda</th>\n",
              "      <th>nombre_tienda</th>\n",
              "      <th>direccion</th>\n",
              "      <th>estado</th>\n",
              "      <th>municipio</th>\n",
              "      <th>latitud</th>\n",
              "      <th>longitud</th>\n",
              "      <th>CP</th>\n",
              "    </tr>\n",
              "    <tr>\n",
              "      <th>indice</th>\n",
              "      <th></th>\n",
              "      <th></th>\n",
              "      <th></th>\n",
              "      <th></th>\n",
              "      <th></th>\n",
              "      <th></th>\n",
              "      <th></th>\n",
              "      <th></th>\n",
              "      <th></th>\n",
              "      <th></th>\n",
              "      <th></th>\n",
              "      <th></th>\n",
              "      <th></th>\n",
              "      <th></th>\n",
              "      <th></th>\n",
              "      <th></th>\n",
              "    </tr>\n",
              "  </thead>\n",
              "  <tbody>\n",
              "    <tr>\n",
              "      <th>2</th>\n",
              "      <td>ACEITE</td>\n",
              "      <td>BOTELLA 850 ML. VEGETAL</td>\n",
              "      <td>AVE</td>\n",
              "      <td>ACEITES Y GRASAS VEG. COMESTIBLES</td>\n",
              "      <td>PACIC</td>\n",
              "      <td>43.9</td>\n",
              "      <td>2022-12-26</td>\n",
              "      <td>MEGA SORIANA</td>\n",
              "      <td>SUPERMERCADO / TIENDA DE AUTOSERVICIO</td>\n",
              "      <td>MEGA SORIANA SUCURSAL AGUASCALIENTES</td>\n",
              "      <td>AGUASCALIENTES NTE. 802, ESQ. BLVD. A ZACATECA...</td>\n",
              "      <td>AGUASCALIENTES</td>\n",
              "      <td>AGUASCALIENTES</td>\n",
              "      <td>21.916001</td>\n",
              "      <td>-102.290779</td>\n",
              "      <td>20116</td>\n",
              "    </tr>\n",
              "    <tr>\n",
              "      <th>29</th>\n",
              "      <td>ARROZ</td>\n",
              "      <td>BOLSA 900 GR. EXTRA. (GRANO LARGO)</td>\n",
              "      <td>PRECISSIMO</td>\n",
              "      <td>ARROZ Y CEREALES PREPARADOS</td>\n",
              "      <td>PACIC</td>\n",
              "      <td>16.9</td>\n",
              "      <td>2022-12-26</td>\n",
              "      <td>MEGA SORIANA</td>\n",
              "      <td>SUPERMERCADO / TIENDA DE AUTOSERVICIO</td>\n",
              "      <td>MEGA SORIANA SUCURSAL AGUASCALIENTES</td>\n",
              "      <td>AGUASCALIENTES NTE. 802, ESQ. BLVD. A ZACATECA...</td>\n",
              "      <td>AGUASCALIENTES</td>\n",
              "      <td>AGUASCALIENTES</td>\n",
              "      <td>21.916001</td>\n",
              "      <td>-102.290779</td>\n",
              "      <td>20116</td>\n",
              "    </tr>\n",
              "    <tr>\n",
              "      <th>38</th>\n",
              "      <td>ATUN</td>\n",
              "      <td>LATA 130 GR. EN HOJUELAS EN AGUA</td>\n",
              "      <td>HERDEZ</td>\n",
              "      <td>PESCADOS Y MARISCOS EN CONSERVA</td>\n",
              "      <td>PACIC</td>\n",
              "      <td>18.5</td>\n",
              "      <td>2022-12-26</td>\n",
              "      <td>MEGA SORIANA</td>\n",
              "      <td>SUPERMERCADO / TIENDA DE AUTOSERVICIO</td>\n",
              "      <td>MEGA SORIANA SUCURSAL AGUASCALIENTES</td>\n",
              "      <td>AGUASCALIENTES NTE. 802, ESQ. BLVD. A ZACATECA...</td>\n",
              "      <td>AGUASCALIENTES</td>\n",
              "      <td>AGUASCALIENTES</td>\n",
              "      <td>21.916001</td>\n",
              "      <td>-102.290779</td>\n",
              "      <td>20116</td>\n",
              "    </tr>\n",
              "  </tbody>\n",
              "</table>\n",
              "</div>\n",
              "      <button class=\"colab-df-convert\" onclick=\"convertToInteractive('df-86bd9aed-c275-4550-b7fc-9c120f44eec3')\"\n",
              "              title=\"Convert this dataframe to an interactive table.\"\n",
              "              style=\"display:none;\">\n",
              "        \n",
              "  <svg xmlns=\"http://www.w3.org/2000/svg\" height=\"24px\"viewBox=\"0 0 24 24\"\n",
              "       width=\"24px\">\n",
              "    <path d=\"M0 0h24v24H0V0z\" fill=\"none\"/>\n",
              "    <path d=\"M18.56 5.44l.94 2.06.94-2.06 2.06-.94-2.06-.94-.94-2.06-.94 2.06-2.06.94zm-11 1L8.5 8.5l.94-2.06 2.06-.94-2.06-.94L8.5 2.5l-.94 2.06-2.06.94zm10 10l.94 2.06.94-2.06 2.06-.94-2.06-.94-.94-2.06-.94 2.06-2.06.94z\"/><path d=\"M17.41 7.96l-1.37-1.37c-.4-.4-.92-.59-1.43-.59-.52 0-1.04.2-1.43.59L10.3 9.45l-7.72 7.72c-.78.78-.78 2.05 0 2.83L4 21.41c.39.39.9.59 1.41.59.51 0 1.02-.2 1.41-.59l7.78-7.78 2.81-2.81c.8-.78.8-2.07 0-2.86zM5.41 20L4 18.59l7.72-7.72 1.47 1.35L5.41 20z\"/>\n",
              "  </svg>\n",
              "      </button>\n",
              "      \n",
              "  <style>\n",
              "    .colab-df-container {\n",
              "      display:flex;\n",
              "      flex-wrap:wrap;\n",
              "      gap: 12px;\n",
              "    }\n",
              "\n",
              "    .colab-df-convert {\n",
              "      background-color: #E8F0FE;\n",
              "      border: none;\n",
              "      border-radius: 50%;\n",
              "      cursor: pointer;\n",
              "      display: none;\n",
              "      fill: #1967D2;\n",
              "      height: 32px;\n",
              "      padding: 0 0 0 0;\n",
              "      width: 32px;\n",
              "    }\n",
              "\n",
              "    .colab-df-convert:hover {\n",
              "      background-color: #E2EBFA;\n",
              "      box-shadow: 0px 1px 2px rgba(60, 64, 67, 0.3), 0px 1px 3px 1px rgba(60, 64, 67, 0.15);\n",
              "      fill: #174EA6;\n",
              "    }\n",
              "\n",
              "    [theme=dark] .colab-df-convert {\n",
              "      background-color: #3B4455;\n",
              "      fill: #D2E3FC;\n",
              "    }\n",
              "\n",
              "    [theme=dark] .colab-df-convert:hover {\n",
              "      background-color: #434B5C;\n",
              "      box-shadow: 0px 1px 3px 1px rgba(0, 0, 0, 0.15);\n",
              "      filter: drop-shadow(0px 1px 2px rgba(0, 0, 0, 0.3));\n",
              "      fill: #FFFFFF;\n",
              "    }\n",
              "  </style>\n",
              "\n",
              "      <script>\n",
              "        const buttonEl =\n",
              "          document.querySelector('#df-86bd9aed-c275-4550-b7fc-9c120f44eec3 button.colab-df-convert');\n",
              "        buttonEl.style.display =\n",
              "          google.colab.kernel.accessAllowed ? 'block' : 'none';\n",
              "\n",
              "        async function convertToInteractive(key) {\n",
              "          const element = document.querySelector('#df-86bd9aed-c275-4550-b7fc-9c120f44eec3');\n",
              "          const dataTable =\n",
              "            await google.colab.kernel.invokeFunction('convertToInteractive',\n",
              "                                                     [key], {});\n",
              "          if (!dataTable) return;\n",
              "\n",
              "          const docLinkHtml = 'Like what you see? Visit the ' +\n",
              "            '<a target=\"_blank\" href=https://colab.research.google.com/notebooks/data_table.ipynb>data table notebook</a>'\n",
              "            + ' to learn more about interactive tables.';\n",
              "          element.innerHTML = '';\n",
              "          dataTable['output_type'] = 'display_data';\n",
              "          await google.colab.output.renderOutput(dataTable, element);\n",
              "          const docLink = document.createElement('div');\n",
              "          docLink.innerHTML = docLinkHtml;\n",
              "          element.appendChild(docLink);\n",
              "        }\n",
              "      </script>\n",
              "    </div>\n",
              "  </div>\n",
              "  "
            ]
          },
          "metadata": {},
          "execution_count": 27
        }
      ]
    },
    {
      "cell_type": "markdown",
      "source": [
        "# POSTWORK 8"
      ],
      "metadata": {
        "id": "H2-cYPh00Hps"
      }
    },
    {
      "cell_type": "markdown",
      "source": [
        "Este módulo se llamó Procesamiento de Datos con Python. Eso significa que nuestro objetivo era aprender a adquirir, leer, explorar, limpiar, transformar y estructurar un conjunto de datos para prepararlo para su futuro análisis y visualización. Hasta ahora seguramente habrás realizado ya gran parte de esos procesos. Lo que toca ahora es embellecerlos y ordenarlos.\n",
        "\n",
        "Este último Postwork tiene 2 Partes:\n",
        "\n",
        "* La primera parte consiste en tomar todo lo que hemos hecho hasta ahora y colocarlo limpio y ordenado en un Jupyter Notebook. Una de las maravillas de los Jupyter Notebooks es que nos permiten intercalar texto con código, de manera que podamos ir \"guiando\" al lector a través de nuestro hilo de pensamiento. Bueno, imagina que quieres explicarle a alguien todo lo que has hecho usando solamente un Jupyter Notebook. No puedes hablar con esta persona ni aclararle cosas: todo debe de estar clarificado en el Notebook. Para embellecer un poco tus celdas de texto, puedes usar lenguaje Markdown. Asegúrate de empezar con una introducción donde hables acerca del tema que te llamó la atención. Explica por qué quisiste abordar este tema, cuáles fueron tus preguntas iniciales, y el problema que te gustaría resolver.\n",
        "La segunda parte consiste en hacer planes para el futuro. El Procesamiento de Datos es sólo la fase \"preparatoria\". Después siguen las tres fases que le terminan de dar forma a todo proyecto de Ciencia de Datos: Análisis Estadístico, Visualización y Predicción/Inferencia. Esta última fase (Predicción) no siempre está presente y no siempre es necesaria. Pero el Análisis Estadístico y la Visualización son partes intrínsecas de la Ciencia de Datos. \n",
        "\n",
        "* La segunda parte de este Postwork consiste en hacer planes a futuro. Piensa qué puedes hacer con los datos que tienes. ¿Qué te gustaría analizar? ¿Qué información está disponible en tus datos? ¿Cómo podrías ayudarte a entender mejor los datos usando gráficas y visualizaciones? Haz una lista de tus planes a futuro. Seguramente esa lista irá cambiando conforme avances en el siguiente módulo, pero es un gran comienzo para tener una dirección clara."
      ],
      "metadata": {
        "id": "xZtrQh741fJ2"
      }
    },
    {
      "cell_type": "code",
      "source": [
        "!pip install mpu\n"
      ],
      "metadata": {
        "colab": {
          "base_uri": "https://localhost:8080/"
        },
        "id": "CC981tMX_r_3",
        "outputId": "d6bde5f4-7322-4bfc-e8c7-17e29fa764e7"
      },
      "execution_count": null,
      "outputs": [
        {
          "output_type": "stream",
          "name": "stdout",
          "text": [
            "Looking in indexes: https://pypi.org/simple, https://us-python.pkg.dev/colab-wheels/public/simple/\n",
            "Collecting mpu\n",
            "  Downloading mpu-0.23.1-py3-none-any.whl (69 kB)\n",
            "\u001b[?25l     \u001b[90m━━━━━━━━━━━━━━━━━━━━━━━━━━━━━━━━━━━━━━━━\u001b[0m \u001b[32m0.0/69.7 KB\u001b[0m \u001b[31m?\u001b[0m eta \u001b[36m-:--:--\u001b[0m\r\u001b[2K     \u001b[90m━━━━━━━━━━━━━━━━━━━━━━━━━━━━━━━━━━━━━━━━\u001b[0m \u001b[32m69.7/69.7 KB\u001b[0m \u001b[31m3.1 MB/s\u001b[0m eta \u001b[36m0:00:00\u001b[0m\n",
            "\u001b[?25hInstalling collected packages: mpu\n",
            "Successfully installed mpu-0.23.1\n"
          ]
        }
      ]
    },
    {
      "cell_type": "code",
      "source": [
        "import mpu"
      ],
      "metadata": {
        "id": "pWD5dpAuKPkN"
      },
      "execution_count": null,
      "outputs": []
    },
    {
      "cell_type": "code",
      "source": [
        "munich = (48.1372, 11.5756)\n",
        "berlin = (52.5186, 13.4083)\n",
        "round(mpu.haversine_distance(munich, berlin), 1)\n"
      ],
      "metadata": {
        "colab": {
          "base_uri": "https://localhost:8080/"
        },
        "id": "MrYx30up_-wa",
        "outputId": "0a14afcd-6d09-45da-a1aa-98d246e24bc4"
      },
      "execution_count": null,
      "outputs": [
        {
          "output_type": "execute_result",
          "data": {
            "text/plain": [
              "504.2"
            ]
          },
          "metadata": {},
          "execution_count": 10
        }
      ]
    }
  ]
}